{
 "cells": [
  {
   "cell_type": "markdown",
   "id": "68297844",
   "metadata": {
    "toc": true
   },
   "source": [
    "<h1>Table of Contents<span class=\"tocSkip\"></span></h1>\n",
    "<div class=\"toc\"><ul class=\"toc-item\"><li><span><a href=\"#Flight-Delay\" data-toc-modified-id=\"Flight-Delay-1\"><span class=\"toc-item-num\">1&nbsp;&nbsp;</span>Flight Delay</a></span><ul class=\"toc-item\"><li><span><a href=\"#Загрузка-данных\" data-toc-modified-id=\"Загрузка-данных-1.1\"><span class=\"toc-item-num\">1.1&nbsp;&nbsp;</span>Загрузка данных</a></span></li><li><span><a href=\"#Ознакомление-с-данными\" data-toc-modified-id=\"Ознакомление-с-данными-1.2\"><span class=\"toc-item-num\">1.2&nbsp;&nbsp;</span>Ознакомление с данными</a></span></li><li><span><a href=\"#Подготовка-данных\" data-toc-modified-id=\"Подготовка-данных-1.3\"><span class=\"toc-item-num\">1.3&nbsp;&nbsp;</span>Подготовка данных</a></span></li><li><span><a href=\"#Найти-аэропорт-с-минимальной-задержкой-вылета\" data-toc-modified-id=\"Найти-аэропорт-с-минимальной-задержкой-вылета-1.4\"><span class=\"toc-item-num\">1.4&nbsp;&nbsp;</span>Найти аэропорт с минимальной задержкой вылета</a></span></li><li><span><a href=\"#Самая-пунктуальная-авиакомпания-на-прилет-в-Los-Angeles-International-Airport\" data-toc-modified-id=\"Самая-пунктуальная-авиакомпания-на-прилет-в-Los-Angeles-International-Airport-1.5\"><span class=\"toc-item-num\">1.5&nbsp;&nbsp;</span>Самая пунктуальная авиакомпания на прилет в Los Angeles International Airport</a></span></li><li><span><a href=\"#Найти-аэропорт,-где-самолёты-проводят-больше-всего-времени-на-рулении-(среднее-значение)\" data-toc-modified-id=\"Найти-аэропорт,-где-самолёты-проводят-больше-всего-времени-на-рулении-(среднее-значение)-1.6\"><span class=\"toc-item-num\">1.6&nbsp;&nbsp;</span>Найти аэропорт, где самолёты проводят больше всего времени на рулении (среднее значение)</a></span></li><li><span><a href=\"#Построить-модель-которая-будет-выбирать-топ-3-аэропорта-прилета-(вероятность-опоздания-минимальная-–-RMSE-метрика),-в-зависимости-от-аэропорта-вылета\" data-toc-modified-id=\"Построить-модель-которая-будет-выбирать-топ-3-аэропорта-прилета-(вероятность-опоздания-минимальная-–-RMSE-метрика),-в-зависимости-от-аэропорта-вылета-1.7\"><span class=\"toc-item-num\">1.7&nbsp;&nbsp;</span>Построить модель которая будет выбирать топ 3 аэропорта прилета (вероятность опоздания минимальная – RMSE метрика), в зависимости от аэропорта вылета</a></span></li></ul></li></ul></div>"
   ]
  },
  {
   "cell_type": "markdown",
   "id": "8189edaa",
   "metadata": {},
   "source": [
    "# Flight Delay"
   ]
  },
  {
   "cell_type": "markdown",
   "id": "7f2330f1",
   "metadata": {},
   "source": [
    "## Загрузка данных"
   ]
  },
  {
   "cell_type": "code",
   "execution_count": 108,
   "id": "b46f5235",
   "metadata": {},
   "outputs": [],
   "source": [
    "import pandas as pd\n",
    "import numpy as np\n",
    "import seaborn as sns\n",
    "import matplotlib.pyplot as plt\n",
    "import datetime"
   ]
  },
  {
   "cell_type": "code",
   "execution_count": 109,
   "id": "426a999c",
   "metadata": {},
   "outputs": [
    {
     "name": "stderr",
     "output_type": "stream",
     "text": [
      "C:\\Users\\user\\anaconda3\\lib\\site-packages\\IPython\\core\\interactiveshell.py:3165: DtypeWarning: Columns (7,8) have mixed types.Specify dtype option on import or set low_memory=False.\n",
      "  has_raised = await self.run_ast_nodes(code_ast.body, cell_name,\n"
     ]
    }
   ],
   "source": [
    "df_airlines = pd.read_csv('airlines.csv')\n",
    "df_airports = pd.read_csv('airports.csv')\n",
    "df_flights = pd.read_csv('flights.csv')"
   ]
  },
  {
   "cell_type": "code",
   "execution_count": 110,
   "id": "1e321e5b",
   "metadata": {},
   "outputs": [
    {
     "data": {
      "text/html": [
       "<div>\n",
       "<style scoped>\n",
       "    .dataframe tbody tr th:only-of-type {\n",
       "        vertical-align: middle;\n",
       "    }\n",
       "\n",
       "    .dataframe tbody tr th {\n",
       "        vertical-align: top;\n",
       "    }\n",
       "\n",
       "    .dataframe thead th {\n",
       "        text-align: right;\n",
       "    }\n",
       "</style>\n",
       "<table border=\"1\" class=\"dataframe\">\n",
       "  <thead>\n",
       "    <tr style=\"text-align: right;\">\n",
       "      <th></th>\n",
       "      <th>IATA_CODE</th>\n",
       "      <th>AIRLINE</th>\n",
       "    </tr>\n",
       "  </thead>\n",
       "  <tbody>\n",
       "    <tr>\n",
       "      <th>9</th>\n",
       "      <td>DL</td>\n",
       "      <td>Delta Air Lines Inc.</td>\n",
       "    </tr>\n",
       "    <tr>\n",
       "      <th>10</th>\n",
       "      <td>EV</td>\n",
       "      <td>Atlantic Southeast Airlines</td>\n",
       "    </tr>\n",
       "    <tr>\n",
       "      <th>11</th>\n",
       "      <td>HA</td>\n",
       "      <td>Hawaiian Airlines Inc.</td>\n",
       "    </tr>\n",
       "    <tr>\n",
       "      <th>12</th>\n",
       "      <td>MQ</td>\n",
       "      <td>American Eagle Airlines Inc.</td>\n",
       "    </tr>\n",
       "    <tr>\n",
       "      <th>13</th>\n",
       "      <td>VX</td>\n",
       "      <td>Virgin America</td>\n",
       "    </tr>\n",
       "  </tbody>\n",
       "</table>\n",
       "</div>"
      ],
      "text/plain": [
       "   IATA_CODE                       AIRLINE\n",
       "9         DL          Delta Air Lines Inc.\n",
       "10        EV   Atlantic Southeast Airlines\n",
       "11        HA        Hawaiian Airlines Inc.\n",
       "12        MQ  American Eagle Airlines Inc.\n",
       "13        VX                Virgin America"
      ]
     },
     "execution_count": 110,
     "metadata": {},
     "output_type": "execute_result"
    }
   ],
   "source": [
    "df_airlines.tail()"
   ]
  },
  {
   "cell_type": "code",
   "execution_count": 111,
   "id": "8e87919b",
   "metadata": {},
   "outputs": [
    {
     "data": {
      "text/html": [
       "<div>\n",
       "<style scoped>\n",
       "    .dataframe tbody tr th:only-of-type {\n",
       "        vertical-align: middle;\n",
       "    }\n",
       "\n",
       "    .dataframe tbody tr th {\n",
       "        vertical-align: top;\n",
       "    }\n",
       "\n",
       "    .dataframe thead th {\n",
       "        text-align: right;\n",
       "    }\n",
       "</style>\n",
       "<table border=\"1\" class=\"dataframe\">\n",
       "  <thead>\n",
       "    <tr style=\"text-align: right;\">\n",
       "      <th></th>\n",
       "      <th>IATA_CODE</th>\n",
       "      <th>AIRPORT</th>\n",
       "      <th>CITY</th>\n",
       "      <th>STATE</th>\n",
       "      <th>COUNTRY</th>\n",
       "      <th>LATITUDE</th>\n",
       "      <th>LONGITUDE</th>\n",
       "    </tr>\n",
       "  </thead>\n",
       "  <tbody>\n",
       "    <tr>\n",
       "      <th>317</th>\n",
       "      <td>WRG</td>\n",
       "      <td>Wrangell Airport</td>\n",
       "      <td>Wrangell</td>\n",
       "      <td>AK</td>\n",
       "      <td>USA</td>\n",
       "      <td>56.48433</td>\n",
       "      <td>-132.36982</td>\n",
       "    </tr>\n",
       "    <tr>\n",
       "      <th>318</th>\n",
       "      <td>WYS</td>\n",
       "      <td>Westerly State Airport</td>\n",
       "      <td>West Yellowstone</td>\n",
       "      <td>MT</td>\n",
       "      <td>USA</td>\n",
       "      <td>44.68840</td>\n",
       "      <td>-111.11764</td>\n",
       "    </tr>\n",
       "    <tr>\n",
       "      <th>319</th>\n",
       "      <td>XNA</td>\n",
       "      <td>Northwest Arkansas Regional Airport</td>\n",
       "      <td>Fayetteville/Springdale/Rogers</td>\n",
       "      <td>AR</td>\n",
       "      <td>USA</td>\n",
       "      <td>36.28187</td>\n",
       "      <td>-94.30681</td>\n",
       "    </tr>\n",
       "    <tr>\n",
       "      <th>320</th>\n",
       "      <td>YAK</td>\n",
       "      <td>Yakutat Airport</td>\n",
       "      <td>Yakutat</td>\n",
       "      <td>AK</td>\n",
       "      <td>USA</td>\n",
       "      <td>59.50336</td>\n",
       "      <td>-139.66023</td>\n",
       "    </tr>\n",
       "    <tr>\n",
       "      <th>321</th>\n",
       "      <td>YUM</td>\n",
       "      <td>Yuma International Airport</td>\n",
       "      <td>Yuma</td>\n",
       "      <td>AZ</td>\n",
       "      <td>USA</td>\n",
       "      <td>32.65658</td>\n",
       "      <td>-114.60597</td>\n",
       "    </tr>\n",
       "  </tbody>\n",
       "</table>\n",
       "</div>"
      ],
      "text/plain": [
       "    IATA_CODE                              AIRPORT  \\\n",
       "317       WRG                     Wrangell Airport   \n",
       "318       WYS               Westerly State Airport   \n",
       "319       XNA  Northwest Arkansas Regional Airport   \n",
       "320       YAK                      Yakutat Airport   \n",
       "321       YUM           Yuma International Airport   \n",
       "\n",
       "                               CITY STATE COUNTRY  LATITUDE  LONGITUDE  \n",
       "317                        Wrangell    AK     USA  56.48433 -132.36982  \n",
       "318                West Yellowstone    MT     USA  44.68840 -111.11764  \n",
       "319  Fayetteville/Springdale/Rogers    AR     USA  36.28187  -94.30681  \n",
       "320                         Yakutat    AK     USA  59.50336 -139.66023  \n",
       "321                            Yuma    AZ     USA  32.65658 -114.60597  "
      ]
     },
     "execution_count": 111,
     "metadata": {},
     "output_type": "execute_result"
    }
   ],
   "source": [
    "df_airports.tail()"
   ]
  },
  {
   "cell_type": "code",
   "execution_count": 112,
   "id": "c0f307c2",
   "metadata": {},
   "outputs": [
    {
     "data": {
      "text/html": [
       "<div>\n",
       "<style scoped>\n",
       "    .dataframe tbody tr th:only-of-type {\n",
       "        vertical-align: middle;\n",
       "    }\n",
       "\n",
       "    .dataframe tbody tr th {\n",
       "        vertical-align: top;\n",
       "    }\n",
       "\n",
       "    .dataframe thead th {\n",
       "        text-align: right;\n",
       "    }\n",
       "</style>\n",
       "<table border=\"1\" class=\"dataframe\">\n",
       "  <thead>\n",
       "    <tr style=\"text-align: right;\">\n",
       "      <th></th>\n",
       "      <th>YEAR</th>\n",
       "      <th>MONTH</th>\n",
       "      <th>DAY</th>\n",
       "      <th>DAY_OF_WEEK</th>\n",
       "      <th>AIRLINE</th>\n",
       "      <th>FLIGHT_NUMBER</th>\n",
       "      <th>TAIL_NUMBER</th>\n",
       "      <th>ORIGIN_AIRPORT</th>\n",
       "      <th>DESTINATION_AIRPORT</th>\n",
       "      <th>SCHEDULED_DEPARTURE</th>\n",
       "      <th>...</th>\n",
       "      <th>ARRIVAL_TIME</th>\n",
       "      <th>ARRIVAL_DELAY</th>\n",
       "      <th>DIVERTED</th>\n",
       "      <th>CANCELLED</th>\n",
       "      <th>CANCELLATION_REASON</th>\n",
       "      <th>AIR_SYSTEM_DELAY</th>\n",
       "      <th>SECURITY_DELAY</th>\n",
       "      <th>AIRLINE_DELAY</th>\n",
       "      <th>LATE_AIRCRAFT_DELAY</th>\n",
       "      <th>WEATHER_DELAY</th>\n",
       "    </tr>\n",
       "  </thead>\n",
       "  <tbody>\n",
       "    <tr>\n",
       "      <th>5819074</th>\n",
       "      <td>2015</td>\n",
       "      <td>12</td>\n",
       "      <td>31</td>\n",
       "      <td>4</td>\n",
       "      <td>B6</td>\n",
       "      <td>688</td>\n",
       "      <td>N657JB</td>\n",
       "      <td>LAX</td>\n",
       "      <td>BOS</td>\n",
       "      <td>2359</td>\n",
       "      <td>...</td>\n",
       "      <td>753.0</td>\n",
       "      <td>-26.0</td>\n",
       "      <td>0</td>\n",
       "      <td>0</td>\n",
       "      <td>NaN</td>\n",
       "      <td>NaN</td>\n",
       "      <td>NaN</td>\n",
       "      <td>NaN</td>\n",
       "      <td>NaN</td>\n",
       "      <td>NaN</td>\n",
       "    </tr>\n",
       "    <tr>\n",
       "      <th>5819075</th>\n",
       "      <td>2015</td>\n",
       "      <td>12</td>\n",
       "      <td>31</td>\n",
       "      <td>4</td>\n",
       "      <td>B6</td>\n",
       "      <td>745</td>\n",
       "      <td>N828JB</td>\n",
       "      <td>JFK</td>\n",
       "      <td>PSE</td>\n",
       "      <td>2359</td>\n",
       "      <td>...</td>\n",
       "      <td>430.0</td>\n",
       "      <td>-16.0</td>\n",
       "      <td>0</td>\n",
       "      <td>0</td>\n",
       "      <td>NaN</td>\n",
       "      <td>NaN</td>\n",
       "      <td>NaN</td>\n",
       "      <td>NaN</td>\n",
       "      <td>NaN</td>\n",
       "      <td>NaN</td>\n",
       "    </tr>\n",
       "    <tr>\n",
       "      <th>5819076</th>\n",
       "      <td>2015</td>\n",
       "      <td>12</td>\n",
       "      <td>31</td>\n",
       "      <td>4</td>\n",
       "      <td>B6</td>\n",
       "      <td>1503</td>\n",
       "      <td>N913JB</td>\n",
       "      <td>JFK</td>\n",
       "      <td>SJU</td>\n",
       "      <td>2359</td>\n",
       "      <td>...</td>\n",
       "      <td>432.0</td>\n",
       "      <td>-8.0</td>\n",
       "      <td>0</td>\n",
       "      <td>0</td>\n",
       "      <td>NaN</td>\n",
       "      <td>NaN</td>\n",
       "      <td>NaN</td>\n",
       "      <td>NaN</td>\n",
       "      <td>NaN</td>\n",
       "      <td>NaN</td>\n",
       "    </tr>\n",
       "    <tr>\n",
       "      <th>5819077</th>\n",
       "      <td>2015</td>\n",
       "      <td>12</td>\n",
       "      <td>31</td>\n",
       "      <td>4</td>\n",
       "      <td>B6</td>\n",
       "      <td>333</td>\n",
       "      <td>N527JB</td>\n",
       "      <td>MCO</td>\n",
       "      <td>SJU</td>\n",
       "      <td>2359</td>\n",
       "      <td>...</td>\n",
       "      <td>330.0</td>\n",
       "      <td>-10.0</td>\n",
       "      <td>0</td>\n",
       "      <td>0</td>\n",
       "      <td>NaN</td>\n",
       "      <td>NaN</td>\n",
       "      <td>NaN</td>\n",
       "      <td>NaN</td>\n",
       "      <td>NaN</td>\n",
       "      <td>NaN</td>\n",
       "    </tr>\n",
       "    <tr>\n",
       "      <th>5819078</th>\n",
       "      <td>2015</td>\n",
       "      <td>12</td>\n",
       "      <td>31</td>\n",
       "      <td>4</td>\n",
       "      <td>B6</td>\n",
       "      <td>839</td>\n",
       "      <td>N534JB</td>\n",
       "      <td>JFK</td>\n",
       "      <td>BQN</td>\n",
       "      <td>2359</td>\n",
       "      <td>...</td>\n",
       "      <td>442.0</td>\n",
       "      <td>2.0</td>\n",
       "      <td>0</td>\n",
       "      <td>0</td>\n",
       "      <td>NaN</td>\n",
       "      <td>NaN</td>\n",
       "      <td>NaN</td>\n",
       "      <td>NaN</td>\n",
       "      <td>NaN</td>\n",
       "      <td>NaN</td>\n",
       "    </tr>\n",
       "  </tbody>\n",
       "</table>\n",
       "<p>5 rows × 31 columns</p>\n",
       "</div>"
      ],
      "text/plain": [
       "         YEAR  MONTH  DAY  DAY_OF_WEEK AIRLINE  FLIGHT_NUMBER TAIL_NUMBER  \\\n",
       "5819074  2015     12   31            4      B6            688      N657JB   \n",
       "5819075  2015     12   31            4      B6            745      N828JB   \n",
       "5819076  2015     12   31            4      B6           1503      N913JB   \n",
       "5819077  2015     12   31            4      B6            333      N527JB   \n",
       "5819078  2015     12   31            4      B6            839      N534JB   \n",
       "\n",
       "        ORIGIN_AIRPORT DESTINATION_AIRPORT  SCHEDULED_DEPARTURE  ...  \\\n",
       "5819074            LAX                 BOS                 2359  ...   \n",
       "5819075            JFK                 PSE                 2359  ...   \n",
       "5819076            JFK                 SJU                 2359  ...   \n",
       "5819077            MCO                 SJU                 2359  ...   \n",
       "5819078            JFK                 BQN                 2359  ...   \n",
       "\n",
       "         ARRIVAL_TIME  ARRIVAL_DELAY  DIVERTED  CANCELLED  \\\n",
       "5819074         753.0          -26.0         0          0   \n",
       "5819075         430.0          -16.0         0          0   \n",
       "5819076         432.0           -8.0         0          0   \n",
       "5819077         330.0          -10.0         0          0   \n",
       "5819078         442.0            2.0         0          0   \n",
       "\n",
       "         CANCELLATION_REASON  AIR_SYSTEM_DELAY  SECURITY_DELAY  AIRLINE_DELAY  \\\n",
       "5819074                  NaN               NaN             NaN            NaN   \n",
       "5819075                  NaN               NaN             NaN            NaN   \n",
       "5819076                  NaN               NaN             NaN            NaN   \n",
       "5819077                  NaN               NaN             NaN            NaN   \n",
       "5819078                  NaN               NaN             NaN            NaN   \n",
       "\n",
       "         LATE_AIRCRAFT_DELAY  WEATHER_DELAY  \n",
       "5819074                  NaN            NaN  \n",
       "5819075                  NaN            NaN  \n",
       "5819076                  NaN            NaN  \n",
       "5819077                  NaN            NaN  \n",
       "5819078                  NaN            NaN  \n",
       "\n",
       "[5 rows x 31 columns]"
      ]
     },
     "execution_count": 112,
     "metadata": {},
     "output_type": "execute_result"
    }
   ],
   "source": [
    "df_flights.tail()"
   ]
  },
  {
   "cell_type": "markdown",
   "id": "e823d962",
   "metadata": {},
   "source": [
    "## Ознакомление с данными"
   ]
  },
  {
   "cell_type": "code",
   "execution_count": 113,
   "id": "78c42aee",
   "metadata": {},
   "outputs": [
    {
     "name": "stdout",
     "output_type": "stream",
     "text": [
      "<class 'pandas.core.frame.DataFrame'>\n",
      "RangeIndex: 5819079 entries, 0 to 5819078\n",
      "Data columns (total 31 columns):\n",
      " #   Column               Dtype  \n",
      "---  ------               -----  \n",
      " 0   YEAR                 int64  \n",
      " 1   MONTH                int64  \n",
      " 2   DAY                  int64  \n",
      " 3   DAY_OF_WEEK          int64  \n",
      " 4   AIRLINE              object \n",
      " 5   FLIGHT_NUMBER        int64  \n",
      " 6   TAIL_NUMBER          object \n",
      " 7   ORIGIN_AIRPORT       object \n",
      " 8   DESTINATION_AIRPORT  object \n",
      " 9   SCHEDULED_DEPARTURE  int64  \n",
      " 10  DEPARTURE_TIME       float64\n",
      " 11  DEPARTURE_DELAY      float64\n",
      " 12  TAXI_OUT             float64\n",
      " 13  WHEELS_OFF           float64\n",
      " 14  SCHEDULED_TIME       float64\n",
      " 15  ELAPSED_TIME         float64\n",
      " 16  AIR_TIME             float64\n",
      " 17  DISTANCE             int64  \n",
      " 18  WHEELS_ON            float64\n",
      " 19  TAXI_IN              float64\n",
      " 20  SCHEDULED_ARRIVAL    int64  \n",
      " 21  ARRIVAL_TIME         float64\n",
      " 22  ARRIVAL_DELAY        float64\n",
      " 23  DIVERTED             int64  \n",
      " 24  CANCELLED            int64  \n",
      " 25  CANCELLATION_REASON  object \n",
      " 26  AIR_SYSTEM_DELAY     float64\n",
      " 27  SECURITY_DELAY       float64\n",
      " 28  AIRLINE_DELAY        float64\n",
      " 29  LATE_AIRCRAFT_DELAY  float64\n",
      " 30  WEATHER_DELAY        float64\n",
      "dtypes: float64(16), int64(10), object(5)\n",
      "memory usage: 1.3+ GB\n"
     ]
    }
   ],
   "source": [
    "df_flights.info()"
   ]
  },
  {
   "cell_type": "code",
   "execution_count": 114,
   "id": "47e0cd52",
   "metadata": {},
   "outputs": [
    {
     "name": "stdout",
     "output_type": "stream",
     "text": [
      "<class 'pandas.core.frame.DataFrame'>\n",
      "RangeIndex: 14 entries, 0 to 13\n",
      "Data columns (total 2 columns):\n",
      " #   Column     Non-Null Count  Dtype \n",
      "---  ------     --------------  ----- \n",
      " 0   IATA_CODE  14 non-null     object\n",
      " 1   AIRLINE    14 non-null     object\n",
      "dtypes: object(2)\n",
      "memory usage: 352.0+ bytes\n"
     ]
    }
   ],
   "source": [
    "df_airlines.info()"
   ]
  },
  {
   "cell_type": "code",
   "execution_count": 115,
   "id": "c4ac2ff6",
   "metadata": {},
   "outputs": [
    {
     "name": "stdout",
     "output_type": "stream",
     "text": [
      "<class 'pandas.core.frame.DataFrame'>\n",
      "RangeIndex: 322 entries, 0 to 321\n",
      "Data columns (total 7 columns):\n",
      " #   Column     Non-Null Count  Dtype  \n",
      "---  ------     --------------  -----  \n",
      " 0   IATA_CODE  322 non-null    object \n",
      " 1   AIRPORT    322 non-null    object \n",
      " 2   CITY       322 non-null    object \n",
      " 3   STATE      322 non-null    object \n",
      " 4   COUNTRY    322 non-null    object \n",
      " 5   LATITUDE   319 non-null    float64\n",
      " 6   LONGITUDE  319 non-null    float64\n",
      "dtypes: float64(2), object(5)\n",
      "memory usage: 17.7+ KB\n"
     ]
    }
   ],
   "source": [
    "df_airports.info()"
   ]
  },
  {
   "cell_type": "code",
   "execution_count": 116,
   "id": "00db4534",
   "metadata": {
    "scrolled": false
   },
   "outputs": [
    {
     "data": {
      "text/html": [
       "<div>\n",
       "<style scoped>\n",
       "    .dataframe tbody tr th:only-of-type {\n",
       "        vertical-align: middle;\n",
       "    }\n",
       "\n",
       "    .dataframe tbody tr th {\n",
       "        vertical-align: top;\n",
       "    }\n",
       "\n",
       "    .dataframe thead th {\n",
       "        text-align: right;\n",
       "    }\n",
       "</style>\n",
       "<table border=\"1\" class=\"dataframe\">\n",
       "  <thead>\n",
       "    <tr style=\"text-align: right;\">\n",
       "      <th></th>\n",
       "      <th>YEAR</th>\n",
       "      <th>MONTH</th>\n",
       "      <th>DAY</th>\n",
       "      <th>DAY_OF_WEEK</th>\n",
       "      <th>FLIGHT_NUMBER</th>\n",
       "      <th>SCHEDULED_DEPARTURE</th>\n",
       "      <th>DEPARTURE_TIME</th>\n",
       "      <th>DEPARTURE_DELAY</th>\n",
       "      <th>TAXI_OUT</th>\n",
       "      <th>WHEELS_OFF</th>\n",
       "      <th>...</th>\n",
       "      <th>SCHEDULED_ARRIVAL</th>\n",
       "      <th>ARRIVAL_TIME</th>\n",
       "      <th>ARRIVAL_DELAY</th>\n",
       "      <th>DIVERTED</th>\n",
       "      <th>CANCELLED</th>\n",
       "      <th>AIR_SYSTEM_DELAY</th>\n",
       "      <th>SECURITY_DELAY</th>\n",
       "      <th>AIRLINE_DELAY</th>\n",
       "      <th>LATE_AIRCRAFT_DELAY</th>\n",
       "      <th>WEATHER_DELAY</th>\n",
       "    </tr>\n",
       "  </thead>\n",
       "  <tbody>\n",
       "    <tr>\n",
       "      <th>count</th>\n",
       "      <td>5819079.0</td>\n",
       "      <td>5.819079e+06</td>\n",
       "      <td>5.819079e+06</td>\n",
       "      <td>5.819079e+06</td>\n",
       "      <td>5.819079e+06</td>\n",
       "      <td>5.819079e+06</td>\n",
       "      <td>5.732926e+06</td>\n",
       "      <td>5.732926e+06</td>\n",
       "      <td>5.730032e+06</td>\n",
       "      <td>5.730032e+06</td>\n",
       "      <td>...</td>\n",
       "      <td>5.819079e+06</td>\n",
       "      <td>5.726566e+06</td>\n",
       "      <td>5.714008e+06</td>\n",
       "      <td>5.819079e+06</td>\n",
       "      <td>5.819079e+06</td>\n",
       "      <td>1.063439e+06</td>\n",
       "      <td>1.063439e+06</td>\n",
       "      <td>1.063439e+06</td>\n",
       "      <td>1.063439e+06</td>\n",
       "      <td>1.063439e+06</td>\n",
       "    </tr>\n",
       "    <tr>\n",
       "      <th>mean</th>\n",
       "      <td>2015.0</td>\n",
       "      <td>6.524085e+00</td>\n",
       "      <td>1.570459e+01</td>\n",
       "      <td>3.926941e+00</td>\n",
       "      <td>2.173093e+03</td>\n",
       "      <td>1.329602e+03</td>\n",
       "      <td>1.335204e+03</td>\n",
       "      <td>9.370158e+00</td>\n",
       "      <td>1.607166e+01</td>\n",
       "      <td>1.357171e+03</td>\n",
       "      <td>...</td>\n",
       "      <td>1.493808e+03</td>\n",
       "      <td>1.476491e+03</td>\n",
       "      <td>4.407057e+00</td>\n",
       "      <td>2.609863e-03</td>\n",
       "      <td>1.544643e-02</td>\n",
       "      <td>1.348057e+01</td>\n",
       "      <td>7.615387e-02</td>\n",
       "      <td>1.896955e+01</td>\n",
       "      <td>2.347284e+01</td>\n",
       "      <td>2.915290e+00</td>\n",
       "    </tr>\n",
       "    <tr>\n",
       "      <th>std</th>\n",
       "      <td>0.0</td>\n",
       "      <td>3.405137e+00</td>\n",
       "      <td>8.783425e+00</td>\n",
       "      <td>1.988845e+00</td>\n",
       "      <td>1.757064e+03</td>\n",
       "      <td>4.837518e+02</td>\n",
       "      <td>4.964233e+02</td>\n",
       "      <td>3.708094e+01</td>\n",
       "      <td>8.895574e+00</td>\n",
       "      <td>4.980094e+02</td>\n",
       "      <td>...</td>\n",
       "      <td>5.071647e+02</td>\n",
       "      <td>5.263197e+02</td>\n",
       "      <td>3.927130e+01</td>\n",
       "      <td>5.102012e-02</td>\n",
       "      <td>1.233201e-01</td>\n",
       "      <td>2.800368e+01</td>\n",
       "      <td>2.143460e+00</td>\n",
       "      <td>4.816164e+01</td>\n",
       "      <td>4.319702e+01</td>\n",
       "      <td>2.043334e+01</td>\n",
       "    </tr>\n",
       "    <tr>\n",
       "      <th>min</th>\n",
       "      <td>2015.0</td>\n",
       "      <td>1.000000e+00</td>\n",
       "      <td>1.000000e+00</td>\n",
       "      <td>1.000000e+00</td>\n",
       "      <td>1.000000e+00</td>\n",
       "      <td>1.000000e+00</td>\n",
       "      <td>1.000000e+00</td>\n",
       "      <td>-8.200000e+01</td>\n",
       "      <td>1.000000e+00</td>\n",
       "      <td>1.000000e+00</td>\n",
       "      <td>...</td>\n",
       "      <td>1.000000e+00</td>\n",
       "      <td>1.000000e+00</td>\n",
       "      <td>-8.700000e+01</td>\n",
       "      <td>0.000000e+00</td>\n",
       "      <td>0.000000e+00</td>\n",
       "      <td>0.000000e+00</td>\n",
       "      <td>0.000000e+00</td>\n",
       "      <td>0.000000e+00</td>\n",
       "      <td>0.000000e+00</td>\n",
       "      <td>0.000000e+00</td>\n",
       "    </tr>\n",
       "    <tr>\n",
       "      <th>25%</th>\n",
       "      <td>2015.0</td>\n",
       "      <td>4.000000e+00</td>\n",
       "      <td>8.000000e+00</td>\n",
       "      <td>2.000000e+00</td>\n",
       "      <td>7.300000e+02</td>\n",
       "      <td>9.170000e+02</td>\n",
       "      <td>9.210000e+02</td>\n",
       "      <td>-5.000000e+00</td>\n",
       "      <td>1.100000e+01</td>\n",
       "      <td>9.350000e+02</td>\n",
       "      <td>...</td>\n",
       "      <td>1.110000e+03</td>\n",
       "      <td>1.059000e+03</td>\n",
       "      <td>-1.300000e+01</td>\n",
       "      <td>0.000000e+00</td>\n",
       "      <td>0.000000e+00</td>\n",
       "      <td>0.000000e+00</td>\n",
       "      <td>0.000000e+00</td>\n",
       "      <td>0.000000e+00</td>\n",
       "      <td>0.000000e+00</td>\n",
       "      <td>0.000000e+00</td>\n",
       "    </tr>\n",
       "    <tr>\n",
       "      <th>50%</th>\n",
       "      <td>2015.0</td>\n",
       "      <td>7.000000e+00</td>\n",
       "      <td>1.600000e+01</td>\n",
       "      <td>4.000000e+00</td>\n",
       "      <td>1.690000e+03</td>\n",
       "      <td>1.325000e+03</td>\n",
       "      <td>1.330000e+03</td>\n",
       "      <td>-2.000000e+00</td>\n",
       "      <td>1.400000e+01</td>\n",
       "      <td>1.343000e+03</td>\n",
       "      <td>...</td>\n",
       "      <td>1.520000e+03</td>\n",
       "      <td>1.512000e+03</td>\n",
       "      <td>-5.000000e+00</td>\n",
       "      <td>0.000000e+00</td>\n",
       "      <td>0.000000e+00</td>\n",
       "      <td>2.000000e+00</td>\n",
       "      <td>0.000000e+00</td>\n",
       "      <td>2.000000e+00</td>\n",
       "      <td>3.000000e+00</td>\n",
       "      <td>0.000000e+00</td>\n",
       "    </tr>\n",
       "    <tr>\n",
       "      <th>75%</th>\n",
       "      <td>2015.0</td>\n",
       "      <td>9.000000e+00</td>\n",
       "      <td>2.300000e+01</td>\n",
       "      <td>6.000000e+00</td>\n",
       "      <td>3.230000e+03</td>\n",
       "      <td>1.730000e+03</td>\n",
       "      <td>1.740000e+03</td>\n",
       "      <td>7.000000e+00</td>\n",
       "      <td>1.900000e+01</td>\n",
       "      <td>1.754000e+03</td>\n",
       "      <td>...</td>\n",
       "      <td>1.918000e+03</td>\n",
       "      <td>1.917000e+03</td>\n",
       "      <td>8.000000e+00</td>\n",
       "      <td>0.000000e+00</td>\n",
       "      <td>0.000000e+00</td>\n",
       "      <td>1.800000e+01</td>\n",
       "      <td>0.000000e+00</td>\n",
       "      <td>1.900000e+01</td>\n",
       "      <td>2.900000e+01</td>\n",
       "      <td>0.000000e+00</td>\n",
       "    </tr>\n",
       "    <tr>\n",
       "      <th>max</th>\n",
       "      <td>2015.0</td>\n",
       "      <td>1.200000e+01</td>\n",
       "      <td>3.100000e+01</td>\n",
       "      <td>7.000000e+00</td>\n",
       "      <td>9.855000e+03</td>\n",
       "      <td>2.359000e+03</td>\n",
       "      <td>2.400000e+03</td>\n",
       "      <td>1.988000e+03</td>\n",
       "      <td>2.250000e+02</td>\n",
       "      <td>2.400000e+03</td>\n",
       "      <td>...</td>\n",
       "      <td>2.400000e+03</td>\n",
       "      <td>2.400000e+03</td>\n",
       "      <td>1.971000e+03</td>\n",
       "      <td>1.000000e+00</td>\n",
       "      <td>1.000000e+00</td>\n",
       "      <td>1.134000e+03</td>\n",
       "      <td>5.730000e+02</td>\n",
       "      <td>1.971000e+03</td>\n",
       "      <td>1.331000e+03</td>\n",
       "      <td>1.211000e+03</td>\n",
       "    </tr>\n",
       "  </tbody>\n",
       "</table>\n",
       "<p>8 rows × 26 columns</p>\n",
       "</div>"
      ],
      "text/plain": [
       "            YEAR         MONTH           DAY   DAY_OF_WEEK  FLIGHT_NUMBER  \\\n",
       "count  5819079.0  5.819079e+06  5.819079e+06  5.819079e+06   5.819079e+06   \n",
       "mean      2015.0  6.524085e+00  1.570459e+01  3.926941e+00   2.173093e+03   \n",
       "std          0.0  3.405137e+00  8.783425e+00  1.988845e+00   1.757064e+03   \n",
       "min       2015.0  1.000000e+00  1.000000e+00  1.000000e+00   1.000000e+00   \n",
       "25%       2015.0  4.000000e+00  8.000000e+00  2.000000e+00   7.300000e+02   \n",
       "50%       2015.0  7.000000e+00  1.600000e+01  4.000000e+00   1.690000e+03   \n",
       "75%       2015.0  9.000000e+00  2.300000e+01  6.000000e+00   3.230000e+03   \n",
       "max       2015.0  1.200000e+01  3.100000e+01  7.000000e+00   9.855000e+03   \n",
       "\n",
       "       SCHEDULED_DEPARTURE  DEPARTURE_TIME  DEPARTURE_DELAY      TAXI_OUT  \\\n",
       "count         5.819079e+06    5.732926e+06     5.732926e+06  5.730032e+06   \n",
       "mean          1.329602e+03    1.335204e+03     9.370158e+00  1.607166e+01   \n",
       "std           4.837518e+02    4.964233e+02     3.708094e+01  8.895574e+00   \n",
       "min           1.000000e+00    1.000000e+00    -8.200000e+01  1.000000e+00   \n",
       "25%           9.170000e+02    9.210000e+02    -5.000000e+00  1.100000e+01   \n",
       "50%           1.325000e+03    1.330000e+03    -2.000000e+00  1.400000e+01   \n",
       "75%           1.730000e+03    1.740000e+03     7.000000e+00  1.900000e+01   \n",
       "max           2.359000e+03    2.400000e+03     1.988000e+03  2.250000e+02   \n",
       "\n",
       "         WHEELS_OFF  ...  SCHEDULED_ARRIVAL  ARRIVAL_TIME  ARRIVAL_DELAY  \\\n",
       "count  5.730032e+06  ...       5.819079e+06  5.726566e+06   5.714008e+06   \n",
       "mean   1.357171e+03  ...       1.493808e+03  1.476491e+03   4.407057e+00   \n",
       "std    4.980094e+02  ...       5.071647e+02  5.263197e+02   3.927130e+01   \n",
       "min    1.000000e+00  ...       1.000000e+00  1.000000e+00  -8.700000e+01   \n",
       "25%    9.350000e+02  ...       1.110000e+03  1.059000e+03  -1.300000e+01   \n",
       "50%    1.343000e+03  ...       1.520000e+03  1.512000e+03  -5.000000e+00   \n",
       "75%    1.754000e+03  ...       1.918000e+03  1.917000e+03   8.000000e+00   \n",
       "max    2.400000e+03  ...       2.400000e+03  2.400000e+03   1.971000e+03   \n",
       "\n",
       "           DIVERTED     CANCELLED  AIR_SYSTEM_DELAY  SECURITY_DELAY  \\\n",
       "count  5.819079e+06  5.819079e+06      1.063439e+06    1.063439e+06   \n",
       "mean   2.609863e-03  1.544643e-02      1.348057e+01    7.615387e-02   \n",
       "std    5.102012e-02  1.233201e-01      2.800368e+01    2.143460e+00   \n",
       "min    0.000000e+00  0.000000e+00      0.000000e+00    0.000000e+00   \n",
       "25%    0.000000e+00  0.000000e+00      0.000000e+00    0.000000e+00   \n",
       "50%    0.000000e+00  0.000000e+00      2.000000e+00    0.000000e+00   \n",
       "75%    0.000000e+00  0.000000e+00      1.800000e+01    0.000000e+00   \n",
       "max    1.000000e+00  1.000000e+00      1.134000e+03    5.730000e+02   \n",
       "\n",
       "       AIRLINE_DELAY  LATE_AIRCRAFT_DELAY  WEATHER_DELAY  \n",
       "count   1.063439e+06         1.063439e+06   1.063439e+06  \n",
       "mean    1.896955e+01         2.347284e+01   2.915290e+00  \n",
       "std     4.816164e+01         4.319702e+01   2.043334e+01  \n",
       "min     0.000000e+00         0.000000e+00   0.000000e+00  \n",
       "25%     0.000000e+00         0.000000e+00   0.000000e+00  \n",
       "50%     2.000000e+00         3.000000e+00   0.000000e+00  \n",
       "75%     1.900000e+01         2.900000e+01   0.000000e+00  \n",
       "max     1.971000e+03         1.331000e+03   1.211000e+03  \n",
       "\n",
       "[8 rows x 26 columns]"
      ]
     },
     "execution_count": 116,
     "metadata": {},
     "output_type": "execute_result"
    }
   ],
   "source": [
    "df_flights.describe()"
   ]
  },
  {
   "cell_type": "markdown",
   "id": "6be3d677",
   "metadata": {},
   "source": [
    "## Подготовка данных"
   ]
  },
  {
   "cell_type": "code",
   "execution_count": 117,
   "id": "cd4bd82f",
   "metadata": {},
   "outputs": [],
   "source": [
    "#проверка на наличие дубликатов"
   ]
  },
  {
   "cell_type": "code",
   "execution_count": 118,
   "id": "221ab0a1",
   "metadata": {},
   "outputs": [
    {
     "data": {
      "text/plain": [
       "0"
      ]
     },
     "execution_count": 118,
     "metadata": {},
     "output_type": "execute_result"
    }
   ],
   "source": [
    "df_flights.duplicated().sum()"
   ]
  },
  {
   "cell_type": "code",
   "execution_count": 119,
   "id": "6af922c1",
   "metadata": {},
   "outputs": [
    {
     "data": {
      "text/plain": [
       "0"
      ]
     },
     "execution_count": 119,
     "metadata": {},
     "output_type": "execute_result"
    }
   ],
   "source": [
    "df_airports.duplicated().sum()"
   ]
  },
  {
   "cell_type": "code",
   "execution_count": 120,
   "id": "b87fd29b",
   "metadata": {},
   "outputs": [
    {
     "data": {
      "text/plain": [
       "0"
      ]
     },
     "execution_count": 120,
     "metadata": {},
     "output_type": "execute_result"
    }
   ],
   "source": [
    "df_airlines.duplicated().sum()"
   ]
  },
  {
   "cell_type": "code",
   "execution_count": 121,
   "id": "12d515c7",
   "metadata": {},
   "outputs": [
    {
     "data": {
      "text/plain": [
       "YEAR                         0\n",
       "MONTH                        0\n",
       "DAY                          0\n",
       "DAY_OF_WEEK                  0\n",
       "AIRLINE                      0\n",
       "FLIGHT_NUMBER                0\n",
       "TAIL_NUMBER              14721\n",
       "ORIGIN_AIRPORT               0\n",
       "DESTINATION_AIRPORT          0\n",
       "SCHEDULED_DEPARTURE          0\n",
       "DEPARTURE_TIME           86153\n",
       "DEPARTURE_DELAY          86153\n",
       "TAXI_OUT                 89047\n",
       "WHEELS_OFF               89047\n",
       "SCHEDULED_TIME               6\n",
       "ELAPSED_TIME            105071\n",
       "AIR_TIME                105071\n",
       "DISTANCE                     0\n",
       "WHEELS_ON                92513\n",
       "TAXI_IN                  92513\n",
       "SCHEDULED_ARRIVAL            0\n",
       "ARRIVAL_TIME             92513\n",
       "ARRIVAL_DELAY           105071\n",
       "DIVERTED                     0\n",
       "CANCELLED                    0\n",
       "CANCELLATION_REASON    5729195\n",
       "AIR_SYSTEM_DELAY       4755640\n",
       "SECURITY_DELAY         4755640\n",
       "AIRLINE_DELAY          4755640\n",
       "LATE_AIRCRAFT_DELAY    4755640\n",
       "WEATHER_DELAY          4755640\n",
       "dtype: int64"
      ]
     },
     "execution_count": 121,
     "metadata": {},
     "output_type": "execute_result"
    }
   ],
   "source": [
    "#проверка на наличие пропусков\n",
    "df_flights.isna().sum()"
   ]
  },
  {
   "cell_type": "code",
   "execution_count": 122,
   "id": "7c31ab4a",
   "metadata": {},
   "outputs": [
    {
     "data": {
      "text/plain": [
       "IATA_CODE    0\n",
       "AIRLINE      0\n",
       "dtype: int64"
      ]
     },
     "execution_count": 122,
     "metadata": {},
     "output_type": "execute_result"
    }
   ],
   "source": [
    "df_airlines.isna().sum()"
   ]
  },
  {
   "cell_type": "code",
   "execution_count": 123,
   "id": "2982fbec",
   "metadata": {},
   "outputs": [
    {
     "data": {
      "text/plain": [
       "IATA_CODE    0\n",
       "AIRPORT      0\n",
       "CITY         0\n",
       "STATE        0\n",
       "COUNTRY      0\n",
       "LATITUDE     3\n",
       "LONGITUDE    3\n",
       "dtype: int64"
      ]
     },
     "execution_count": 123,
     "metadata": {},
     "output_type": "execute_result"
    }
   ],
   "source": [
    "df_airports.isna().sum()"
   ]
  },
  {
   "cell_type": "code",
   "execution_count": 124,
   "id": "6396400c",
   "metadata": {},
   "outputs": [
    {
     "data": {
      "text/plain": [
       "YEAR                    0.000000\n",
       "MONTH                   0.000000\n",
       "DAY                     0.000000\n",
       "DAY_OF_WEEK             0.000000\n",
       "AIRLINE                 0.000000\n",
       "FLIGHT_NUMBER           0.000000\n",
       "TAIL_NUMBER             0.252978\n",
       "ORIGIN_AIRPORT          0.000000\n",
       "DESTINATION_AIRPORT     0.000000\n",
       "SCHEDULED_DEPARTURE     0.000000\n",
       "DEPARTURE_TIME          1.480526\n",
       "DEPARTURE_DELAY         1.480526\n",
       "TAXI_OUT                1.530259\n",
       "WHEELS_OFF              1.530259\n",
       "SCHEDULED_TIME          0.000103\n",
       "ELAPSED_TIME            1.805629\n",
       "AIR_TIME                1.805629\n",
       "DISTANCE                0.000000\n",
       "WHEELS_ON               1.589822\n",
       "TAXI_IN                 1.589822\n",
       "SCHEDULED_ARRIVAL       0.000000\n",
       "ARRIVAL_TIME            1.589822\n",
       "ARRIVAL_DELAY           1.805629\n",
       "DIVERTED                0.000000\n",
       "CANCELLED               0.000000\n",
       "CANCELLATION_REASON    98.455357\n",
       "AIR_SYSTEM_DELAY       81.724960\n",
       "SECURITY_DELAY         81.724960\n",
       "AIRLINE_DELAY          81.724960\n",
       "LATE_AIRCRAFT_DELAY    81.724960\n",
       "WEATHER_DELAY          81.724960\n",
       "dtype: float64"
      ]
     },
     "execution_count": 124,
     "metadata": {},
     "output_type": "execute_result"
    }
   ],
   "source": [
    "df_flights_NULL = df_flights.isnull().sum()*100/df_flights.shape[0]\n",
    "df_flights_NULL"
   ]
  },
  {
   "cell_type": "code",
   "execution_count": 125,
   "id": "e9dbcd7a",
   "metadata": {},
   "outputs": [],
   "source": [
    "#удаляем строки со значением nan (менее 2% в столбце)\n",
    "\n",
    "df_flights = df_flights.dropna(subset = ['TAIL_NUMBER',\n",
    "                                           'DEPARTURE_TIME',\n",
    "                                           'DEPARTURE_DELAY',\n",
    "                                           'TAXI_OUT',\n",
    "                                           'WHEELS_OFF',\n",
    "                                           'SCHEDULED_TIME',\n",
    "                                           'ELAPSED_TIME',\n",
    "                                           'AIR_TIME',\n",
    "                                           'WHEELS_ON',\n",
    "                                           'TAXI_IN',\n",
    "                                           'ARRIVAL_TIME',\n",
    "                                           'ARRIVAL_DELAY'])"
   ]
  },
  {
   "cell_type": "code",
   "execution_count": 126,
   "id": "6d7afc60",
   "metadata": {},
   "outputs": [],
   "source": [
    "#удаляем столбцы со значительным процентом nan (более 80% в столбце)\n",
    "\n",
    "df_flights = df_flights.drop(['CANCELLATION_REASON',\n",
    "                                  'AIR_SYSTEM_DELAY',\n",
    "                                  'SECURITY_DELAY',\n",
    "                                  'AIRLINE_DELAY',\n",
    "                                  'LATE_AIRCRAFT_DELAY',\n",
    "                                  'WEATHER_DELAY'], axis=1)"
   ]
  },
  {
   "cell_type": "code",
   "execution_count": 127,
   "id": "7203191f",
   "metadata": {},
   "outputs": [
    {
     "data": {
      "text/plain": [
       "0"
      ]
     },
     "execution_count": 127,
     "metadata": {},
     "output_type": "execute_result"
    }
   ],
   "source": [
    "df_flights.isna().sum().sum()"
   ]
  },
  {
   "cell_type": "code",
   "execution_count": 128,
   "id": "7f602461",
   "metadata": {},
   "outputs": [
    {
     "data": {
      "text/html": [
       "<div>\n",
       "<style scoped>\n",
       "    .dataframe tbody tr th:only-of-type {\n",
       "        vertical-align: middle;\n",
       "    }\n",
       "\n",
       "    .dataframe tbody tr th {\n",
       "        vertical-align: top;\n",
       "    }\n",
       "\n",
       "    .dataframe thead th {\n",
       "        text-align: right;\n",
       "    }\n",
       "</style>\n",
       "<table border=\"1\" class=\"dataframe\">\n",
       "  <thead>\n",
       "    <tr style=\"text-align: right;\">\n",
       "      <th></th>\n",
       "      <th>IATA_CODE</th>\n",
       "      <th>AIRPORT</th>\n",
       "      <th>CITY</th>\n",
       "      <th>STATE</th>\n",
       "      <th>COUNTRY</th>\n",
       "      <th>LATITUDE</th>\n",
       "      <th>LONGITUDE</th>\n",
       "    </tr>\n",
       "  </thead>\n",
       "  <tbody>\n",
       "    <tr>\n",
       "      <th>96</th>\n",
       "      <td>ECP</td>\n",
       "      <td>Northwest Florida Beaches International Airport</td>\n",
       "      <td>Panama City</td>\n",
       "      <td>FL</td>\n",
       "      <td>USA</td>\n",
       "      <td>NaN</td>\n",
       "      <td>NaN</td>\n",
       "    </tr>\n",
       "    <tr>\n",
       "      <th>234</th>\n",
       "      <td>PBG</td>\n",
       "      <td>Plattsburgh International Airport</td>\n",
       "      <td>Plattsburgh</td>\n",
       "      <td>NY</td>\n",
       "      <td>USA</td>\n",
       "      <td>NaN</td>\n",
       "      <td>NaN</td>\n",
       "    </tr>\n",
       "    <tr>\n",
       "      <th>313</th>\n",
       "      <td>UST</td>\n",
       "      <td>Northeast Florida Regional Airport (St. August...</td>\n",
       "      <td>St. Augustine</td>\n",
       "      <td>FL</td>\n",
       "      <td>USA</td>\n",
       "      <td>NaN</td>\n",
       "      <td>NaN</td>\n",
       "    </tr>\n",
       "  </tbody>\n",
       "</table>\n",
       "</div>"
      ],
      "text/plain": [
       "    IATA_CODE                                            AIRPORT  \\\n",
       "96        ECP    Northwest Florida Beaches International Airport   \n",
       "234       PBG                  Plattsburgh International Airport   \n",
       "313       UST  Northeast Florida Regional Airport (St. August...   \n",
       "\n",
       "              CITY STATE COUNTRY  LATITUDE  LONGITUDE  \n",
       "96     Panama City    FL     USA       NaN        NaN  \n",
       "234    Plattsburgh    NY     USA       NaN        NaN  \n",
       "313  St. Augustine    FL     USA       NaN        NaN  "
      ]
     },
     "execution_count": 128,
     "metadata": {},
     "output_type": "execute_result"
    }
   ],
   "source": [
    "#строки с nan\n",
    "df_airports[df_airports.isna().any(axis=1)]"
   ]
  },
  {
   "cell_type": "code",
   "execution_count": 129,
   "id": "ea0f9d84",
   "metadata": {},
   "outputs": [],
   "source": [
    "#отсутствующие данные по трем аэропортам можно найти в открытом доступе на ресурсе https://geohack.toolforge.org\n",
    "#Northwest Florida Beaches International Airport (30.358333,-85.795556), \n",
    "#Plattsburgh International Airport(44.650833,-73.468056),\n",
    "#Northeast Florida Regional Airport (29.95925,-81.339722)"
   ]
  },
  {
   "cell_type": "code",
   "execution_count": 130,
   "id": "75bdf40c",
   "metadata": {},
   "outputs": [
    {
     "data": {
      "text/plain": [
       "IATA_CODE    0\n",
       "AIRPORT      0\n",
       "CITY         0\n",
       "STATE        0\n",
       "COUNTRY      0\n",
       "LATITUDE     3\n",
       "LONGITUDE    3\n",
       "dtype: int64"
      ]
     },
     "execution_count": 130,
     "metadata": {},
     "output_type": "execute_result"
    }
   ],
   "source": [
    "#повторяем проверку на nan\n",
    "df_airports.isna().sum()"
   ]
  },
  {
   "cell_type": "code",
   "execution_count": 131,
   "id": "9e29e764",
   "metadata": {},
   "outputs": [
    {
     "data": {
      "text/html": [
       "<div>\n",
       "<style scoped>\n",
       "    .dataframe tbody tr th:only-of-type {\n",
       "        vertical-align: middle;\n",
       "    }\n",
       "\n",
       "    .dataframe tbody tr th {\n",
       "        vertical-align: top;\n",
       "    }\n",
       "\n",
       "    .dataframe thead th {\n",
       "        text-align: right;\n",
       "    }\n",
       "</style>\n",
       "<table border=\"1\" class=\"dataframe\">\n",
       "  <thead>\n",
       "    <tr style=\"text-align: right;\">\n",
       "      <th></th>\n",
       "      <th>YEAR</th>\n",
       "      <th>MONTH</th>\n",
       "      <th>DAY</th>\n",
       "      <th>DAY_OF_WEEK</th>\n",
       "      <th>FLIGHT_NUMBER</th>\n",
       "      <th>SCHEDULED_DEPARTURE</th>\n",
       "      <th>DEPARTURE_TIME</th>\n",
       "      <th>DEPARTURE_DELAY</th>\n",
       "      <th>TAXI_OUT</th>\n",
       "      <th>WHEELS_OFF</th>\n",
       "      <th>...</th>\n",
       "      <th>ELAPSED_TIME</th>\n",
       "      <th>AIR_TIME</th>\n",
       "      <th>DISTANCE</th>\n",
       "      <th>WHEELS_ON</th>\n",
       "      <th>TAXI_IN</th>\n",
       "      <th>SCHEDULED_ARRIVAL</th>\n",
       "      <th>ARRIVAL_TIME</th>\n",
       "      <th>ARRIVAL_DELAY</th>\n",
       "      <th>DIVERTED</th>\n",
       "      <th>CANCELLED</th>\n",
       "    </tr>\n",
       "  </thead>\n",
       "  <tbody>\n",
       "    <tr>\n",
       "      <th>count</th>\n",
       "      <td>5714008.0</td>\n",
       "      <td>5.714008e+06</td>\n",
       "      <td>5.714008e+06</td>\n",
       "      <td>5.714008e+06</td>\n",
       "      <td>5.714008e+06</td>\n",
       "      <td>5.714008e+06</td>\n",
       "      <td>5.714008e+06</td>\n",
       "      <td>5.714008e+06</td>\n",
       "      <td>5.714008e+06</td>\n",
       "      <td>5.714008e+06</td>\n",
       "      <td>...</td>\n",
       "      <td>5.714008e+06</td>\n",
       "      <td>5.714008e+06</td>\n",
       "      <td>5.714008e+06</td>\n",
       "      <td>5.714008e+06</td>\n",
       "      <td>5.714008e+06</td>\n",
       "      <td>5.714008e+06</td>\n",
       "      <td>5.714008e+06</td>\n",
       "      <td>5.714008e+06</td>\n",
       "      <td>5714008.0</td>\n",
       "      <td>5714008.0</td>\n",
       "    </tr>\n",
       "    <tr>\n",
       "      <th>mean</th>\n",
       "      <td>2015.0</td>\n",
       "      <td>6.547799e+00</td>\n",
       "      <td>1.570759e+01</td>\n",
       "      <td>3.932643e+00</td>\n",
       "      <td>2.164384e+03</td>\n",
       "      <td>1.328907e+03</td>\n",
       "      <td>1.335066e+03</td>\n",
       "      <td>9.294842e+00</td>\n",
       "      <td>1.606550e+01</td>\n",
       "      <td>1.357099e+03</td>\n",
       "      <td>...</td>\n",
       "      <td>1.370062e+02</td>\n",
       "      <td>1.135116e+02</td>\n",
       "      <td>8.244569e+02</td>\n",
       "      <td>1.471319e+03</td>\n",
       "      <td>7.429063e+00</td>\n",
       "      <td>1.493187e+03</td>\n",
       "      <td>1.476373e+03</td>\n",
       "      <td>4.407057e+00</td>\n",
       "      <td>0.0</td>\n",
       "      <td>0.0</td>\n",
       "    </tr>\n",
       "    <tr>\n",
       "      <th>std</th>\n",
       "      <td>0.0</td>\n",
       "      <td>3.397421e+00</td>\n",
       "      <td>8.774394e+00</td>\n",
       "      <td>1.985967e+00</td>\n",
       "      <td>1.754706e+03</td>\n",
       "      <td>4.835251e+02</td>\n",
       "      <td>4.964198e+02</td>\n",
       "      <td>3.688972e+01</td>\n",
       "      <td>8.882449e+00</td>\n",
       "      <td>4.980237e+02</td>\n",
       "      <td>...</td>\n",
       "      <td>7.421107e+01</td>\n",
       "      <td>7.223082e+01</td>\n",
       "      <td>6.086620e+02</td>\n",
       "      <td>5.218682e+02</td>\n",
       "      <td>5.618951e+00</td>\n",
       "      <td>5.069011e+02</td>\n",
       "      <td>5.259730e+02</td>\n",
       "      <td>3.927130e+01</td>\n",
       "      <td>0.0</td>\n",
       "      <td>0.0</td>\n",
       "    </tr>\n",
       "    <tr>\n",
       "      <th>min</th>\n",
       "      <td>2015.0</td>\n",
       "      <td>1.000000e+00</td>\n",
       "      <td>1.000000e+00</td>\n",
       "      <td>1.000000e+00</td>\n",
       "      <td>1.000000e+00</td>\n",
       "      <td>1.000000e+00</td>\n",
       "      <td>1.000000e+00</td>\n",
       "      <td>-8.200000e+01</td>\n",
       "      <td>1.000000e+00</td>\n",
       "      <td>1.000000e+00</td>\n",
       "      <td>...</td>\n",
       "      <td>1.400000e+01</td>\n",
       "      <td>7.000000e+00</td>\n",
       "      <td>3.100000e+01</td>\n",
       "      <td>1.000000e+00</td>\n",
       "      <td>1.000000e+00</td>\n",
       "      <td>1.000000e+00</td>\n",
       "      <td>1.000000e+00</td>\n",
       "      <td>-8.700000e+01</td>\n",
       "      <td>0.0</td>\n",
       "      <td>0.0</td>\n",
       "    </tr>\n",
       "    <tr>\n",
       "      <th>25%</th>\n",
       "      <td>2015.0</td>\n",
       "      <td>4.000000e+00</td>\n",
       "      <td>8.000000e+00</td>\n",
       "      <td>2.000000e+00</td>\n",
       "      <td>7.280000e+02</td>\n",
       "      <td>9.160000e+02</td>\n",
       "      <td>9.210000e+02</td>\n",
       "      <td>-5.000000e+00</td>\n",
       "      <td>1.100000e+01</td>\n",
       "      <td>9.350000e+02</td>\n",
       "      <td>...</td>\n",
       "      <td>8.200000e+01</td>\n",
       "      <td>6.000000e+01</td>\n",
       "      <td>3.730000e+02</td>\n",
       "      <td>1.054000e+03</td>\n",
       "      <td>4.000000e+00</td>\n",
       "      <td>1.110000e+03</td>\n",
       "      <td>1.058000e+03</td>\n",
       "      <td>-1.300000e+01</td>\n",
       "      <td>0.0</td>\n",
       "      <td>0.0</td>\n",
       "    </tr>\n",
       "    <tr>\n",
       "      <th>50%</th>\n",
       "      <td>2015.0</td>\n",
       "      <td>7.000000e+00</td>\n",
       "      <td>1.600000e+01</td>\n",
       "      <td>4.000000e+00</td>\n",
       "      <td>1.681000e+03</td>\n",
       "      <td>1.325000e+03</td>\n",
       "      <td>1.330000e+03</td>\n",
       "      <td>-2.000000e+00</td>\n",
       "      <td>1.400000e+01</td>\n",
       "      <td>1.343000e+03</td>\n",
       "      <td>...</td>\n",
       "      <td>1.180000e+02</td>\n",
       "      <td>9.400000e+01</td>\n",
       "      <td>6.500000e+02</td>\n",
       "      <td>1.508000e+03</td>\n",
       "      <td>6.000000e+00</td>\n",
       "      <td>1.520000e+03</td>\n",
       "      <td>1.512000e+03</td>\n",
       "      <td>-5.000000e+00</td>\n",
       "      <td>0.0</td>\n",
       "      <td>0.0</td>\n",
       "    </tr>\n",
       "    <tr>\n",
       "      <th>75%</th>\n",
       "      <td>2015.0</td>\n",
       "      <td>9.000000e+00</td>\n",
       "      <td>2.300000e+01</td>\n",
       "      <td>6.000000e+00</td>\n",
       "      <td>3.211000e+03</td>\n",
       "      <td>1.730000e+03</td>\n",
       "      <td>1.740000e+03</td>\n",
       "      <td>7.000000e+00</td>\n",
       "      <td>1.900000e+01</td>\n",
       "      <td>1.754000e+03</td>\n",
       "      <td>...</td>\n",
       "      <td>1.680000e+02</td>\n",
       "      <td>1.440000e+02</td>\n",
       "      <td>1.065000e+03</td>\n",
       "      <td>1.911000e+03</td>\n",
       "      <td>9.000000e+00</td>\n",
       "      <td>1.917000e+03</td>\n",
       "      <td>1.916000e+03</td>\n",
       "      <td>8.000000e+00</td>\n",
       "      <td>0.0</td>\n",
       "      <td>0.0</td>\n",
       "    </tr>\n",
       "    <tr>\n",
       "      <th>max</th>\n",
       "      <td>2015.0</td>\n",
       "      <td>1.200000e+01</td>\n",
       "      <td>3.100000e+01</td>\n",
       "      <td>7.000000e+00</td>\n",
       "      <td>9.320000e+03</td>\n",
       "      <td>2.359000e+03</td>\n",
       "      <td>2.400000e+03</td>\n",
       "      <td>1.988000e+03</td>\n",
       "      <td>2.250000e+02</td>\n",
       "      <td>2.400000e+03</td>\n",
       "      <td>...</td>\n",
       "      <td>7.660000e+02</td>\n",
       "      <td>6.900000e+02</td>\n",
       "      <td>4.983000e+03</td>\n",
       "      <td>2.400000e+03</td>\n",
       "      <td>2.480000e+02</td>\n",
       "      <td>2.400000e+03</td>\n",
       "      <td>2.400000e+03</td>\n",
       "      <td>1.971000e+03</td>\n",
       "      <td>0.0</td>\n",
       "      <td>0.0</td>\n",
       "    </tr>\n",
       "  </tbody>\n",
       "</table>\n",
       "<p>8 rows × 21 columns</p>\n",
       "</div>"
      ],
      "text/plain": [
       "            YEAR         MONTH           DAY   DAY_OF_WEEK  FLIGHT_NUMBER  \\\n",
       "count  5714008.0  5.714008e+06  5.714008e+06  5.714008e+06   5.714008e+06   \n",
       "mean      2015.0  6.547799e+00  1.570759e+01  3.932643e+00   2.164384e+03   \n",
       "std          0.0  3.397421e+00  8.774394e+00  1.985967e+00   1.754706e+03   \n",
       "min       2015.0  1.000000e+00  1.000000e+00  1.000000e+00   1.000000e+00   \n",
       "25%       2015.0  4.000000e+00  8.000000e+00  2.000000e+00   7.280000e+02   \n",
       "50%       2015.0  7.000000e+00  1.600000e+01  4.000000e+00   1.681000e+03   \n",
       "75%       2015.0  9.000000e+00  2.300000e+01  6.000000e+00   3.211000e+03   \n",
       "max       2015.0  1.200000e+01  3.100000e+01  7.000000e+00   9.320000e+03   \n",
       "\n",
       "       SCHEDULED_DEPARTURE  DEPARTURE_TIME  DEPARTURE_DELAY      TAXI_OUT  \\\n",
       "count         5.714008e+06    5.714008e+06     5.714008e+06  5.714008e+06   \n",
       "mean          1.328907e+03    1.335066e+03     9.294842e+00  1.606550e+01   \n",
       "std           4.835251e+02    4.964198e+02     3.688972e+01  8.882449e+00   \n",
       "min           1.000000e+00    1.000000e+00    -8.200000e+01  1.000000e+00   \n",
       "25%           9.160000e+02    9.210000e+02    -5.000000e+00  1.100000e+01   \n",
       "50%           1.325000e+03    1.330000e+03    -2.000000e+00  1.400000e+01   \n",
       "75%           1.730000e+03    1.740000e+03     7.000000e+00  1.900000e+01   \n",
       "max           2.359000e+03    2.400000e+03     1.988000e+03  2.250000e+02   \n",
       "\n",
       "         WHEELS_OFF  ...  ELAPSED_TIME      AIR_TIME      DISTANCE  \\\n",
       "count  5.714008e+06  ...  5.714008e+06  5.714008e+06  5.714008e+06   \n",
       "mean   1.357099e+03  ...  1.370062e+02  1.135116e+02  8.244569e+02   \n",
       "std    4.980237e+02  ...  7.421107e+01  7.223082e+01  6.086620e+02   \n",
       "min    1.000000e+00  ...  1.400000e+01  7.000000e+00  3.100000e+01   \n",
       "25%    9.350000e+02  ...  8.200000e+01  6.000000e+01  3.730000e+02   \n",
       "50%    1.343000e+03  ...  1.180000e+02  9.400000e+01  6.500000e+02   \n",
       "75%    1.754000e+03  ...  1.680000e+02  1.440000e+02  1.065000e+03   \n",
       "max    2.400000e+03  ...  7.660000e+02  6.900000e+02  4.983000e+03   \n",
       "\n",
       "          WHEELS_ON       TAXI_IN  SCHEDULED_ARRIVAL  ARRIVAL_TIME  \\\n",
       "count  5.714008e+06  5.714008e+06       5.714008e+06  5.714008e+06   \n",
       "mean   1.471319e+03  7.429063e+00       1.493187e+03  1.476373e+03   \n",
       "std    5.218682e+02  5.618951e+00       5.069011e+02  5.259730e+02   \n",
       "min    1.000000e+00  1.000000e+00       1.000000e+00  1.000000e+00   \n",
       "25%    1.054000e+03  4.000000e+00       1.110000e+03  1.058000e+03   \n",
       "50%    1.508000e+03  6.000000e+00       1.520000e+03  1.512000e+03   \n",
       "75%    1.911000e+03  9.000000e+00       1.917000e+03  1.916000e+03   \n",
       "max    2.400000e+03  2.480000e+02       2.400000e+03  2.400000e+03   \n",
       "\n",
       "       ARRIVAL_DELAY   DIVERTED  CANCELLED  \n",
       "count   5.714008e+06  5714008.0  5714008.0  \n",
       "mean    4.407057e+00        0.0        0.0  \n",
       "std     3.927130e+01        0.0        0.0  \n",
       "min    -8.700000e+01        0.0        0.0  \n",
       "25%    -1.300000e+01        0.0        0.0  \n",
       "50%    -5.000000e+00        0.0        0.0  \n",
       "75%     8.000000e+00        0.0        0.0  \n",
       "max     1.971000e+03        0.0        0.0  \n",
       "\n",
       "[8 rows x 21 columns]"
      ]
     },
     "execution_count": 131,
     "metadata": {},
     "output_type": "execute_result"
    }
   ],
   "source": [
    "df_flights.describe()"
   ]
  },
  {
   "cell_type": "code",
   "execution_count": 132,
   "id": "31a60bce",
   "metadata": {
    "scrolled": true
   },
   "outputs": [
    {
     "data": {
      "text/html": [
       "<div>\n",
       "<style scoped>\n",
       "    .dataframe tbody tr th:only-of-type {\n",
       "        vertical-align: middle;\n",
       "    }\n",
       "\n",
       "    .dataframe tbody tr th {\n",
       "        vertical-align: top;\n",
       "    }\n",
       "\n",
       "    .dataframe thead th {\n",
       "        text-align: right;\n",
       "    }\n",
       "</style>\n",
       "<table border=\"1\" class=\"dataframe\">\n",
       "  <thead>\n",
       "    <tr style=\"text-align: right;\">\n",
       "      <th></th>\n",
       "      <th>YEAR</th>\n",
       "      <th>MONTH</th>\n",
       "      <th>DAY</th>\n",
       "      <th>DAY_OF_WEEK</th>\n",
       "      <th>AIRLINE</th>\n",
       "      <th>FLIGHT_NUMBER</th>\n",
       "      <th>TAIL_NUMBER</th>\n",
       "      <th>ORIGIN_AIRPORT</th>\n",
       "      <th>DESTINATION_AIRPORT</th>\n",
       "      <th>SCHEDULED_DEPARTURE</th>\n",
       "      <th>...</th>\n",
       "      <th>ELAPSED_TIME</th>\n",
       "      <th>AIR_TIME</th>\n",
       "      <th>DISTANCE</th>\n",
       "      <th>WHEELS_ON</th>\n",
       "      <th>TAXI_IN</th>\n",
       "      <th>SCHEDULED_ARRIVAL</th>\n",
       "      <th>ARRIVAL_TIME</th>\n",
       "      <th>ARRIVAL_DELAY</th>\n",
       "      <th>DIVERTED</th>\n",
       "      <th>CANCELLED</th>\n",
       "    </tr>\n",
       "  </thead>\n",
       "  <tbody>\n",
       "    <tr>\n",
       "      <th>0</th>\n",
       "      <td>2015</td>\n",
       "      <td>1</td>\n",
       "      <td>1</td>\n",
       "      <td>4</td>\n",
       "      <td>AS</td>\n",
       "      <td>98</td>\n",
       "      <td>N407AS</td>\n",
       "      <td>ANC</td>\n",
       "      <td>SEA</td>\n",
       "      <td>5</td>\n",
       "      <td>...</td>\n",
       "      <td>194.0</td>\n",
       "      <td>169.0</td>\n",
       "      <td>1448</td>\n",
       "      <td>404.0</td>\n",
       "      <td>4.0</td>\n",
       "      <td>430</td>\n",
       "      <td>408.0</td>\n",
       "      <td>-22.0</td>\n",
       "      <td>0</td>\n",
       "      <td>0</td>\n",
       "    </tr>\n",
       "    <tr>\n",
       "      <th>1</th>\n",
       "      <td>2015</td>\n",
       "      <td>1</td>\n",
       "      <td>1</td>\n",
       "      <td>4</td>\n",
       "      <td>AA</td>\n",
       "      <td>2336</td>\n",
       "      <td>N3KUAA</td>\n",
       "      <td>LAX</td>\n",
       "      <td>PBI</td>\n",
       "      <td>10</td>\n",
       "      <td>...</td>\n",
       "      <td>279.0</td>\n",
       "      <td>263.0</td>\n",
       "      <td>2330</td>\n",
       "      <td>737.0</td>\n",
       "      <td>4.0</td>\n",
       "      <td>750</td>\n",
       "      <td>741.0</td>\n",
       "      <td>-9.0</td>\n",
       "      <td>0</td>\n",
       "      <td>0</td>\n",
       "    </tr>\n",
       "    <tr>\n",
       "      <th>2</th>\n",
       "      <td>2015</td>\n",
       "      <td>1</td>\n",
       "      <td>1</td>\n",
       "      <td>4</td>\n",
       "      <td>US</td>\n",
       "      <td>840</td>\n",
       "      <td>N171US</td>\n",
       "      <td>SFO</td>\n",
       "      <td>CLT</td>\n",
       "      <td>20</td>\n",
       "      <td>...</td>\n",
       "      <td>293.0</td>\n",
       "      <td>266.0</td>\n",
       "      <td>2296</td>\n",
       "      <td>800.0</td>\n",
       "      <td>11.0</td>\n",
       "      <td>806</td>\n",
       "      <td>811.0</td>\n",
       "      <td>5.0</td>\n",
       "      <td>0</td>\n",
       "      <td>0</td>\n",
       "    </tr>\n",
       "    <tr>\n",
       "      <th>3</th>\n",
       "      <td>2015</td>\n",
       "      <td>1</td>\n",
       "      <td>1</td>\n",
       "      <td>4</td>\n",
       "      <td>AA</td>\n",
       "      <td>258</td>\n",
       "      <td>N3HYAA</td>\n",
       "      <td>LAX</td>\n",
       "      <td>MIA</td>\n",
       "      <td>20</td>\n",
       "      <td>...</td>\n",
       "      <td>281.0</td>\n",
       "      <td>258.0</td>\n",
       "      <td>2342</td>\n",
       "      <td>748.0</td>\n",
       "      <td>8.0</td>\n",
       "      <td>805</td>\n",
       "      <td>756.0</td>\n",
       "      <td>-9.0</td>\n",
       "      <td>0</td>\n",
       "      <td>0</td>\n",
       "    </tr>\n",
       "    <tr>\n",
       "      <th>4</th>\n",
       "      <td>2015</td>\n",
       "      <td>1</td>\n",
       "      <td>1</td>\n",
       "      <td>4</td>\n",
       "      <td>AS</td>\n",
       "      <td>135</td>\n",
       "      <td>N527AS</td>\n",
       "      <td>SEA</td>\n",
       "      <td>ANC</td>\n",
       "      <td>25</td>\n",
       "      <td>...</td>\n",
       "      <td>215.0</td>\n",
       "      <td>199.0</td>\n",
       "      <td>1448</td>\n",
       "      <td>254.0</td>\n",
       "      <td>5.0</td>\n",
       "      <td>320</td>\n",
       "      <td>259.0</td>\n",
       "      <td>-21.0</td>\n",
       "      <td>0</td>\n",
       "      <td>0</td>\n",
       "    </tr>\n",
       "  </tbody>\n",
       "</table>\n",
       "<p>5 rows × 25 columns</p>\n",
       "</div>"
      ],
      "text/plain": [
       "   YEAR  MONTH  DAY  DAY_OF_WEEK AIRLINE  FLIGHT_NUMBER TAIL_NUMBER  \\\n",
       "0  2015      1    1            4      AS             98      N407AS   \n",
       "1  2015      1    1            4      AA           2336      N3KUAA   \n",
       "2  2015      1    1            4      US            840      N171US   \n",
       "3  2015      1    1            4      AA            258      N3HYAA   \n",
       "4  2015      1    1            4      AS            135      N527AS   \n",
       "\n",
       "  ORIGIN_AIRPORT DESTINATION_AIRPORT  SCHEDULED_DEPARTURE  ...  ELAPSED_TIME  \\\n",
       "0            ANC                 SEA                    5  ...         194.0   \n",
       "1            LAX                 PBI                   10  ...         279.0   \n",
       "2            SFO                 CLT                   20  ...         293.0   \n",
       "3            LAX                 MIA                   20  ...         281.0   \n",
       "4            SEA                 ANC                   25  ...         215.0   \n",
       "\n",
       "   AIR_TIME  DISTANCE  WHEELS_ON  TAXI_IN  SCHEDULED_ARRIVAL  ARRIVAL_TIME  \\\n",
       "0     169.0      1448      404.0      4.0                430         408.0   \n",
       "1     263.0      2330      737.0      4.0                750         741.0   \n",
       "2     266.0      2296      800.0     11.0                806         811.0   \n",
       "3     258.0      2342      748.0      8.0                805         756.0   \n",
       "4     199.0      1448      254.0      5.0                320         259.0   \n",
       "\n",
       "   ARRIVAL_DELAY  DIVERTED  CANCELLED  \n",
       "0          -22.0         0          0  \n",
       "1           -9.0         0          0  \n",
       "2            5.0         0          0  \n",
       "3           -9.0         0          0  \n",
       "4          -21.0         0          0  \n",
       "\n",
       "[5 rows x 25 columns]"
      ]
     },
     "execution_count": 132,
     "metadata": {},
     "output_type": "execute_result"
    }
   ],
   "source": [
    "df_flights.head()"
   ]
  },
  {
   "cell_type": "code",
   "execution_count": 133,
   "id": "5add45c7",
   "metadata": {},
   "outputs": [],
   "source": [
    "#продолжаем обработку data_flights"
   ]
  },
  {
   "cell_type": "code",
   "execution_count": 134,
   "id": "37fa25e5",
   "metadata": {},
   "outputs": [],
   "source": [
    "df_flights['Date'] = pd.to_datetime(df_flights[['YEAR','MONTH','DAY']], dayfirst=True)"
   ]
  },
  {
   "cell_type": "code",
   "execution_count": 135,
   "id": "cf9cdbf6",
   "metadata": {},
   "outputs": [],
   "source": [
    "df_flights['Day'] = df_flights['Date'].dt.day_name()"
   ]
  },
  {
   "cell_type": "code",
   "execution_count": 136,
   "id": "6fc9d7d7",
   "metadata": {},
   "outputs": [
    {
     "data": {
      "text/plain": [
       "(5714008, 27)"
      ]
     },
     "execution_count": 136,
     "metadata": {},
     "output_type": "execute_result"
    }
   ],
   "source": [
    "df_flights.shape"
   ]
  },
  {
   "cell_type": "code",
   "execution_count": 137,
   "id": "b90add0c",
   "metadata": {},
   "outputs": [],
   "source": [
    "#объединяем таблицы data_flights и df_airlines"
   ]
  },
  {
   "cell_type": "code",
   "execution_count": 138,
   "id": "6633da72",
   "metadata": {},
   "outputs": [],
   "source": [
    "df_flights = df_flights.merge(df_airlines, left_on='AIRLINE', right_on='IATA_CODE', how='inner')"
   ]
  },
  {
   "cell_type": "code",
   "execution_count": 139,
   "id": "55f1eb3f",
   "metadata": {},
   "outputs": [],
   "source": [
    "df_flights = df_flights.drop(['AIRLINE_x','IATA_CODE'], axis=1)"
   ]
  },
  {
   "cell_type": "code",
   "execution_count": 140,
   "id": "ec287f8b",
   "metadata": {},
   "outputs": [],
   "source": [
    "df_flights = df_flights.rename(columns={\"AIRLINE_y\":\"AIRLINE\"})"
   ]
  },
  {
   "cell_type": "code",
   "execution_count": 141,
   "id": "705d05c0",
   "metadata": {},
   "outputs": [],
   "source": [
    "#объединяем таблицы data_flights и df_airports"
   ]
  },
  {
   "cell_type": "code",
   "execution_count": 142,
   "id": "04612344",
   "metadata": {},
   "outputs": [],
   "source": [
    "df_flights = df_flights.merge(df_airports, left_on='ORIGIN_AIRPORT', right_on='IATA_CODE', how='inner')\n",
    "df_flights = df_flights.merge(df_airports, left_on='DESTINATION_AIRPORT', right_on='IATA_CODE', how='inner')"
   ]
  },
  {
   "cell_type": "code",
   "execution_count": 143,
   "id": "d28c2887",
   "metadata": {},
   "outputs": [],
   "source": [
    "df_flights = df_flights.drop(['LATITUDE_x',\n",
    "                                  'LONGITUDE_x',\n",
    "                                  'STATE_y',\n",
    "                                  'COUNTRY_y',\n",
    "                                  'LATITUDE_y',\n",
    "                                  'LONGITUDE_y','STATE_x',\n",
    "                                  'COUNTRY_x'], axis=1)"
   ]
  },
  {
   "cell_type": "code",
   "execution_count": 144,
   "id": "8612b5f4",
   "metadata": {},
   "outputs": [],
   "source": [
    "df_flights = df_flights.rename(columns={'IATA_CODE_x':'Orig_Airport_Code',\n",
    "                                            'AIRPORT_x':'Orig_Airport_Name',\n",
    "                                            'CITY_x':'Origin_city',\n",
    "                                            'IATA_CODE_y':'Dest_Airport_Code',\n",
    "                                            'AIRPORT_y':'Dest_Airport_Name',\n",
    "                                            'CITY_y':'Destination_city'})"
   ]
  },
  {
   "cell_type": "code",
   "execution_count": 145,
   "id": "7cd4c125",
   "metadata": {},
   "outputs": [],
   "source": [
    "df_flights = df_flights.drop(['ORIGIN_AIRPORT','DESTINATION_AIRPORT'], axis=1)"
   ]
  },
  {
   "cell_type": "code",
   "execution_count": 146,
   "id": "c90486a2",
   "metadata": {},
   "outputs": [],
   "source": [
    "# создаем функцию для формтаирования времени\n",
    "def Format_Hourmin(hours):\n",
    "        if hours == 2400:\n",
    "            hours = 0\n",
    "        else:\n",
    "            hours = \"{0:04d}\".format(int(hours))\n",
    "            Hourmin = datetime.time(int(hours[0:2]), int(hours[2:4]))\n",
    "            return Hourmin"
   ]
  },
  {
   "cell_type": "code",
   "execution_count": 147,
   "id": "73f5e3e0",
   "metadata": {},
   "outputs": [],
   "source": [
    "df_flights['Scheduled_Departure'] = df_flights['SCHEDULED_DEPARTURE'].apply(Format_Hourmin)\n",
    "df_flights['Actual_Departure'] = df_flights['DEPARTURE_TIME'].apply(Format_Hourmin)\n",
    "df_flights['Scheduled_Arrival'] = df_flights['SCHEDULED_ARRIVAL'].apply(Format_Hourmin)\n",
    "df_flights['Actual_Arrival'] = df_flights['ARRIVAL_TIME'].apply(Format_Hourmin)"
   ]
  },
  {
   "cell_type": "code",
   "execution_count": 148,
   "id": "4eefeae7",
   "metadata": {},
   "outputs": [],
   "source": [
    "# удаляем лишние столбцы\n",
    "\n",
    "df_flights = df_flights.drop(['DEPARTURE_TIME',\n",
    "                              'SCHEDULED_ARRIVAL',\n",
    "                              'SCHEDULED_DEPARTURE',\n",
    "                              'ARRIVAL_TIME'], axis=1)"
   ]
  },
  {
   "cell_type": "code",
   "execution_count": 149,
   "id": "1e94c895",
   "metadata": {},
   "outputs": [
    {
     "data": {
      "text/plain": [
       "Index(['YEAR', 'MONTH', 'DAY', 'DAY_OF_WEEK', 'FLIGHT_NUMBER', 'TAIL_NUMBER',\n",
       "       'DEPARTURE_DELAY', 'TAXI_OUT', 'WHEELS_OFF', 'SCHEDULED_TIME',\n",
       "       'ELAPSED_TIME', 'AIR_TIME', 'DISTANCE', 'WHEELS_ON', 'TAXI_IN',\n",
       "       'ARRIVAL_DELAY', 'DIVERTED', 'CANCELLED', 'Date', 'Day', 'AIRLINE',\n",
       "       'Orig_Airport_Code', 'Orig_Airport_Name', 'Origin_city',\n",
       "       'Dest_Airport_Code', 'Dest_Airport_Name', 'Destination_city',\n",
       "       'Scheduled_Departure', 'Actual_Departure', 'Scheduled_Arrival',\n",
       "       'Actual_Arrival'],\n",
       "      dtype='object')"
      ]
     },
     "execution_count": 149,
     "metadata": {},
     "output_type": "execute_result"
    }
   ],
   "source": [
    "df_flights.columns"
   ]
  },
  {
   "cell_type": "code",
   "execution_count": 150,
   "id": "655d381d",
   "metadata": {},
   "outputs": [],
   "source": [
    "neworder = ['Date', 'Day', 'AIRLINE', 'Orig_Airport_Code','Orig_Airport_Name','Origin_city',\n",
    "            'Dest_Airport_Code', 'Dest_Airport_Name', 'Destination_city','Scheduled_Departure','Actual_Departure',\n",
    "            'DEPARTURE_DELAY','Scheduled_Arrival','Actual_Arrival','ARRIVAL_DELAY','YEAR', 'MONTH', 'DAY',\n",
    "            'DAY_OF_WEEK', 'FLIGHT_NUMBER', 'TAIL_NUMBER', 'TAXI_OUT', 'WHEELS_OFF', 'SCHEDULED_TIME',\n",
    "            'ELAPSED_TIME', 'AIR_TIME', 'DISTANCE', 'WHEELS_ON', 'TAXI_IN','DIVERTED','CANCELLED']\n",
    "\n",
    "df_flights = df_flights.reindex(columns=neworder)"
   ]
  },
  {
   "cell_type": "code",
   "execution_count": 151,
   "id": "56d4825d",
   "metadata": {},
   "outputs": [
    {
     "data": {
      "text/html": [
       "<div>\n",
       "<style scoped>\n",
       "    .dataframe tbody tr th:only-of-type {\n",
       "        vertical-align: middle;\n",
       "    }\n",
       "\n",
       "    .dataframe tbody tr th {\n",
       "        vertical-align: top;\n",
       "    }\n",
       "\n",
       "    .dataframe thead th {\n",
       "        text-align: right;\n",
       "    }\n",
       "</style>\n",
       "<table border=\"1\" class=\"dataframe\">\n",
       "  <thead>\n",
       "    <tr style=\"text-align: right;\">\n",
       "      <th></th>\n",
       "      <th>Scheduled_Departure</th>\n",
       "      <th>Actual_Departure</th>\n",
       "      <th>DEPARTURE_DELAY</th>\n",
       "      <th>Scheduled_Arrival</th>\n",
       "      <th>Actual_Arrival</th>\n",
       "      <th>ARRIVAL_DELAY</th>\n",
       "      <th>TAXI_OUT</th>\n",
       "      <th>TAXI_IN</th>\n",
       "      <th>SCHEDULED_TIME</th>\n",
       "    </tr>\n",
       "  </thead>\n",
       "  <tbody>\n",
       "    <tr>\n",
       "      <th>0</th>\n",
       "      <td>00:05:00</td>\n",
       "      <td>23:54:00</td>\n",
       "      <td>-11.0</td>\n",
       "      <td>04:30:00</td>\n",
       "      <td>04:08:00</td>\n",
       "      <td>-22.0</td>\n",
       "      <td>21.0</td>\n",
       "      <td>4.0</td>\n",
       "      <td>205.0</td>\n",
       "    </tr>\n",
       "    <tr>\n",
       "      <th>1</th>\n",
       "      <td>00:45:00</td>\n",
       "      <td>00:41:00</td>\n",
       "      <td>-4.0</td>\n",
       "      <td>05:09:00</td>\n",
       "      <td>04:55:00</td>\n",
       "      <td>-14.0</td>\n",
       "      <td>17.0</td>\n",
       "      <td>4.0</td>\n",
       "      <td>204.0</td>\n",
       "    </tr>\n",
       "    <tr>\n",
       "      <th>2</th>\n",
       "      <td>01:55:00</td>\n",
       "      <td>01:40:00</td>\n",
       "      <td>-15.0</td>\n",
       "      <td>06:33:00</td>\n",
       "      <td>05:58:00</td>\n",
       "      <td>-35.0</td>\n",
       "      <td>17.0</td>\n",
       "      <td>11.0</td>\n",
       "      <td>218.0</td>\n",
       "    </tr>\n",
       "    <tr>\n",
       "      <th>3</th>\n",
       "      <td>02:20:00</td>\n",
       "      <td>02:09:00</td>\n",
       "      <td>-11.0</td>\n",
       "      <td>06:40:00</td>\n",
       "      <td>06:28:00</td>\n",
       "      <td>-12.0</td>\n",
       "      <td>15.0</td>\n",
       "      <td>8.0</td>\n",
       "      <td>200.0</td>\n",
       "    </tr>\n",
       "    <tr>\n",
       "      <th>4</th>\n",
       "      <td>05:05:00</td>\n",
       "      <td>04:57:00</td>\n",
       "      <td>-8.0</td>\n",
       "      <td>09:30:00</td>\n",
       "      <td>09:16:00</td>\n",
       "      <td>-14.0</td>\n",
       "      <td>16.0</td>\n",
       "      <td>4.0</td>\n",
       "      <td>205.0</td>\n",
       "    </tr>\n",
       "    <tr>\n",
       "      <th>...</th>\n",
       "      <td>...</td>\n",
       "      <td>...</td>\n",
       "      <td>...</td>\n",
       "      <td>...</td>\n",
       "      <td>...</td>\n",
       "      <td>...</td>\n",
       "      <td>...</td>\n",
       "      <td>...</td>\n",
       "      <td>...</td>\n",
       "    </tr>\n",
       "    <tr>\n",
       "      <th>5231125</th>\n",
       "      <td>20:46:00</td>\n",
       "      <td>20:37:00</td>\n",
       "      <td>-9.0</td>\n",
       "      <td>21:20:00</td>\n",
       "      <td>21:02:00</td>\n",
       "      <td>-18.0</td>\n",
       "      <td>6.0</td>\n",
       "      <td>2.0</td>\n",
       "      <td>34.0</td>\n",
       "    </tr>\n",
       "    <tr>\n",
       "      <th>5231126</th>\n",
       "      <td>14:35:00</td>\n",
       "      <td>16:16:00</td>\n",
       "      <td>101.0</td>\n",
       "      <td>15:09:00</td>\n",
       "      <td>16:39:00</td>\n",
       "      <td>90.0</td>\n",
       "      <td>4.0</td>\n",
       "      <td>5.0</td>\n",
       "      <td>34.0</td>\n",
       "    </tr>\n",
       "    <tr>\n",
       "      <th>5231127</th>\n",
       "      <td>20:46:00</td>\n",
       "      <td>20:56:00</td>\n",
       "      <td>10.0</td>\n",
       "      <td>21:20:00</td>\n",
       "      <td>21:30:00</td>\n",
       "      <td>10.0</td>\n",
       "      <td>12.0</td>\n",
       "      <td>4.0</td>\n",
       "      <td>34.0</td>\n",
       "    </tr>\n",
       "    <tr>\n",
       "      <th>5231128</th>\n",
       "      <td>14:35:00</td>\n",
       "      <td>14:21:00</td>\n",
       "      <td>-14.0</td>\n",
       "      <td>15:09:00</td>\n",
       "      <td>14:51:00</td>\n",
       "      <td>-18.0</td>\n",
       "      <td>9.0</td>\n",
       "      <td>3.0</td>\n",
       "      <td>34.0</td>\n",
       "    </tr>\n",
       "    <tr>\n",
       "      <th>5231129</th>\n",
       "      <td>20:46:00</td>\n",
       "      <td>20:20:00</td>\n",
       "      <td>-26.0</td>\n",
       "      <td>21:20:00</td>\n",
       "      <td>20:48:00</td>\n",
       "      <td>-32.0</td>\n",
       "      <td>7.0</td>\n",
       "      <td>3.0</td>\n",
       "      <td>34.0</td>\n",
       "    </tr>\n",
       "  </tbody>\n",
       "</table>\n",
       "<p>5231130 rows × 9 columns</p>\n",
       "</div>"
      ],
      "text/plain": [
       "        Scheduled_Departure Actual_Departure  DEPARTURE_DELAY  \\\n",
       "0                  00:05:00         23:54:00            -11.0   \n",
       "1                  00:45:00         00:41:00             -4.0   \n",
       "2                  01:55:00         01:40:00            -15.0   \n",
       "3                  02:20:00         02:09:00            -11.0   \n",
       "4                  05:05:00         04:57:00             -8.0   \n",
       "...                     ...              ...              ...   \n",
       "5231125            20:46:00         20:37:00             -9.0   \n",
       "5231126            14:35:00         16:16:00            101.0   \n",
       "5231127            20:46:00         20:56:00             10.0   \n",
       "5231128            14:35:00         14:21:00            -14.0   \n",
       "5231129            20:46:00         20:20:00            -26.0   \n",
       "\n",
       "        Scheduled_Arrival Actual_Arrival  ARRIVAL_DELAY  TAXI_OUT  TAXI_IN  \\\n",
       "0                04:30:00       04:08:00          -22.0      21.0      4.0   \n",
       "1                05:09:00       04:55:00          -14.0      17.0      4.0   \n",
       "2                06:33:00       05:58:00          -35.0      17.0     11.0   \n",
       "3                06:40:00       06:28:00          -12.0      15.0      8.0   \n",
       "4                09:30:00       09:16:00          -14.0      16.0      4.0   \n",
       "...                   ...            ...            ...       ...      ...   \n",
       "5231125          21:20:00       21:02:00          -18.0       6.0      2.0   \n",
       "5231126          15:09:00       16:39:00           90.0       4.0      5.0   \n",
       "5231127          21:20:00       21:30:00           10.0      12.0      4.0   \n",
       "5231128          15:09:00       14:51:00          -18.0       9.0      3.0   \n",
       "5231129          21:20:00       20:48:00          -32.0       7.0      3.0   \n",
       "\n",
       "         SCHEDULED_TIME  \n",
       "0                 205.0  \n",
       "1                 204.0  \n",
       "2                 218.0  \n",
       "3                 200.0  \n",
       "4                 205.0  \n",
       "...                 ...  \n",
       "5231125            34.0  \n",
       "5231126            34.0  \n",
       "5231127            34.0  \n",
       "5231128            34.0  \n",
       "5231129            34.0  \n",
       "\n",
       "[5231130 rows x 9 columns]"
      ]
     },
     "execution_count": 151,
     "metadata": {},
     "output_type": "execute_result"
    }
   ],
   "source": [
    "df_flights[['Scheduled_Departure','Actual_Departure',\n",
    "            'DEPARTURE_DELAY','Scheduled_Arrival','Actual_Arrival','ARRIVAL_DELAY',\n",
    "             'TAXI_OUT','TAXI_IN','SCHEDULED_TIME']]"
   ]
  },
  {
   "cell_type": "code",
   "execution_count": 152,
   "id": "307a3c87",
   "metadata": {},
   "outputs": [
    {
     "data": {
      "text/plain": [
       "2757"
      ]
     },
     "execution_count": 152,
     "metadata": {},
     "output_type": "execute_result"
    }
   ],
   "source": [
    "df_flights.isna().sum().sum()"
   ]
  },
  {
   "cell_type": "code",
   "execution_count": 153,
   "id": "aa233c2a",
   "metadata": {},
   "outputs": [],
   "source": [
    "df_flights = df_flights.dropna(subset = ['Actual_Departure',\n",
    "                                         'Scheduled_Arrival',\n",
    "                                         'Actual_Arrival'\n",
    "                                           ])"
   ]
  },
  {
   "cell_type": "code",
   "execution_count": 154,
   "id": "1d73338e",
   "metadata": {},
   "outputs": [
    {
     "data": {
      "text/plain": [
       "0"
      ]
     },
     "execution_count": 154,
     "metadata": {},
     "output_type": "execute_result"
    }
   ],
   "source": [
    "df_flights.isna().sum().sum()"
   ]
  },
  {
   "cell_type": "code",
   "execution_count": 155,
   "id": "c9e2ec33",
   "metadata": {},
   "outputs": [
    {
     "data": {
      "text/plain": [
       "(5228373, 31)"
      ]
     },
     "execution_count": 155,
     "metadata": {},
     "output_type": "execute_result"
    }
   ],
   "source": [
    "df_flights.shape"
   ]
  },
  {
   "cell_type": "markdown",
   "id": "c538839f",
   "metadata": {},
   "source": [
    "## Найти аэропорт с минимальной задержкой вылета "
   ]
  },
  {
   "cell_type": "code",
   "execution_count": 156,
   "id": "16ceaddc",
   "metadata": {},
   "outputs": [],
   "source": [
    "a = df_flights.groupby(['Orig_Airport_Name','Origin_city']).mean()['DEPARTURE_DELAY'].sort_values()"
   ]
  },
  {
   "cell_type": "code",
   "execution_count": 157,
   "id": "bdc41b37",
   "metadata": {},
   "outputs": [
    {
     "data": {
      "text/plain": [
       "Orig_Airport_Name                             Origin_city\n",
       "Yakutat Airport                               Yakutat       -6.507692\n",
       "Canyonlands Field                             Moab          -6.058537\n",
       "Elko Regional Airport                         Elko          -3.771760\n",
       "Valdez Airport                                Vernal        -3.740000\n",
       "Merle K. (Mudhole) Smith Airport              Cordova       -3.268405\n",
       "Lewiston-Nez Perce County Airport             Lewiston      -2.976190\n",
       "Pocatello Regional Airport                    Pocatello     -1.328221\n",
       "Deadhorse Airport (Prudhoe Bay Airport)       Deadhorse     -0.949755\n",
       "Hilo International Airport                    Hilo          -0.889804\n",
       "Magic Valley Regional Airport (Joslin Field)  Twin Falls    -0.875776\n",
       "Bellingham International Airport              Bellingham    -0.419034\n",
       "Brainerd Lakes Regional Airport               Brainerd      -0.065292\n",
       "Kodiak Airport                                Kodiak         0.405034\n",
       "Lihue Airport                                 Lihue          0.457900\n",
       "Dillingham Airport                            Dillingham     0.558442\n",
       "Name: DEPARTURE_DELAY, dtype: float64"
      ]
     },
     "execution_count": 157,
     "metadata": {},
     "output_type": "execute_result"
    }
   ],
   "source": [
    "a[:15]"
   ]
  },
  {
   "cell_type": "code",
   "execution_count": 158,
   "id": "14e53721",
   "metadata": {},
   "outputs": [],
   "source": [
    "b = df_flights[df_flights['DEPARTURE_DELAY'] > 0]"
   ]
  },
  {
   "cell_type": "code",
   "execution_count": 159,
   "id": "be3ed186",
   "metadata": {},
   "outputs": [],
   "source": [
    "b1 = b.groupby(['Orig_Airport_Name','Origin_city']).mean()['DEPARTURE_DELAY'].sort_values()"
   ]
  },
  {
   "cell_type": "code",
   "execution_count": 160,
   "id": "23c7a41b",
   "metadata": {},
   "outputs": [
    {
     "data": {
      "text/plain": [
       "Orig_Airport_Name                           Origin_city     \n",
       "King Salmon Airport                         King Salmon         13.800000\n",
       "Hilo International Airport                  Hilo                16.342029\n",
       "Dillingham Airport                          Dillingham          20.960000\n",
       "Honolulu International Airport              Honolulu            21.921351\n",
       "Kahului Airport                             Kahului             22.235131\n",
       "Kona International Airport at Keahole       Kailua/Kona         22.559646\n",
       "Lihue Airport                               Lihue               22.624664\n",
       "Canyonlands Field                           Moab                23.909091\n",
       "Westerly State Airport                      West Yellowstone    24.243902\n",
       "Kodiak Airport                              Kodiak              24.543307\n",
       "Seattle-Tacoma International Airport        Seattle             25.172730\n",
       "John Wayne Airport (Orange County Airport)  Santa Ana           25.257718\n",
       "Oakland International Airport               Oakland             25.325768\n",
       "Dallas Love Field                           Dallas              25.344622\n",
       "Guam International Airport                  Agana               26.604444\n",
       "Name: DEPARTURE_DELAY, dtype: float64"
      ]
     },
     "execution_count": 160,
     "metadata": {},
     "output_type": "execute_result"
    }
   ],
   "source": [
    "b1[:15]"
   ]
  },
  {
   "cell_type": "markdown",
   "id": "ba8ffdcb",
   "metadata": {},
   "source": [
    "## Самая пунктуальная авиакомпания на прилет в Los Angeles International Airport"
   ]
  },
  {
   "cell_type": "code",
   "execution_count": 161,
   "id": "9a338cae",
   "metadata": {},
   "outputs": [],
   "source": [
    "LA_arrival = df_flights[df_flights['Dest_Airport_Name']=='Los Angeles International Airport']"
   ]
  },
  {
   "cell_type": "code",
   "execution_count": 162,
   "id": "4d49e2d0",
   "metadata": {},
   "outputs": [
    {
     "data": {
      "text/plain": [
       "AIRLINE\n",
       "Hawaiian Airlines Inc.          79.379444\n",
       "Alaska Airlines Inc.            74.270096\n",
       "Delta Air Lines Inc.            72.124017\n",
       "American Airlines Inc.          71.041802\n",
       "JetBlue Airways                 70.445545\n",
       "Virgin America                  67.570341\n",
       "US Airways Inc.                 66.091954\n",
       "Skywest Airlines Inc.           64.745631\n",
       "United Air Lines Inc.           63.508876\n",
       "Southwest Airlines Co.          60.967628\n",
       "American Eagle Airlines Inc.    59.259259\n",
       "Frontier Airlines Inc.          59.067735\n",
       "Spirit Air Lines                53.271028\n",
       "dtype: float64"
      ]
     },
     "execution_count": 162,
     "metadata": {},
     "output_type": "execute_result"
    }
   ],
   "source": [
    "LA_2 = LA_arrival.groupby('AIRLINE').size()\n",
    "LA_3 = LA_arrival[LA_arrival['ARRIVAL_DELAY']<=5] # если не считать 5-минутное опоздание за опоздание\n",
    "LA_4 = LA_3.groupby('AIRLINE').size()\n",
    "LA_p = (LA_4/LA_2)*100\n",
    "LA_p.sort_values(ascending=False)"
   ]
  },
  {
   "cell_type": "markdown",
   "id": "5d2824db",
   "metadata": {},
   "source": [
    "## Найти аэропорт, где самолёты проводят больше всего времени на рулении (среднее значение)"
   ]
  },
  {
   "cell_type": "code",
   "execution_count": 163,
   "id": "fd031c77",
   "metadata": {},
   "outputs": [],
   "source": [
    "taxing = df_flights.copy()"
   ]
  },
  {
   "cell_type": "code",
   "execution_count": 164,
   "id": "acf2901d",
   "metadata": {},
   "outputs": [],
   "source": [
    "taxing['taxing'] = taxing['TAXI_OUT'] + taxing['TAXI_IN']"
   ]
  },
  {
   "cell_type": "code",
   "execution_count": 165,
   "id": "5e1af527",
   "metadata": {},
   "outputs": [],
   "source": [
    "t1 = taxing.groupby(['Orig_Airport_Name','Origin_city']).mean()['taxing'].sort_values(ascending=False)"
   ]
  },
  {
   "cell_type": "code",
   "execution_count": 166,
   "id": "31869efc",
   "metadata": {},
   "outputs": [
    {
     "data": {
      "text/plain": [
       "Orig_Airport_Name                                                       Origin_city \n",
       "LaGuardia Airport (Marine Air Terminal)                                 New York        34.524761\n",
       "Sioux Gateway Airport                                                   Sioux City      34.368421\n",
       "Sawyer International Airport                                            Marquette       34.209459\n",
       "John F. Kennedy International Airport (New York International Airport)  New York        34.185193\n",
       "Waterloo Regional Airport                                               Waterloo        31.688468\n",
       "Ithaca Tompkins Regional Airport                                        Ithaca          30.266667\n",
       "St. Cloud Regional Airport                                              St Cloud        30.103896\n",
       "Philadelphia International Airport                                      Philadelphia    29.648114\n",
       "Eagle County Regional Airport                                           Eagle           29.074290\n",
       "Sloulin Field International Airport                                     Williston       28.871722\n",
       "Name: taxing, dtype: float64"
      ]
     },
     "execution_count": 166,
     "metadata": {},
     "output_type": "execute_result"
    }
   ],
   "source": [
    "t1[:10]"
   ]
  },
  {
   "cell_type": "markdown",
   "id": "6bc4af92",
   "metadata": {},
   "source": [
    "## Построить модель которая будет выбирать топ 3 аэропорта прилета (вероятность опоздания минимальная – RMSE метрика), в зависимости от аэропорта вылета  "
   ]
  },
  {
   "cell_type": "code",
   "execution_count": 168,
   "id": "2451e1b1",
   "metadata": {},
   "outputs": [
    {
     "data": {
      "text/plain": [
       "322"
      ]
     },
     "execution_count": 168,
     "metadata": {},
     "output_type": "execute_result"
    }
   ],
   "source": [
    "len(df_flights.Orig_Airport_Code.unique())"
   ]
  },
  {
   "cell_type": "code",
   "execution_count": null,
   "id": "39f2e1f9",
   "metadata": {},
   "outputs": [],
   "source": []
  },
  {
   "cell_type": "code",
   "execution_count": 169,
   "id": "f0cbca27",
   "metadata": {},
   "outputs": [],
   "source": [
    "lax_data = df_flights[df_flights['Orig_Airport_Code']=='LAX']"
   ]
  },
  {
   "cell_type": "code",
   "execution_count": 173,
   "id": "720f5406",
   "metadata": {},
   "outputs": [],
   "source": [
    "lax_data = lax_data[['Date', 'ARRIVAL_DELAY']]\n",
    "lax_data = lax_data.groupby('Date').mean().reset_index()"
   ]
  },
  {
   "cell_type": "code",
   "execution_count": 174,
   "id": "8060795b",
   "metadata": {},
   "outputs": [
    {
     "data": {
      "text/html": [
       "<div>\n",
       "<style scoped>\n",
       "    .dataframe tbody tr th:only-of-type {\n",
       "        vertical-align: middle;\n",
       "    }\n",
       "\n",
       "    .dataframe tbody tr th {\n",
       "        vertical-align: top;\n",
       "    }\n",
       "\n",
       "    .dataframe thead th {\n",
       "        text-align: right;\n",
       "    }\n",
       "</style>\n",
       "<table border=\"1\" class=\"dataframe\">\n",
       "  <thead>\n",
       "    <tr style=\"text-align: right;\">\n",
       "      <th></th>\n",
       "      <th>Date</th>\n",
       "      <th>ARRIVAL_DELAY</th>\n",
       "    </tr>\n",
       "  </thead>\n",
       "  <tbody>\n",
       "    <tr>\n",
       "      <th>0</th>\n",
       "      <td>2015-01-01</td>\n",
       "      <td>4.614130</td>\n",
       "    </tr>\n",
       "    <tr>\n",
       "      <th>1</th>\n",
       "      <td>2015-01-02</td>\n",
       "      <td>16.513428</td>\n",
       "    </tr>\n",
       "    <tr>\n",
       "      <th>2</th>\n",
       "      <td>2015-01-03</td>\n",
       "      <td>26.056140</td>\n",
       "    </tr>\n",
       "    <tr>\n",
       "      <th>3</th>\n",
       "      <td>2015-01-04</td>\n",
       "      <td>28.045977</td>\n",
       "    </tr>\n",
       "    <tr>\n",
       "      <th>4</th>\n",
       "      <td>2015-01-05</td>\n",
       "      <td>15.788618</td>\n",
       "    </tr>\n",
       "  </tbody>\n",
       "</table>\n",
       "</div>"
      ],
      "text/plain": [
       "        Date  ARRIVAL_DELAY\n",
       "0 2015-01-01       4.614130\n",
       "1 2015-01-02      16.513428\n",
       "2 2015-01-03      26.056140\n",
       "3 2015-01-04      28.045977\n",
       "4 2015-01-05      15.788618"
      ]
     },
     "execution_count": 174,
     "metadata": {},
     "output_type": "execute_result"
    }
   ],
   "source": [
    "lax_data.head()"
   ]
  },
  {
   "cell_type": "code",
   "execution_count": 175,
   "id": "dfc22d91",
   "metadata": {},
   "outputs": [
    {
     "name": "stdout",
     "output_type": "stream",
     "text": [
      "<class 'pandas.core.frame.DataFrame'>\n",
      "RangeIndex: 334 entries, 0 to 333\n",
      "Data columns (total 2 columns):\n",
      " #   Column         Non-Null Count  Dtype         \n",
      "---  ------         --------------  -----         \n",
      " 0   Date           334 non-null    datetime64[ns]\n",
      " 1   ARRIVAL_DELAY  334 non-null    float64       \n",
      "dtypes: datetime64[ns](1), float64(1)\n",
      "memory usage: 5.3 KB\n"
     ]
    }
   ],
   "source": [
    "lax_data.info()"
   ]
  },
  {
   "cell_type": "code",
   "execution_count": 176,
   "id": "dc59c127",
   "metadata": {},
   "outputs": [],
   "source": [
    "lax_data['ARRIVAL_DELAY'] = lax_data.ARRIVAL_DELAY.replace(',','.')"
   ]
  },
  {
   "cell_type": "code",
   "execution_count": 177,
   "id": "093b03c6",
   "metadata": {},
   "outputs": [],
   "source": [
    "lax_data['ARRIVAL_DELAY'] = pd.to_numeric(lax_data['ARRIVAL_DELAY'])"
   ]
  },
  {
   "cell_type": "code",
   "execution_count": 178,
   "id": "029baa46",
   "metadata": {},
   "outputs": [],
   "source": [
    "lax_data['Date'] = pd.to_datetime(lax_data['Date'],dayfirst=True)"
   ]
  },
  {
   "cell_type": "code",
   "execution_count": 179,
   "id": "7d91fe6c",
   "metadata": {},
   "outputs": [
    {
     "data": {
      "text/plain": [
       "Timestamp('2015-01-01 00:00:00')"
      ]
     },
     "execution_count": 179,
     "metadata": {},
     "output_type": "execute_result"
    }
   ],
   "source": [
    "lax_data.Date.min()"
   ]
  },
  {
   "cell_type": "code",
   "execution_count": 180,
   "id": "26a33361",
   "metadata": {},
   "outputs": [
    {
     "data": {
      "text/plain": [
       "<AxesSubplot:>"
      ]
     },
     "execution_count": 180,
     "metadata": {},
     "output_type": "execute_result"
    },
    {
     "data": {
      "image/png": "[encoded data removed]",
      "text/plain": [
       "<Figure size 432x288 with 1 Axes>"
      ]
     },
     "metadata": {
      "needs_background": "light"
     },
     "output_type": "display_data"
    }
   ],
   "source": [
    "lax_data.ARRIVAL_DELAY.plot()"
   ]
  },
  {
   "cell_type": "code",
   "execution_count": 181,
   "id": "e6abffe7",
   "metadata": {},
   "outputs": [],
   "source": [
    "lax_data.sort_values(by=['Date'],inplace=True)"
   ]
  },
  {
   "cell_type": "code",
   "execution_count": 182,
   "id": "acf4dafc",
   "metadata": {},
   "outputs": [
    {
     "data": {
      "text/html": [
       "<div>\n",
       "<style scoped>\n",
       "    .dataframe tbody tr th:only-of-type {\n",
       "        vertical-align: middle;\n",
       "    }\n",
       "\n",
       "    .dataframe tbody tr th {\n",
       "        vertical-align: top;\n",
       "    }\n",
       "\n",
       "    .dataframe thead th {\n",
       "        text-align: right;\n",
       "    }\n",
       "</style>\n",
       "<table border=\"1\" class=\"dataframe\">\n",
       "  <thead>\n",
       "    <tr style=\"text-align: right;\">\n",
       "      <th></th>\n",
       "      <th>Date</th>\n",
       "      <th>ARRIVAL_DELAY</th>\n",
       "    </tr>\n",
       "  </thead>\n",
       "  <tbody>\n",
       "    <tr>\n",
       "      <th>0</th>\n",
       "      <td>2015-01-01</td>\n",
       "      <td>4.614130</td>\n",
       "    </tr>\n",
       "    <tr>\n",
       "      <th>1</th>\n",
       "      <td>2015-01-02</td>\n",
       "      <td>16.513428</td>\n",
       "    </tr>\n",
       "    <tr>\n",
       "      <th>2</th>\n",
       "      <td>2015-01-03</td>\n",
       "      <td>26.056140</td>\n",
       "    </tr>\n",
       "    <tr>\n",
       "      <th>3</th>\n",
       "      <td>2015-01-04</td>\n",
       "      <td>28.045977</td>\n",
       "    </tr>\n",
       "    <tr>\n",
       "      <th>4</th>\n",
       "      <td>2015-01-05</td>\n",
       "      <td>15.788618</td>\n",
       "    </tr>\n",
       "  </tbody>\n",
       "</table>\n",
       "</div>"
      ],
      "text/plain": [
       "        Date  ARRIVAL_DELAY\n",
       "0 2015-01-01       4.614130\n",
       "1 2015-01-02      16.513428\n",
       "2 2015-01-03      26.056140\n",
       "3 2015-01-04      28.045977\n",
       "4 2015-01-05      15.788618"
      ]
     },
     "execution_count": 182,
     "metadata": {},
     "output_type": "execute_result"
    }
   ],
   "source": [
    "lax_data.head()"
   ]
  },
  {
   "cell_type": "code",
   "execution_count": 183,
   "id": "9c8919aa",
   "metadata": {},
   "outputs": [
    {
     "name": "stdout",
     "output_type": "stream",
     "text": [
      "Монотонность -  True\n"
     ]
    }
   ],
   "source": [
    "lax_data.set_index('Date', inplace=True)\n",
    "lax_data.sort_index(inplace=True)\n",
    "print('Монотонность - ',lax_data.index.is_monotonic)"
   ]
  },
  {
   "cell_type": "code",
   "execution_count": 184,
   "id": "86b2f2f8",
   "metadata": {},
   "outputs": [
    {
     "data": {
      "text/html": [
       "<div>\n",
       "<style scoped>\n",
       "    .dataframe tbody tr th:only-of-type {\n",
       "        vertical-align: middle;\n",
       "    }\n",
       "\n",
       "    .dataframe tbody tr th {\n",
       "        vertical-align: top;\n",
       "    }\n",
       "\n",
       "    .dataframe thead th {\n",
       "        text-align: right;\n",
       "    }\n",
       "</style>\n",
       "<table border=\"1\" class=\"dataframe\">\n",
       "  <thead>\n",
       "    <tr style=\"text-align: right;\">\n",
       "      <th></th>\n",
       "      <th>ARRIVAL_DELAY</th>\n",
       "    </tr>\n",
       "    <tr>\n",
       "      <th>Date</th>\n",
       "      <th></th>\n",
       "    </tr>\n",
       "  </thead>\n",
       "  <tbody>\n",
       "    <tr>\n",
       "      <th>2015-01-01</th>\n",
       "      <td>4.614130</td>\n",
       "    </tr>\n",
       "    <tr>\n",
       "      <th>2015-01-02</th>\n",
       "      <td>16.513428</td>\n",
       "    </tr>\n",
       "    <tr>\n",
       "      <th>2015-01-03</th>\n",
       "      <td>26.056140</td>\n",
       "    </tr>\n",
       "    <tr>\n",
       "      <th>2015-01-04</th>\n",
       "      <td>28.045977</td>\n",
       "    </tr>\n",
       "    <tr>\n",
       "      <th>2015-01-05</th>\n",
       "      <td>15.788618</td>\n",
       "    </tr>\n",
       "  </tbody>\n",
       "</table>\n",
       "</div>"
      ],
      "text/plain": [
       "            ARRIVAL_DELAY\n",
       "Date                     \n",
       "2015-01-01       4.614130\n",
       "2015-01-02      16.513428\n",
       "2015-01-03      26.056140\n",
       "2015-01-04      28.045977\n",
       "2015-01-05      15.788618"
      ]
     },
     "execution_count": 184,
     "metadata": {},
     "output_type": "execute_result"
    }
   ],
   "source": [
    "lax_data.head()"
   ]
  },
  {
   "cell_type": "code",
   "execution_count": 185,
   "id": "5b60f886",
   "metadata": {},
   "outputs": [
    {
     "data": {
      "text/plain": [
       "<AxesSubplot:xlabel='Date'>"
      ]
     },
     "execution_count": 185,
     "metadata": {},
     "output_type": "execute_result"
    },
    {
     "data": {
      "image/png": "[encoded data removed]",
      "text/plain": [
       "<Figure size 432x288 with 1 Axes>"
      ]
     },
     "metadata": {
      "needs_background": "light"
     },
     "output_type": "display_data"
    }
   ],
   "source": [
    "lax_data.plot()"
   ]
  },
  {
   "cell_type": "code",
   "execution_count": 186,
   "id": "c31bc5f8",
   "metadata": {},
   "outputs": [
    {
     "data": {
      "text/plain": [
       "<AxesSubplot:xlabel='Date'>"
      ]
     },
     "execution_count": 186,
     "metadata": {},
     "output_type": "execute_result"
    },
    {
     "data": {
      "image/png": "[encoded data removed]",
      "text/plain": [
       "<Figure size 432x288 with 1 Axes>"
      ]
     },
     "metadata": {
      "needs_background": "light"
     },
     "output_type": "display_data"
    }
   ],
   "source": [
    "lax_data.rolling(100).mean().plot()"
   ]
  },
  {
   "cell_type": "code",
   "execution_count": 187,
   "id": "4370f51a",
   "metadata": {},
   "outputs": [
    {
     "data": {
      "text/html": [
       "<div>\n",
       "<style scoped>\n",
       "    .dataframe tbody tr th:only-of-type {\n",
       "        vertical-align: middle;\n",
       "    }\n",
       "\n",
       "    .dataframe tbody tr th {\n",
       "        vertical-align: top;\n",
       "    }\n",
       "\n",
       "    .dataframe thead th {\n",
       "        text-align: right;\n",
       "    }\n",
       "</style>\n",
       "<table border=\"1\" class=\"dataframe\">\n",
       "  <thead>\n",
       "    <tr style=\"text-align: right;\">\n",
       "      <th></th>\n",
       "      <th>ARRIVAL_DELAY</th>\n",
       "    </tr>\n",
       "    <tr>\n",
       "      <th>Date</th>\n",
       "      <th></th>\n",
       "    </tr>\n",
       "  </thead>\n",
       "  <tbody>\n",
       "    <tr>\n",
       "      <th>2015-01-01</th>\n",
       "      <td>4.614130</td>\n",
       "    </tr>\n",
       "    <tr>\n",
       "      <th>2015-01-02</th>\n",
       "      <td>16.513428</td>\n",
       "    </tr>\n",
       "    <tr>\n",
       "      <th>2015-01-03</th>\n",
       "      <td>26.056140</td>\n",
       "    </tr>\n",
       "    <tr>\n",
       "      <th>2015-01-04</th>\n",
       "      <td>28.045977</td>\n",
       "    </tr>\n",
       "    <tr>\n",
       "      <th>2015-01-05</th>\n",
       "      <td>15.788618</td>\n",
       "    </tr>\n",
       "    <tr>\n",
       "      <th>...</th>\n",
       "      <td>...</td>\n",
       "    </tr>\n",
       "    <tr>\n",
       "      <th>2015-12-27</th>\n",
       "      <td>30.691228</td>\n",
       "    </tr>\n",
       "    <tr>\n",
       "      <th>2015-12-28</th>\n",
       "      <td>21.883513</td>\n",
       "    </tr>\n",
       "    <tr>\n",
       "      <th>2015-12-29</th>\n",
       "      <td>22.626761</td>\n",
       "    </tr>\n",
       "    <tr>\n",
       "      <th>2015-12-30</th>\n",
       "      <td>16.098276</td>\n",
       "    </tr>\n",
       "    <tr>\n",
       "      <th>2015-12-31</th>\n",
       "      <td>-1.768421</td>\n",
       "    </tr>\n",
       "  </tbody>\n",
       "</table>\n",
       "<p>334 rows × 1 columns</p>\n",
       "</div>"
      ],
      "text/plain": [
       "            ARRIVAL_DELAY\n",
       "Date                     \n",
       "2015-01-01       4.614130\n",
       "2015-01-02      16.513428\n",
       "2015-01-03      26.056140\n",
       "2015-01-04      28.045977\n",
       "2015-01-05      15.788618\n",
       "...                   ...\n",
       "2015-12-27      30.691228\n",
       "2015-12-28      21.883513\n",
       "2015-12-29      22.626761\n",
       "2015-12-30      16.098276\n",
       "2015-12-31      -1.768421\n",
       "\n",
       "[334 rows x 1 columns]"
      ]
     },
     "execution_count": 187,
     "metadata": {},
     "output_type": "execute_result"
    }
   ],
   "source": [
    "lax_data"
   ]
  },
  {
   "cell_type": "code",
   "execution_count": 188,
   "id": "55d97f4a",
   "metadata": {},
   "outputs": [],
   "source": [
    "# функция по созданию сгенерированных признаков\n",
    "def make_features(data, max_lag, rolling_mean_size):\n",
    "    data['year'] = data.index.year\n",
    "    data['month'] = data.index.month\n",
    "    data['day'] = data.index.day\n",
    "    data['dayofweek'] = data.index.dayofweek\n",
    "    data['is_weekend'] = data.index.isin([5,6])*1\n",
    "    \n",
    "    for lag in range(1, max_lag + 1):\n",
    "        data['lag_{}'.format(lag)] = data['ARRIVAL_DELAY'].shift(lag)\n",
    "\n",
    "    data['ARRIVAL_DELAY_mean'] = data['ARRIVAL_DELAY'].shift().rolling(rolling_mean_size).mean().copy()"
   ]
  },
  {
   "cell_type": "code",
   "execution_count": 189,
   "id": "7c2161b8",
   "metadata": {},
   "outputs": [],
   "source": [
    "make_features(lax_data, 7, 3)"
   ]
  },
  {
   "cell_type": "code",
   "execution_count": 190,
   "id": "8a4e4058",
   "metadata": {},
   "outputs": [
    {
     "data": {
      "text/html": [
       "<div>\n",
       "<style scoped>\n",
       "    .dataframe tbody tr th:only-of-type {\n",
       "        vertical-align: middle;\n",
       "    }\n",
       "\n",
       "    .dataframe tbody tr th {\n",
       "        vertical-align: top;\n",
       "    }\n",
       "\n",
       "    .dataframe thead th {\n",
       "        text-align: right;\n",
       "    }\n",
       "</style>\n",
       "<table border=\"1\" class=\"dataframe\">\n",
       "  <thead>\n",
       "    <tr style=\"text-align: right;\">\n",
       "      <th></th>\n",
       "      <th>ARRIVAL_DELAY</th>\n",
       "      <th>year</th>\n",
       "      <th>month</th>\n",
       "      <th>day</th>\n",
       "      <th>dayofweek</th>\n",
       "      <th>is_weekend</th>\n",
       "      <th>lag_1</th>\n",
       "      <th>lag_2</th>\n",
       "      <th>lag_3</th>\n",
       "      <th>lag_4</th>\n",
       "      <th>lag_5</th>\n",
       "      <th>lag_6</th>\n",
       "      <th>lag_7</th>\n",
       "      <th>ARRIVAL_DELAY_mean</th>\n",
       "    </tr>\n",
       "    <tr>\n",
       "      <th>Date</th>\n",
       "      <th></th>\n",
       "      <th></th>\n",
       "      <th></th>\n",
       "      <th></th>\n",
       "      <th></th>\n",
       "      <th></th>\n",
       "      <th></th>\n",
       "      <th></th>\n",
       "      <th></th>\n",
       "      <th></th>\n",
       "      <th></th>\n",
       "      <th></th>\n",
       "      <th></th>\n",
       "      <th></th>\n",
       "    </tr>\n",
       "  </thead>\n",
       "  <tbody>\n",
       "    <tr>\n",
       "      <th>2015-01-01</th>\n",
       "      <td>4.614130</td>\n",
       "      <td>2015</td>\n",
       "      <td>1</td>\n",
       "      <td>1</td>\n",
       "      <td>3</td>\n",
       "      <td>0</td>\n",
       "      <td>NaN</td>\n",
       "      <td>NaN</td>\n",
       "      <td>NaN</td>\n",
       "      <td>NaN</td>\n",
       "      <td>NaN</td>\n",
       "      <td>NaN</td>\n",
       "      <td>NaN</td>\n",
       "      <td>NaN</td>\n",
       "    </tr>\n",
       "    <tr>\n",
       "      <th>2015-01-02</th>\n",
       "      <td>16.513428</td>\n",
       "      <td>2015</td>\n",
       "      <td>1</td>\n",
       "      <td>2</td>\n",
       "      <td>4</td>\n",
       "      <td>0</td>\n",
       "      <td>4.614130</td>\n",
       "      <td>NaN</td>\n",
       "      <td>NaN</td>\n",
       "      <td>NaN</td>\n",
       "      <td>NaN</td>\n",
       "      <td>NaN</td>\n",
       "      <td>NaN</td>\n",
       "      <td>NaN</td>\n",
       "    </tr>\n",
       "    <tr>\n",
       "      <th>2015-01-03</th>\n",
       "      <td>26.056140</td>\n",
       "      <td>2015</td>\n",
       "      <td>1</td>\n",
       "      <td>3</td>\n",
       "      <td>5</td>\n",
       "      <td>0</td>\n",
       "      <td>16.513428</td>\n",
       "      <td>4.614130</td>\n",
       "      <td>NaN</td>\n",
       "      <td>NaN</td>\n",
       "      <td>NaN</td>\n",
       "      <td>NaN</td>\n",
       "      <td>NaN</td>\n",
       "      <td>NaN</td>\n",
       "    </tr>\n",
       "    <tr>\n",
       "      <th>2015-01-04</th>\n",
       "      <td>28.045977</td>\n",
       "      <td>2015</td>\n",
       "      <td>1</td>\n",
       "      <td>4</td>\n",
       "      <td>6</td>\n",
       "      <td>0</td>\n",
       "      <td>26.056140</td>\n",
       "      <td>16.513428</td>\n",
       "      <td>4.614130</td>\n",
       "      <td>NaN</td>\n",
       "      <td>NaN</td>\n",
       "      <td>NaN</td>\n",
       "      <td>NaN</td>\n",
       "      <td>15.727900</td>\n",
       "    </tr>\n",
       "    <tr>\n",
       "      <th>2015-01-05</th>\n",
       "      <td>15.788618</td>\n",
       "      <td>2015</td>\n",
       "      <td>1</td>\n",
       "      <td>5</td>\n",
       "      <td>0</td>\n",
       "      <td>0</td>\n",
       "      <td>28.045977</td>\n",
       "      <td>26.056140</td>\n",
       "      <td>16.513428</td>\n",
       "      <td>4.614130</td>\n",
       "      <td>NaN</td>\n",
       "      <td>NaN</td>\n",
       "      <td>NaN</td>\n",
       "      <td>23.538515</td>\n",
       "    </tr>\n",
       "    <tr>\n",
       "      <th>...</th>\n",
       "      <td>...</td>\n",
       "      <td>...</td>\n",
       "      <td>...</td>\n",
       "      <td>...</td>\n",
       "      <td>...</td>\n",
       "      <td>...</td>\n",
       "      <td>...</td>\n",
       "      <td>...</td>\n",
       "      <td>...</td>\n",
       "      <td>...</td>\n",
       "      <td>...</td>\n",
       "      <td>...</td>\n",
       "      <td>...</td>\n",
       "      <td>...</td>\n",
       "    </tr>\n",
       "    <tr>\n",
       "      <th>2015-12-27</th>\n",
       "      <td>30.691228</td>\n",
       "      <td>2015</td>\n",
       "      <td>12</td>\n",
       "      <td>27</td>\n",
       "      <td>6</td>\n",
       "      <td>0</td>\n",
       "      <td>20.906810</td>\n",
       "      <td>-2.946237</td>\n",
       "      <td>4.245283</td>\n",
       "      <td>13.101549</td>\n",
       "      <td>21.084192</td>\n",
       "      <td>22.345238</td>\n",
       "      <td>14.794690</td>\n",
       "      <td>7.401952</td>\n",
       "    </tr>\n",
       "    <tr>\n",
       "      <th>2015-12-28</th>\n",
       "      <td>21.883513</td>\n",
       "      <td>2015</td>\n",
       "      <td>12</td>\n",
       "      <td>28</td>\n",
       "      <td>0</td>\n",
       "      <td>0</td>\n",
       "      <td>30.691228</td>\n",
       "      <td>20.906810</td>\n",
       "      <td>-2.946237</td>\n",
       "      <td>4.245283</td>\n",
       "      <td>13.101549</td>\n",
       "      <td>21.084192</td>\n",
       "      <td>22.345238</td>\n",
       "      <td>16.217267</td>\n",
       "    </tr>\n",
       "    <tr>\n",
       "      <th>2015-12-29</th>\n",
       "      <td>22.626761</td>\n",
       "      <td>2015</td>\n",
       "      <td>12</td>\n",
       "      <td>29</td>\n",
       "      <td>1</td>\n",
       "      <td>0</td>\n",
       "      <td>21.883513</td>\n",
       "      <td>30.691228</td>\n",
       "      <td>20.906810</td>\n",
       "      <td>-2.946237</td>\n",
       "      <td>4.245283</td>\n",
       "      <td>13.101549</td>\n",
       "      <td>21.084192</td>\n",
       "      <td>24.493850</td>\n",
       "    </tr>\n",
       "    <tr>\n",
       "      <th>2015-12-30</th>\n",
       "      <td>16.098276</td>\n",
       "      <td>2015</td>\n",
       "      <td>12</td>\n",
       "      <td>30</td>\n",
       "      <td>2</td>\n",
       "      <td>0</td>\n",
       "      <td>22.626761</td>\n",
       "      <td>21.883513</td>\n",
       "      <td>30.691228</td>\n",
       "      <td>20.906810</td>\n",
       "      <td>-2.946237</td>\n",
       "      <td>4.245283</td>\n",
       "      <td>13.101549</td>\n",
       "      <td>25.067167</td>\n",
       "    </tr>\n",
       "    <tr>\n",
       "      <th>2015-12-31</th>\n",
       "      <td>-1.768421</td>\n",
       "      <td>2015</td>\n",
       "      <td>12</td>\n",
       "      <td>31</td>\n",
       "      <td>3</td>\n",
       "      <td>0</td>\n",
       "      <td>16.098276</td>\n",
       "      <td>22.626761</td>\n",
       "      <td>21.883513</td>\n",
       "      <td>30.691228</td>\n",
       "      <td>20.906810</td>\n",
       "      <td>-2.946237</td>\n",
       "      <td>4.245283</td>\n",
       "      <td>20.202850</td>\n",
       "    </tr>\n",
       "  </tbody>\n",
       "</table>\n",
       "<p>334 rows × 14 columns</p>\n",
       "</div>"
      ],
      "text/plain": [
       "            ARRIVAL_DELAY  year  month  day  dayofweek  is_weekend      lag_1  \\\n",
       "Date                                                                            \n",
       "2015-01-01       4.614130  2015      1    1          3           0        NaN   \n",
       "2015-01-02      16.513428  2015      1    2          4           0   4.614130   \n",
       "2015-01-03      26.056140  2015      1    3          5           0  16.513428   \n",
       "2015-01-04      28.045977  2015      1    4          6           0  26.056140   \n",
       "2015-01-05      15.788618  2015      1    5          0           0  28.045977   \n",
       "...                   ...   ...    ...  ...        ...         ...        ...   \n",
       "2015-12-27      30.691228  2015     12   27          6           0  20.906810   \n",
       "2015-12-28      21.883513  2015     12   28          0           0  30.691228   \n",
       "2015-12-29      22.626761  2015     12   29          1           0  21.883513   \n",
       "2015-12-30      16.098276  2015     12   30          2           0  22.626761   \n",
       "2015-12-31      -1.768421  2015     12   31          3           0  16.098276   \n",
       "\n",
       "                lag_2      lag_3      lag_4      lag_5      lag_6      lag_7  \\\n",
       "Date                                                                           \n",
       "2015-01-01        NaN        NaN        NaN        NaN        NaN        NaN   \n",
       "2015-01-02        NaN        NaN        NaN        NaN        NaN        NaN   \n",
       "2015-01-03   4.614130        NaN        NaN        NaN        NaN        NaN   \n",
       "2015-01-04  16.513428   4.614130        NaN        NaN        NaN        NaN   \n",
       "2015-01-05  26.056140  16.513428   4.614130        NaN        NaN        NaN   \n",
       "...               ...        ...        ...        ...        ...        ...   \n",
       "2015-12-27  -2.946237   4.245283  13.101549  21.084192  22.345238  14.794690   \n",
       "2015-12-28  20.906810  -2.946237   4.245283  13.101549  21.084192  22.345238   \n",
       "2015-12-29  30.691228  20.906810  -2.946237   4.245283  13.101549  21.084192   \n",
       "2015-12-30  21.883513  30.691228  20.906810  -2.946237   4.245283  13.101549   \n",
       "2015-12-31  22.626761  21.883513  30.691228  20.906810  -2.946237   4.245283   \n",
       "\n",
       "            ARRIVAL_DELAY_mean  \n",
       "Date                            \n",
       "2015-01-01                 NaN  \n",
       "2015-01-02                 NaN  \n",
       "2015-01-03                 NaN  \n",
       "2015-01-04           15.727900  \n",
       "2015-01-05           23.538515  \n",
       "...                        ...  \n",
       "2015-12-27            7.401952  \n",
       "2015-12-28           16.217267  \n",
       "2015-12-29           24.493850  \n",
       "2015-12-30           25.067167  \n",
       "2015-12-31           20.202850  \n",
       "\n",
       "[334 rows x 14 columns]"
      ]
     },
     "execution_count": 190,
     "metadata": {},
     "output_type": "execute_result"
    }
   ],
   "source": [
    "lax_data"
   ]
  },
  {
   "cell_type": "code",
   "execution_count": 191,
   "id": "d81b01b3",
   "metadata": {},
   "outputs": [],
   "source": [
    "lax_data.dropna(inplace=True)"
   ]
  },
  {
   "cell_type": "code",
   "execution_count": 192,
   "id": "3d2e27be",
   "metadata": {},
   "outputs": [
    {
     "data": {
      "text/html": [
       "<div>\n",
       "<style scoped>\n",
       "    .dataframe tbody tr th:only-of-type {\n",
       "        vertical-align: middle;\n",
       "    }\n",
       "\n",
       "    .dataframe tbody tr th {\n",
       "        vertical-align: top;\n",
       "    }\n",
       "\n",
       "    .dataframe thead th {\n",
       "        text-align: right;\n",
       "    }\n",
       "</style>\n",
       "<table border=\"1\" class=\"dataframe\">\n",
       "  <thead>\n",
       "    <tr style=\"text-align: right;\">\n",
       "      <th></th>\n",
       "      <th>ARRIVAL_DELAY</th>\n",
       "      <th>year</th>\n",
       "      <th>month</th>\n",
       "      <th>day</th>\n",
       "      <th>dayofweek</th>\n",
       "      <th>is_weekend</th>\n",
       "      <th>lag_1</th>\n",
       "      <th>lag_2</th>\n",
       "      <th>lag_3</th>\n",
       "      <th>lag_4</th>\n",
       "      <th>lag_5</th>\n",
       "      <th>lag_6</th>\n",
       "      <th>lag_7</th>\n",
       "      <th>ARRIVAL_DELAY_mean</th>\n",
       "    </tr>\n",
       "    <tr>\n",
       "      <th>Date</th>\n",
       "      <th></th>\n",
       "      <th></th>\n",
       "      <th></th>\n",
       "      <th></th>\n",
       "      <th></th>\n",
       "      <th></th>\n",
       "      <th></th>\n",
       "      <th></th>\n",
       "      <th></th>\n",
       "      <th></th>\n",
       "      <th></th>\n",
       "      <th></th>\n",
       "      <th></th>\n",
       "      <th></th>\n",
       "    </tr>\n",
       "  </thead>\n",
       "  <tbody>\n",
       "    <tr>\n",
       "      <th>2015-01-08</th>\n",
       "      <td>6.203152</td>\n",
       "      <td>2015</td>\n",
       "      <td>1</td>\n",
       "      <td>8</td>\n",
       "      <td>3</td>\n",
       "      <td>0</td>\n",
       "      <td>5.442446</td>\n",
       "      <td>7.234004</td>\n",
       "      <td>15.788618</td>\n",
       "      <td>28.045977</td>\n",
       "      <td>26.056140</td>\n",
       "      <td>16.513428</td>\n",
       "      <td>4.614130</td>\n",
       "      <td>9.488356</td>\n",
       "    </tr>\n",
       "    <tr>\n",
       "      <th>2015-01-09</th>\n",
       "      <td>8.132042</td>\n",
       "      <td>2015</td>\n",
       "      <td>1</td>\n",
       "      <td>9</td>\n",
       "      <td>4</td>\n",
       "      <td>0</td>\n",
       "      <td>6.203152</td>\n",
       "      <td>5.442446</td>\n",
       "      <td>7.234004</td>\n",
       "      <td>15.788618</td>\n",
       "      <td>28.045977</td>\n",
       "      <td>26.056140</td>\n",
       "      <td>16.513428</td>\n",
       "      <td>6.293201</td>\n",
       "    </tr>\n",
       "    <tr>\n",
       "      <th>2015-01-10</th>\n",
       "      <td>2.709746</td>\n",
       "      <td>2015</td>\n",
       "      <td>1</td>\n",
       "      <td>10</td>\n",
       "      <td>5</td>\n",
       "      <td>0</td>\n",
       "      <td>8.132042</td>\n",
       "      <td>6.203152</td>\n",
       "      <td>5.442446</td>\n",
       "      <td>7.234004</td>\n",
       "      <td>15.788618</td>\n",
       "      <td>28.045977</td>\n",
       "      <td>26.056140</td>\n",
       "      <td>6.592547</td>\n",
       "    </tr>\n",
       "    <tr>\n",
       "      <th>2015-01-11</th>\n",
       "      <td>24.195531</td>\n",
       "      <td>2015</td>\n",
       "      <td>1</td>\n",
       "      <td>11</td>\n",
       "      <td>6</td>\n",
       "      <td>0</td>\n",
       "      <td>2.709746</td>\n",
       "      <td>8.132042</td>\n",
       "      <td>6.203152</td>\n",
       "      <td>5.442446</td>\n",
       "      <td>7.234004</td>\n",
       "      <td>15.788618</td>\n",
       "      <td>28.045977</td>\n",
       "      <td>5.681647</td>\n",
       "    </tr>\n",
       "    <tr>\n",
       "      <th>2015-01-12</th>\n",
       "      <td>10.781362</td>\n",
       "      <td>2015</td>\n",
       "      <td>1</td>\n",
       "      <td>12</td>\n",
       "      <td>0</td>\n",
       "      <td>0</td>\n",
       "      <td>24.195531</td>\n",
       "      <td>2.709746</td>\n",
       "      <td>8.132042</td>\n",
       "      <td>6.203152</td>\n",
       "      <td>5.442446</td>\n",
       "      <td>7.234004</td>\n",
       "      <td>15.788618</td>\n",
       "      <td>11.679106</td>\n",
       "    </tr>\n",
       "    <tr>\n",
       "      <th>...</th>\n",
       "      <td>...</td>\n",
       "      <td>...</td>\n",
       "      <td>...</td>\n",
       "      <td>...</td>\n",
       "      <td>...</td>\n",
       "      <td>...</td>\n",
       "      <td>...</td>\n",
       "      <td>...</td>\n",
       "      <td>...</td>\n",
       "      <td>...</td>\n",
       "      <td>...</td>\n",
       "      <td>...</td>\n",
       "      <td>...</td>\n",
       "      <td>...</td>\n",
       "    </tr>\n",
       "    <tr>\n",
       "      <th>2015-12-27</th>\n",
       "      <td>30.691228</td>\n",
       "      <td>2015</td>\n",
       "      <td>12</td>\n",
       "      <td>27</td>\n",
       "      <td>6</td>\n",
       "      <td>0</td>\n",
       "      <td>20.906810</td>\n",
       "      <td>-2.946237</td>\n",
       "      <td>4.245283</td>\n",
       "      <td>13.101549</td>\n",
       "      <td>21.084192</td>\n",
       "      <td>22.345238</td>\n",
       "      <td>14.794690</td>\n",
       "      <td>7.401952</td>\n",
       "    </tr>\n",
       "    <tr>\n",
       "      <th>2015-12-28</th>\n",
       "      <td>21.883513</td>\n",
       "      <td>2015</td>\n",
       "      <td>12</td>\n",
       "      <td>28</td>\n",
       "      <td>0</td>\n",
       "      <td>0</td>\n",
       "      <td>30.691228</td>\n",
       "      <td>20.906810</td>\n",
       "      <td>-2.946237</td>\n",
       "      <td>4.245283</td>\n",
       "      <td>13.101549</td>\n",
       "      <td>21.084192</td>\n",
       "      <td>22.345238</td>\n",
       "      <td>16.217267</td>\n",
       "    </tr>\n",
       "    <tr>\n",
       "      <th>2015-12-29</th>\n",
       "      <td>22.626761</td>\n",
       "      <td>2015</td>\n",
       "      <td>12</td>\n",
       "      <td>29</td>\n",
       "      <td>1</td>\n",
       "      <td>0</td>\n",
       "      <td>21.883513</td>\n",
       "      <td>30.691228</td>\n",
       "      <td>20.906810</td>\n",
       "      <td>-2.946237</td>\n",
       "      <td>4.245283</td>\n",
       "      <td>13.101549</td>\n",
       "      <td>21.084192</td>\n",
       "      <td>24.493850</td>\n",
       "    </tr>\n",
       "    <tr>\n",
       "      <th>2015-12-30</th>\n",
       "      <td>16.098276</td>\n",
       "      <td>2015</td>\n",
       "      <td>12</td>\n",
       "      <td>30</td>\n",
       "      <td>2</td>\n",
       "      <td>0</td>\n",
       "      <td>22.626761</td>\n",
       "      <td>21.883513</td>\n",
       "      <td>30.691228</td>\n",
       "      <td>20.906810</td>\n",
       "      <td>-2.946237</td>\n",
       "      <td>4.245283</td>\n",
       "      <td>13.101549</td>\n",
       "      <td>25.067167</td>\n",
       "    </tr>\n",
       "    <tr>\n",
       "      <th>2015-12-31</th>\n",
       "      <td>-1.768421</td>\n",
       "      <td>2015</td>\n",
       "      <td>12</td>\n",
       "      <td>31</td>\n",
       "      <td>3</td>\n",
       "      <td>0</td>\n",
       "      <td>16.098276</td>\n",
       "      <td>22.626761</td>\n",
       "      <td>21.883513</td>\n",
       "      <td>30.691228</td>\n",
       "      <td>20.906810</td>\n",
       "      <td>-2.946237</td>\n",
       "      <td>4.245283</td>\n",
       "      <td>20.202850</td>\n",
       "    </tr>\n",
       "  </tbody>\n",
       "</table>\n",
       "<p>327 rows × 14 columns</p>\n",
       "</div>"
      ],
      "text/plain": [
       "            ARRIVAL_DELAY  year  month  day  dayofweek  is_weekend      lag_1  \\\n",
       "Date                                                                            \n",
       "2015-01-08       6.203152  2015      1    8          3           0   5.442446   \n",
       "2015-01-09       8.132042  2015      1    9          4           0   6.203152   \n",
       "2015-01-10       2.709746  2015      1   10          5           0   8.132042   \n",
       "2015-01-11      24.195531  2015      1   11          6           0   2.709746   \n",
       "2015-01-12      10.781362  2015      1   12          0           0  24.195531   \n",
       "...                   ...   ...    ...  ...        ...         ...        ...   \n",
       "2015-12-27      30.691228  2015     12   27          6           0  20.906810   \n",
       "2015-12-28      21.883513  2015     12   28          0           0  30.691228   \n",
       "2015-12-29      22.626761  2015     12   29          1           0  21.883513   \n",
       "2015-12-30      16.098276  2015     12   30          2           0  22.626761   \n",
       "2015-12-31      -1.768421  2015     12   31          3           0  16.098276   \n",
       "\n",
       "                lag_2      lag_3      lag_4      lag_5      lag_6      lag_7  \\\n",
       "Date                                                                           \n",
       "2015-01-08   7.234004  15.788618  28.045977  26.056140  16.513428   4.614130   \n",
       "2015-01-09   5.442446   7.234004  15.788618  28.045977  26.056140  16.513428   \n",
       "2015-01-10   6.203152   5.442446   7.234004  15.788618  28.045977  26.056140   \n",
       "2015-01-11   8.132042   6.203152   5.442446   7.234004  15.788618  28.045977   \n",
       "2015-01-12   2.709746   8.132042   6.203152   5.442446   7.234004  15.788618   \n",
       "...               ...        ...        ...        ...        ...        ...   \n",
       "2015-12-27  -2.946237   4.245283  13.101549  21.084192  22.345238  14.794690   \n",
       "2015-12-28  20.906810  -2.946237   4.245283  13.101549  21.084192  22.345238   \n",
       "2015-12-29  30.691228  20.906810  -2.946237   4.245283  13.101549  21.084192   \n",
       "2015-12-30  21.883513  30.691228  20.906810  -2.946237   4.245283  13.101549   \n",
       "2015-12-31  22.626761  21.883513  30.691228  20.906810  -2.946237   4.245283   \n",
       "\n",
       "            ARRIVAL_DELAY_mean  \n",
       "Date                            \n",
       "2015-01-08            9.488356  \n",
       "2015-01-09            6.293201  \n",
       "2015-01-10            6.592547  \n",
       "2015-01-11            5.681647  \n",
       "2015-01-12           11.679106  \n",
       "...                        ...  \n",
       "2015-12-27            7.401952  \n",
       "2015-12-28           16.217267  \n",
       "2015-12-29           24.493850  \n",
       "2015-12-30           25.067167  \n",
       "2015-12-31           20.202850  \n",
       "\n",
       "[327 rows x 14 columns]"
      ]
     },
     "execution_count": 192,
     "metadata": {},
     "output_type": "execute_result"
    }
   ],
   "source": [
    "lax_data"
   ]
  },
  {
   "cell_type": "code",
   "execution_count": 193,
   "id": "44245eb1",
   "metadata": {},
   "outputs": [],
   "source": [
    "from sklearn.model_selection import train_test_split"
   ]
  },
  {
   "cell_type": "code",
   "execution_count": 194,
   "id": "633978c3",
   "metadata": {},
   "outputs": [
    {
     "name": "stdout",
     "output_type": "stream",
     "text": [
      "X_train (245, 13)\n",
      "X_test (82, 13)\n"
     ]
    }
   ],
   "source": [
    "features = lax_data.drop(['ARRIVAL_DELAY'],axis = 1)\n",
    "target = lax_data['ARRIVAL_DELAY']\n",
    "X_train,X_test,y_train, y_test = train_test_split(features,target, shuffle=False, test_size=0.25)\n",
    "print('X_train',X_train.shape)\n",
    "print('X_test',X_test.shape)"
   ]
  },
  {
   "cell_type": "code",
   "execution_count": 195,
   "id": "34e315e6",
   "metadata": {},
   "outputs": [],
   "source": [
    "from sklearn.model_selection import train_test_split, GridSearchCV\n",
    "from sklearn.linear_model import LinearRegression\n",
    "from sklearn.metrics import mean_squared_error\n",
    "from math import sqrt\n",
    "from statsmodels.tsa.seasonal import seasonal_decompose\n",
    "import matplotlib.pyplot as plt\n",
    "from sklearn.ensemble import RandomForestRegressor"
   ]
  },
  {
   "cell_type": "code",
   "execution_count": 196,
   "id": "f994f1ae",
   "metadata": {},
   "outputs": [
    {
     "data": {
      "text/plain": [
       "LinearRegression()"
      ]
     },
     "execution_count": 196,
     "metadata": {},
     "output_type": "execute_result"
    }
   ],
   "source": [
    "model_lr = LinearRegression()\n",
    "model_lr.fit(X_train,y_train)"
   ]
  },
  {
   "cell_type": "code",
   "execution_count": 197,
   "id": "51be1087",
   "metadata": {},
   "outputs": [],
   "source": [
    "arrd_predicted_lr = model_lr.predict(X_test)"
   ]
  },
  {
   "cell_type": "code",
   "execution_count": 198,
   "id": "0b2d1c2e",
   "metadata": {},
   "outputs": [
    {
     "data": {
      "text/plain": [
       "array([ 6.38597072e-01,  3.81359771e+00,  2.97905087e+00,  1.18940511e+00,\n",
       "        6.33711604e+00,  1.70136793e+00,  4.12437173e+00,  4.01678910e+00,\n",
       "        4.81461306e+00,  2.53903805e+00,  1.78077526e+00,  1.98857336e+00,\n",
       "        7.03112931e+00, -2.86792165e+00,  4.70558377e+00,  3.97521211e+00,\n",
       "        2.41113108e+00,  3.25051918e+00,  8.74802652e+00,  4.01792278e-01,\n",
       "        1.24559096e+00,  3.43789252e+00,  3.07292048e+00,  2.09966630e+00,\n",
       "        2.11355711e+00,  2.64154429e+00,  2.17400435e+00,  1.45594343e+00,\n",
       "        3.38398051e+00,  2.75912847e+00, -6.65449359e-01, -1.85343820e+00,\n",
       "        5.80814298e-02,  1.56527245e-01,  1.28770569e-01,  6.52836641e-01,\n",
       "        2.80933195e+00,  2.61105023e+00,  5.69322266e+00,  4.67838208e+00,\n",
       "        7.14198131e+00,  2.54135787e+00,  6.76380224e+00,  3.67601723e+00,\n",
       "        2.53711418e+00,  3.98195432e+00, -1.64216023e-02, -1.81029881e+00,\n",
       "        3.58254787e-01,  5.09713497e-02, -1.61553941e+00,  5.85829349e-01,\n",
       "       -5.22514428e-01,  9.73362879e-01,  2.87792752e+00,  4.29840704e-01,\n",
       "        1.41930692e+00,  2.71356921e+00,  8.33045417e-01,  2.14507789e+00,\n",
       "        5.90518289e+00,  4.54066305e+00,  1.86608370e+00,  4.32199907e+00,\n",
       "        6.10111019e+00,  1.43042995e-01,  4.43637795e+00,  6.34537290e+00,\n",
       "        4.91688613e+00,  9.12874643e+00,  8.54097649e+00,  8.96102001e+00,\n",
       "        1.17520945e+01,  1.13166650e+01,  1.08683122e+01,  1.00959868e+01,\n",
       "        5.69205352e+00,  1.49348490e+01,  1.47042828e+01,  1.32282107e+01,\n",
       "        1.72367068e+01,  1.23387323e+01])"
      ]
     },
     "execution_count": 198,
     "metadata": {},
     "output_type": "execute_result"
    }
   ],
   "source": [
    "arrd_predicted_lr"
   ]
  },
  {
   "cell_type": "code",
   "execution_count": 199,
   "id": "51bb1fe6",
   "metadata": {},
   "outputs": [
    {
     "name": "stdout",
     "output_type": "stream",
     "text": [
      "RMSE тестовой выборки LinearRegression:  6.792795830679128\n"
     ]
    }
   ],
   "source": [
    "print(\"RMSE тестовой выборки LinearRegression: \",np.sqrt(mean_squared_error(y_test, arrd_predicted_lr)))"
   ]
  },
  {
   "cell_type": "code",
   "execution_count": 200,
   "id": "252dc38b",
   "metadata": {},
   "outputs": [
    {
     "data": {
      "image/png": "[encoded data removed]",
      "text/plain": [
       "<Figure size 1080x504 with 1 Axes>"
      ]
     },
     "metadata": {
      "needs_background": "light"
     },
     "output_type": "display_data"
    }
   ],
   "source": [
    "plt.figure(figsize=(15, 7))\n",
    "plt.plot(arrd_predicted_lr, \"r\",linewidth=5, label=\"LinearRegression\")\n",
    "plt.plot(y_test.values,'b' ,label=\"actual\", linewidth=5, alpha = 0.5)\n",
    "plt.legend(loc=\"best\")\n",
    "plt.title(\"Оценка моделей\")\n",
    "plt.grid(True);"
   ]
  },
  {
   "cell_type": "code",
   "execution_count": null,
   "id": "01ff81f4",
   "metadata": {},
   "outputs": [],
   "source": []
  },
  {
   "cell_type": "code",
   "execution_count": null,
   "id": "6a6039f5",
   "metadata": {},
   "outputs": [],
   "source": []
  }
 ],
 "metadata": {
  "kernelspec": {
   "display_name": "Python 3",
   "language": "python",
   "name": "python3"
  },
  "language_info": {
   "codemirror_mode": {
    "name": "ipython",
    "version": 3
   },
   "file_extension": ".py",
   "mimetype": "text/x-python",
   "name": "python",
   "nbconvert_exporter": "python",
   "pygments_lexer": "ipython3",
   "version": "3.8.8"
  },
  "toc": {
   "base_numbering": 1,
   "nav_menu": {},
   "number_sections": true,
   "sideBar": true,
   "skip_h1_title": false,
   "title_cell": "Table of Contents",
   "title_sidebar": "Contents",
   "toc_cell": true,
   "toc_position": {},
   "toc_section_display": true,
   "toc_window_display": false
  }
 },
 "nbformat": 4,
 "nbformat_minor": 5
}
