{
 "cells": [
  {
   "cell_type": "markdown",
   "metadata": {
    "toc": true
   },
   "source": [
    "<h1>Table of Contents<span class=\"tocSkip\"></span></h1>\n",
    "<div class=\"toc\"><ul class=\"toc-item\"><li><span><a href=\"#Практика\" data-toc-modified-id=\"Практика-1\"><span class=\"toc-item-num\">1&nbsp;&nbsp;</span>Практика</a></span><ul class=\"toc-item\"><li><span><a href=\"#Определение-вероятности.-События\" data-toc-modified-id=\"Определение-вероятности.-События-1.1\"><span class=\"toc-item-num\">1.1&nbsp;&nbsp;</span>Определение вероятности. События</a></span><ul class=\"toc-item\"><li><span><a href=\"#Задача-1\" data-toc-modified-id=\"Задача-1-1.1.1\"><span class=\"toc-item-num\">1.1.1&nbsp;&nbsp;</span>Задача 1</a></span></li><li><span><a href=\"#Задача-2\" data-toc-modified-id=\"Задача-2-1.1.2\"><span class=\"toc-item-num\">1.1.2&nbsp;&nbsp;</span>Задача 2</a></span></li><li><span><a href=\"#Задача-3\" data-toc-modified-id=\"Задача-3-1.1.3\"><span class=\"toc-item-num\">1.1.3&nbsp;&nbsp;</span>Задача 3</a></span></li><li><span><a href=\"#Задача-4\" data-toc-modified-id=\"Задача-4-1.1.4\"><span class=\"toc-item-num\">1.1.4&nbsp;&nbsp;</span>Задача 4</a></span></li></ul></li><li><span><a href=\"#Вероятность-суммы-событий\" data-toc-modified-id=\"Вероятность-суммы-событий-1.2\"><span class=\"toc-item-num\">1.2&nbsp;&nbsp;</span>Вероятность суммы событий</a></span><ul class=\"toc-item\"><li><span><a href=\"#Задача-5\" data-toc-modified-id=\"Задача-5-1.2.1\"><span class=\"toc-item-num\">1.2.1&nbsp;&nbsp;</span>Задача 5</a></span></li><li><span><a href=\"#Задача-6\" data-toc-modified-id=\"Задача-6-1.2.2\"><span class=\"toc-item-num\">1.2.2&nbsp;&nbsp;</span>Задача 6</a></span></li></ul></li><li><span><a href=\"#Случайные-величины\" data-toc-modified-id=\"Случайные-величины-1.3\"><span class=\"toc-item-num\">1.3&nbsp;&nbsp;</span>Случайные величины</a></span><ul class=\"toc-item\"><li><span><a href=\"#Задача-7\" data-toc-modified-id=\"Задача-7-1.3.1\"><span class=\"toc-item-num\">1.3.1&nbsp;&nbsp;</span>Задача 7</a></span></li><li><span><a href=\"#Задача-8\" data-toc-modified-id=\"Задача-8-1.3.2\"><span class=\"toc-item-num\">1.3.2&nbsp;&nbsp;</span>Задача 8</a></span></li></ul></li><li><span><a href=\"#Условные-вероятности\" data-toc-modified-id=\"Условные-вероятности-1.4\"><span class=\"toc-item-num\">1.4&nbsp;&nbsp;</span>Условные вероятности</a></span><ul class=\"toc-item\"><li><span><a href=\"#Задача-9\" data-toc-modified-id=\"Задача-9-1.4.1\"><span class=\"toc-item-num\">1.4.1&nbsp;&nbsp;</span>Задача 9</a></span></li><li><span><a href=\"#Задача-10\" data-toc-modified-id=\"Задача-10-1.4.2\"><span class=\"toc-item-num\">1.4.2&nbsp;&nbsp;</span>Задача 10</a></span></li></ul></li></ul></li></ul></div>"
   ]
  },
  {
   "cell_type": "markdown",
   "metadata": {
    "id": "pDrecLU-4QjS"
   },
   "source": [
    "# Практика"
   ]
  },
  {
   "cell_type": "markdown",
   "metadata": {
    "id": "gUvTNDlMaV-a"
   },
   "source": [
    "## Определение вероятности. События\n",
    "\n",
    "Требуется сгенерировать необходимые выборки и произвести по ним расчеты"
   ]
  },
  {
   "cell_type": "code",
   "execution_count": 1,
   "metadata": {
    "executionInfo": {
     "elapsed": 449,
     "status": "ok",
     "timestamp": 1650232428038,
     "user": {
      "displayName": "Антон Костин",
      "userId": "09148950128268910501"
     },
     "user_tz": -180
    },
    "id": "LpKhF1QJNJkt"
   },
   "outputs": [],
   "source": [
    "import random as rd\n",
    "import pandas as pd\n",
    "import numpy as np\n",
    "import matplotlib.pyplot as plt\n",
    "import scipy.stats as sts\n",
    "%matplotlib inline"
   ]
  },
  {
   "cell_type": "markdown",
   "metadata": {
    "id": "5V70InEBTgup"
   },
   "source": [
    "### Задача 1\n",
    "Брошено две монеты. Найти вероятность того, что монеты выпали разными сторонами"
   ]
  },
  {
   "cell_type": "code",
   "execution_count": 2,
   "metadata": {
    "colab": {
     "base_uri": "https://localhost:8080/",
     "height": 363
    },
    "executionInfo": {
     "elapsed": 21,
     "status": "ok",
     "timestamp": 1650232428561,
     "user": {
      "displayName": "Антон Костин",
      "userId": "09148950128268910501"
     },
     "user_tz": -180
    },
    "id": "88Iw-SL3jYQV",
    "outputId": "6fc1e2b2-1426-4c2b-f5ac-34487d1b02f9"
   },
   "outputs": [
    {
     "name": "stdout",
     "output_type": "stream",
     "text": [
      "0.5027\n"
     ]
    }
   ],
   "source": [
    "n = 10000\n",
    "orel = 0\n",
    "reshka = 1\n",
    "first_coin = np.random.choice([orel, reshka], n)\n",
    "second_coin = np.random.choice([orel, reshka], n)\n",
    "\n",
    "df_1 = pd.DataFrame(first_coin)\n",
    "df_2 = pd.DataFrame(second_coin)\n",
    "\n",
    "df3 = pd.concat([df_1,df_2], axis=1)\n",
    "df_concat = df3.set_axis(['first','second'],axis=1, inplace=False)\n",
    "df_concat['summ'] = df_concat['first']+df_concat['second']\n",
    "\n",
    "print((df_concat[df_concat['summ']==1]).count()[0]/n)"
   ]
  },
  {
   "cell_type": "markdown",
   "metadata": {
    "id": "t0XOMos2Tl0e"
   },
   "source": [
    "### Задача 2\n",
    "Брошено три монеты. Описать множество всех элементарных событий. Найти вероятности следующих событий:\n",
    "\n",
    "\n",
    "1.   A = {не выпало ни одного герба}\n",
    "2.   B = {выпало четное число гербов}\n",
    "3.   C = {на третьей монете выпал герб}\n"
   ]
  },
  {
   "cell_type": "code",
   "execution_count": 3,
   "metadata": {
    "colab": {
     "base_uri": "https://localhost:8080/",
     "height": 363
    },
    "executionInfo": {
     "elapsed": 20,
     "status": "ok",
     "timestamp": 1650232428562,
     "user": {
      "displayName": "Антон Костин",
      "userId": "09148950128268910501"
     },
     "user_tz": -180
    },
    "id": "o7NjAE9uUo-L",
    "outputId": "01dad9a9-b8d7-45b2-97cf-062be6e7047f"
   },
   "outputs": [
    {
     "data": {
      "text/html": [
       "<div>\n",
       "<style scoped>\n",
       "    .dataframe tbody tr th:only-of-type {\n",
       "        vertical-align: middle;\n",
       "    }\n",
       "\n",
       "    .dataframe tbody tr th {\n",
       "        vertical-align: top;\n",
       "    }\n",
       "\n",
       "    .dataframe thead th {\n",
       "        text-align: right;\n",
       "    }\n",
       "</style>\n",
       "<table border=\"1\" class=\"dataframe\">\n",
       "  <thead>\n",
       "    <tr style=\"text-align: right;\">\n",
       "      <th></th>\n",
       "      <th>first_coin</th>\n",
       "      <th>second_coin</th>\n",
       "      <th>third_coin</th>\n",
       "      <th>TN</th>\n",
       "    </tr>\n",
       "  </thead>\n",
       "  <tbody>\n",
       "    <tr>\n",
       "      <th>0</th>\n",
       "      <td>1</td>\n",
       "      <td>1</td>\n",
       "      <td>1</td>\n",
       "      <td>3</td>\n",
       "    </tr>\n",
       "    <tr>\n",
       "      <th>1</th>\n",
       "      <td>1</td>\n",
       "      <td>0</td>\n",
       "      <td>1</td>\n",
       "      <td>2</td>\n",
       "    </tr>\n",
       "    <tr>\n",
       "      <th>2</th>\n",
       "      <td>1</td>\n",
       "      <td>0</td>\n",
       "      <td>0</td>\n",
       "      <td>1</td>\n",
       "    </tr>\n",
       "    <tr>\n",
       "      <th>3</th>\n",
       "      <td>1</td>\n",
       "      <td>1</td>\n",
       "      <td>0</td>\n",
       "      <td>2</td>\n",
       "    </tr>\n",
       "    <tr>\n",
       "      <th>4</th>\n",
       "      <td>1</td>\n",
       "      <td>1</td>\n",
       "      <td>1</td>\n",
       "      <td>3</td>\n",
       "    </tr>\n",
       "    <tr>\n",
       "      <th>5</th>\n",
       "      <td>0</td>\n",
       "      <td>0</td>\n",
       "      <td>0</td>\n",
       "      <td>0</td>\n",
       "    </tr>\n",
       "    <tr>\n",
       "      <th>6</th>\n",
       "      <td>1</td>\n",
       "      <td>1</td>\n",
       "      <td>1</td>\n",
       "      <td>3</td>\n",
       "    </tr>\n",
       "    <tr>\n",
       "      <th>7</th>\n",
       "      <td>1</td>\n",
       "      <td>0</td>\n",
       "      <td>1</td>\n",
       "      <td>2</td>\n",
       "    </tr>\n",
       "    <tr>\n",
       "      <th>8</th>\n",
       "      <td>1</td>\n",
       "      <td>1</td>\n",
       "      <td>1</td>\n",
       "      <td>3</td>\n",
       "    </tr>\n",
       "    <tr>\n",
       "      <th>9</th>\n",
       "      <td>1</td>\n",
       "      <td>0</td>\n",
       "      <td>1</td>\n",
       "      <td>2</td>\n",
       "    </tr>\n",
       "  </tbody>\n",
       "</table>\n",
       "</div>"
      ],
      "text/plain": [
       "   first_coin  second_coin  third_coin  TN\n",
       "0           1            1           1   3\n",
       "1           1            0           1   2\n",
       "2           1            0           0   1\n",
       "3           1            1           0   2\n",
       "4           1            1           1   3\n",
       "5           0            0           0   0\n",
       "6           1            1           1   3\n",
       "7           1            0           1   2\n",
       "8           1            1           1   3\n",
       "9           1            0           1   2"
      ]
     },
     "execution_count": 3,
     "metadata": {},
     "output_type": "execute_result"
    }
   ],
   "source": [
    "df2 = pd.DataFrame([rd.randint(0,1) for i in range(n)],columns=['first_coin'])\n",
    "df2['second_coin'] =  pd.DataFrame([rd.randint(0,1) for i in range(n)])\n",
    "df2['third_coin'] =  pd.DataFrame([rd.randint(0,1) for i in range(n)])\n",
    "df2[['first_coin','second_coin','third_coin']] = df2[['first_coin','second_coin','third_coin']].astype(int)\n",
    "df2['TN'] = df2.sum(axis=1)\n",
    "df2.head(10)"
   ]
  },
  {
   "cell_type": "code",
   "execution_count": 4,
   "metadata": {
    "colab": {
     "base_uri": "https://localhost:8080/"
    },
    "executionInfo": {
     "elapsed": 19,
     "status": "ok",
     "timestamp": 1650232428562,
     "user": {
      "displayName": "Антон Костин",
      "userId": "09148950128268910501"
     },
     "user_tz": -180
    },
    "id": "nxSzw6mIRqHm",
    "outputId": "422129f5-daac-4a04-c45b-98d157ba81c5"
   },
   "outputs": [
    {
     "data": {
      "text/plain": [
       "0.1315"
      ]
     },
     "execution_count": 4,
     "metadata": {},
     "output_type": "execute_result"
    }
   ],
   "source": [
    "df2[df2['TN']==0].count()[3]/df2['TN'].count()"
   ]
  },
  {
   "cell_type": "code",
   "execution_count": 5,
   "metadata": {
    "colab": {
     "base_uri": "https://localhost:8080/"
    },
    "executionInfo": {
     "elapsed": 18,
     "status": "ok",
     "timestamp": 1650232428563,
     "user": {
      "displayName": "Антон Костин",
      "userId": "09148950128268910501"
     },
     "user_tz": -180
    },
    "id": "pgXN4CL3TIJZ",
    "outputId": "f8f9cd40-f835-4fa1-9df2-c801bbe27319"
   },
   "outputs": [
    {
     "data": {
      "text/plain": [
       "0.3696"
      ]
     },
     "execution_count": 5,
     "metadata": {},
     "output_type": "execute_result"
    }
   ],
   "source": [
    "df2[df2['TN']== (0 or 2)].count()[3]/df2['TN'].count()"
   ]
  },
  {
   "cell_type": "code",
   "execution_count": 6,
   "metadata": {
    "colab": {
     "base_uri": "https://localhost:8080/"
    },
    "executionInfo": {
     "elapsed": 17,
     "status": "ok",
     "timestamp": 1650232428563,
     "user": {
      "displayName": "Антон Костин",
      "userId": "09148950128268910501"
     },
     "user_tz": -180
    },
    "id": "MKgGw4tHWIdr",
    "outputId": "09200a92-07fb-4b98-f47b-7d2986cf5bad"
   },
   "outputs": [
    {
     "data": {
      "text/plain": [
       "0.4955"
      ]
     },
     "execution_count": 6,
     "metadata": {},
     "output_type": "execute_result"
    }
   ],
   "source": [
    "df2[df2['third_coin']== 1].count()[2]/df2['third_coin'].count()"
   ]
  },
  {
   "cell_type": "markdown",
   "metadata": {
    "id": "HaS2r0-UIYOa"
   },
   "source": [
    "Предлагается также решить задачи: \n",
    "\n",
    "### Задача 3\n",
    "Из двух претендентов E и L на ответственную должность три члена комиссии должны отобрать одного. Каждый член комиссии должен указать либо одного достойного, либо забраковать обоих. Претендент считается выбранным, если он был признана достойным хотя бы двумя членами комиссии.\n",
    "Найти вероятность событий:\n",
    "\n",
    "A = {рекомендован L}, B = {рекомендован E}\n"
   ]
  },
  {
   "cell_type": "code",
   "execution_count": 7,
   "metadata": {
    "colab": {
     "base_uri": "https://localhost:8080/",
     "height": 363
    },
    "executionInfo": {
     "elapsed": 16,
     "status": "ok",
     "timestamp": 1650232428563,
     "user": {
      "displayName": "Антон Костин",
      "userId": "09148950128268910501"
     },
     "user_tz": -180
    },
    "id": "JRzOz7g9IYOb",
    "outputId": "c3b83b13-1efd-4011-aed2-f035e4eabcf7"
   },
   "outputs": [
    {
     "data": {
      "text/html": [
       "<div>\n",
       "<style scoped>\n",
       "    .dataframe tbody tr th:only-of-type {\n",
       "        vertical-align: middle;\n",
       "    }\n",
       "\n",
       "    .dataframe tbody tr th {\n",
       "        vertical-align: top;\n",
       "    }\n",
       "\n",
       "    .dataframe thead th {\n",
       "        text-align: right;\n",
       "    }\n",
       "</style>\n",
       "<table border=\"1\" class=\"dataframe\">\n",
       "  <thead>\n",
       "    <tr style=\"text-align: right;\">\n",
       "      <th></th>\n",
       "      <th>first_man</th>\n",
       "      <th>second_man</th>\n",
       "      <th>third_man</th>\n",
       "      <th>TN</th>\n",
       "    </tr>\n",
       "  </thead>\n",
       "  <tbody>\n",
       "    <tr>\n",
       "      <th>0</th>\n",
       "      <td>0</td>\n",
       "      <td>1</td>\n",
       "      <td>0</td>\n",
       "      <td>1</td>\n",
       "    </tr>\n",
       "    <tr>\n",
       "      <th>1</th>\n",
       "      <td>0</td>\n",
       "      <td>1</td>\n",
       "      <td>4</td>\n",
       "      <td>5</td>\n",
       "    </tr>\n",
       "    <tr>\n",
       "      <th>2</th>\n",
       "      <td>1</td>\n",
       "      <td>1</td>\n",
       "      <td>0</td>\n",
       "      <td>2</td>\n",
       "    </tr>\n",
       "    <tr>\n",
       "      <th>3</th>\n",
       "      <td>1</td>\n",
       "      <td>0</td>\n",
       "      <td>1</td>\n",
       "      <td>2</td>\n",
       "    </tr>\n",
       "    <tr>\n",
       "      <th>4</th>\n",
       "      <td>0</td>\n",
       "      <td>0</td>\n",
       "      <td>0</td>\n",
       "      <td>0</td>\n",
       "    </tr>\n",
       "    <tr>\n",
       "      <th>5</th>\n",
       "      <td>0</td>\n",
       "      <td>4</td>\n",
       "      <td>4</td>\n",
       "      <td>8</td>\n",
       "    </tr>\n",
       "    <tr>\n",
       "      <th>6</th>\n",
       "      <td>1</td>\n",
       "      <td>4</td>\n",
       "      <td>4</td>\n",
       "      <td>9</td>\n",
       "    </tr>\n",
       "    <tr>\n",
       "      <th>7</th>\n",
       "      <td>0</td>\n",
       "      <td>1</td>\n",
       "      <td>1</td>\n",
       "      <td>2</td>\n",
       "    </tr>\n",
       "    <tr>\n",
       "      <th>8</th>\n",
       "      <td>4</td>\n",
       "      <td>1</td>\n",
       "      <td>1</td>\n",
       "      <td>6</td>\n",
       "    </tr>\n",
       "    <tr>\n",
       "      <th>9</th>\n",
       "      <td>4</td>\n",
       "      <td>1</td>\n",
       "      <td>0</td>\n",
       "      <td>5</td>\n",
       "    </tr>\n",
       "  </tbody>\n",
       "</table>\n",
       "</div>"
      ],
      "text/plain": [
       "   first_man  second_man  third_man  TN\n",
       "0          0           1          0   1\n",
       "1          0           1          4   5\n",
       "2          1           1          0   2\n",
       "3          1           0          1   2\n",
       "4          0           0          0   0\n",
       "5          0           4          4   8\n",
       "6          1           4          4   9\n",
       "7          0           1          1   2\n",
       "8          4           1          1   6\n",
       "9          4           1          0   5"
      ]
     },
     "execution_count": 7,
     "metadata": {},
     "output_type": "execute_result"
    }
   ],
   "source": [
    "df3 = pd.DataFrame([rd.randint(0,2)**2 for i in range(n)],columns=['first_man'])\n",
    "df3['second_man'] =  pd.DataFrame([rd.randint(0,2)**2 for i in range(n)])\n",
    "df3['third_man'] =  pd.DataFrame([rd.randint(0,2)**2 for i in range(n)])\n",
    "df3[['first_man','second_man','third_man']] = df3[['first_man','second_man','third_man']].astype(int)\n",
    "df3['TN'] = df3.sum(axis=1)\n",
    "df3.head(10)\n",
    "## 0 - false, 1 - true L, 4 - true E"
   ]
  },
  {
   "cell_type": "code",
   "execution_count": 8,
   "metadata": {
    "colab": {
     "base_uri": "https://localhost:8080/"
    },
    "executionInfo": {
     "elapsed": 15,
     "status": "ok",
     "timestamp": 1650232428563,
     "user": {
      "displayName": "Антон Костин",
      "userId": "09148950128268910501"
     },
     "user_tz": -180
    },
    "id": "qeda9turYKJh",
    "outputId": "d34b87b6-48dd-419c-fd29-0b661a88613e"
   },
   "outputs": [
    {
     "data": {
      "text/plain": [
       "0.1047"
      ]
     },
     "execution_count": 8,
     "metadata": {},
     "output_type": "execute_result"
    }
   ],
   "source": [
    "df3[df3['TN']== (2 or 3 or 6)].count()[3]/df3['TN'].count()\n",
    "## L"
   ]
  },
  {
   "cell_type": "code",
   "execution_count": 9,
   "metadata": {
    "colab": {
     "base_uri": "https://localhost:8080/"
    },
    "executionInfo": {
     "elapsed": 14,
     "status": "ok",
     "timestamp": 1650232428564,
     "user": {
      "displayName": "Антон Костин",
      "userId": "09148950128268910501"
     },
     "user_tz": -180
    },
    "id": "fMscbr45aOdt",
    "outputId": "6461e304-fcac-47c0-8651-2743d2a38d36"
   },
   "outputs": [
    {
     "data": {
      "text/plain": [
       "0.1097"
      ]
     },
     "execution_count": 9,
     "metadata": {},
     "output_type": "execute_result"
    }
   ],
   "source": [
    "df3[df3['TN']== (8 or 9 or 12)].count()[3]/df3['TN'].count()\n",
    "## E"
   ]
  },
  {
   "cell_type": "markdown",
   "metadata": {
    "id": "peM38mVfYa5B"
   },
   "source": [
    "### Задача 4\n",
    "Брошено две игральных кости. Описать множество элементарных событий. Найти вероятности событий:\n",
    "\n",
    "A = {вышло две \"шестерки\"}\n",
    "\n",
    "B = {сумма выпавших очков не меньше 11}\n",
    "\n",
    "C = {не выпала ни одна \"шестерка\"}"
   ]
  },
  {
   "cell_type": "code",
   "execution_count": 10,
   "metadata": {
    "colab": {
     "base_uri": "https://localhost:8080/",
     "height": 363
    },
    "executionInfo": {
     "elapsed": 12,
     "status": "ok",
     "timestamp": 1650232428564,
     "user": {
      "displayName": "Антон Костин",
      "userId": "09148950128268910501"
     },
     "user_tz": -180
    },
    "id": "hDfF028cIYOe",
    "outputId": "d4f61f0e-c0cb-4f9f-86a6-3f23ce5d1eca"
   },
   "outputs": [
    {
     "data": {
      "text/html": [
       "<div>\n",
       "<style scoped>\n",
       "    .dataframe tbody tr th:only-of-type {\n",
       "        vertical-align: middle;\n",
       "    }\n",
       "\n",
       "    .dataframe tbody tr th {\n",
       "        vertical-align: top;\n",
       "    }\n",
       "\n",
       "    .dataframe thead th {\n",
       "        text-align: right;\n",
       "    }\n",
       "</style>\n",
       "<table border=\"1\" class=\"dataframe\">\n",
       "  <thead>\n",
       "    <tr style=\"text-align: right;\">\n",
       "      <th></th>\n",
       "      <th>first</th>\n",
       "      <th>second</th>\n",
       "      <th>TN</th>\n",
       "    </tr>\n",
       "  </thead>\n",
       "  <tbody>\n",
       "    <tr>\n",
       "      <th>0</th>\n",
       "      <td>4</td>\n",
       "      <td>1</td>\n",
       "      <td>5</td>\n",
       "    </tr>\n",
       "    <tr>\n",
       "      <th>1</th>\n",
       "      <td>1</td>\n",
       "      <td>3</td>\n",
       "      <td>4</td>\n",
       "    </tr>\n",
       "    <tr>\n",
       "      <th>2</th>\n",
       "      <td>4</td>\n",
       "      <td>4</td>\n",
       "      <td>8</td>\n",
       "    </tr>\n",
       "    <tr>\n",
       "      <th>3</th>\n",
       "      <td>1</td>\n",
       "      <td>4</td>\n",
       "      <td>5</td>\n",
       "    </tr>\n",
       "    <tr>\n",
       "      <th>4</th>\n",
       "      <td>3</td>\n",
       "      <td>4</td>\n",
       "      <td>7</td>\n",
       "    </tr>\n",
       "    <tr>\n",
       "      <th>5</th>\n",
       "      <td>4</td>\n",
       "      <td>6</td>\n",
       "      <td>10</td>\n",
       "    </tr>\n",
       "    <tr>\n",
       "      <th>6</th>\n",
       "      <td>4</td>\n",
       "      <td>3</td>\n",
       "      <td>7</td>\n",
       "    </tr>\n",
       "    <tr>\n",
       "      <th>7</th>\n",
       "      <td>4</td>\n",
       "      <td>1</td>\n",
       "      <td>5</td>\n",
       "    </tr>\n",
       "    <tr>\n",
       "      <th>8</th>\n",
       "      <td>3</td>\n",
       "      <td>6</td>\n",
       "      <td>9</td>\n",
       "    </tr>\n",
       "    <tr>\n",
       "      <th>9</th>\n",
       "      <td>3</td>\n",
       "      <td>3</td>\n",
       "      <td>6</td>\n",
       "    </tr>\n",
       "  </tbody>\n",
       "</table>\n",
       "</div>"
      ],
      "text/plain": [
       "   first  second  TN\n",
       "0      4       1   5\n",
       "1      1       3   4\n",
       "2      4       4   8\n",
       "3      1       4   5\n",
       "4      3       4   7\n",
       "5      4       6  10\n",
       "6      4       3   7\n",
       "7      4       1   5\n",
       "8      3       6   9\n",
       "9      3       3   6"
      ]
     },
     "execution_count": 10,
     "metadata": {},
     "output_type": "execute_result"
    }
   ],
   "source": [
    "df4 = pd.DataFrame([rd.randint(1,6) for i in range(n)],columns=['first'])\n",
    "df4['second'] =  pd.DataFrame([rd.randint(1,6) for i in range(n)])\n",
    "df4[['first','second']] = df4[['first','second']].astype(int)\n",
    "df4['TN'] = df4.sum(axis=1)\n",
    "df4.head(10)"
   ]
  },
  {
   "cell_type": "code",
   "execution_count": 11,
   "metadata": {
    "colab": {
     "base_uri": "https://localhost:8080/"
    },
    "executionInfo": {
     "elapsed": 12,
     "status": "ok",
     "timestamp": 1650232428564,
     "user": {
      "displayName": "Антон Костин",
      "userId": "09148950128268910501"
     },
     "user_tz": -180
    },
    "id": "pcc6Nqucblnq",
    "outputId": "c2697f9b-cd29-4308-d53c-2e4204d0cfb1"
   },
   "outputs": [
    {
     "data": {
      "text/plain": [
       "0.0298"
      ]
     },
     "execution_count": 11,
     "metadata": {},
     "output_type": "execute_result"
    }
   ],
   "source": [
    "df4[df4['TN']== 12].count()[2]/df4['TN'].count()"
   ]
  },
  {
   "cell_type": "code",
   "execution_count": 12,
   "metadata": {
    "colab": {
     "base_uri": "https://localhost:8080/"
    },
    "executionInfo": {
     "elapsed": 332,
     "status": "ok",
     "timestamp": 1650232428886,
     "user": {
      "displayName": "Антон Костин",
      "userId": "09148950128268910501"
     },
     "user_tz": -180
    },
    "id": "zJ2YQkzEb_rp",
    "outputId": "c2968e96-32d2-4b49-bf55-dc943ee05e67"
   },
   "outputs": [
    {
     "data": {
      "text/plain": [
       "0.085"
      ]
     },
     "execution_count": 12,
     "metadata": {},
     "output_type": "execute_result"
    }
   ],
   "source": [
    "df4[df4['TN']> 10].count()[2]/df4['TN'].count()"
   ]
  },
  {
   "cell_type": "code",
   "execution_count": 13,
   "metadata": {
    "colab": {
     "base_uri": "https://localhost:8080/"
    },
    "executionInfo": {
     "elapsed": 6,
     "status": "ok",
     "timestamp": 1650232428886,
     "user": {
      "displayName": "Антон Костин",
      "userId": "09148950128268910501"
     },
     "user_tz": -180
    },
    "id": "uPnb9D_AcSOD",
    "outputId": "ec66089d-d508-48c5-a250-0e99cb3515c6"
   },
   "outputs": [
    {
     "data": {
      "text/plain": [
       "0.6887"
      ]
     },
     "execution_count": 13,
     "metadata": {},
     "output_type": "execute_result"
    }
   ],
   "source": [
    "df4[(df4['first'] != 6) & (df4['second'] != 6)].count()[2]/df4['TN'].count()"
   ]
  },
  {
   "cell_type": "markdown",
   "metadata": {
    "id": "f-Bi0p8haclB"
   },
   "source": [
    "## Вероятность суммы событий"
   ]
  },
  {
   "cell_type": "markdown",
   "metadata": {
    "id": "g7A7QlvGTnwZ"
   },
   "source": [
    "### Задача 5\n",
    "Брошены две игральные кости. Найти вероятность события D = {выпала хотя бы одна шестёрка}\n"
   ]
  },
  {
   "cell_type": "code",
   "execution_count": 14,
   "metadata": {
    "colab": {
     "base_uri": "https://localhost:8080/",
     "height": 363
    },
    "executionInfo": {
     "elapsed": 293,
     "status": "ok",
     "timestamp": 1650237666950,
     "user": {
      "displayName": "Антон Костин",
      "userId": "09148950128268910501"
     },
     "user_tz": -180
    },
    "id": "vjtTJN-kUp9D",
    "outputId": "b8e24385-dcb2-4a97-86d1-027482cc7130"
   },
   "outputs": [
    {
     "data": {
      "text/html": [
       "<div>\n",
       "<style scoped>\n",
       "    .dataframe tbody tr th:only-of-type {\n",
       "        vertical-align: middle;\n",
       "    }\n",
       "\n",
       "    .dataframe tbody tr th {\n",
       "        vertical-align: top;\n",
       "    }\n",
       "\n",
       "    .dataframe thead th {\n",
       "        text-align: right;\n",
       "    }\n",
       "</style>\n",
       "<table border=\"1\" class=\"dataframe\">\n",
       "  <thead>\n",
       "    <tr style=\"text-align: right;\">\n",
       "      <th></th>\n",
       "      <th>first</th>\n",
       "      <th>second</th>\n",
       "    </tr>\n",
       "  </thead>\n",
       "  <tbody>\n",
       "    <tr>\n",
       "      <th>0</th>\n",
       "      <td>6</td>\n",
       "      <td>6</td>\n",
       "    </tr>\n",
       "    <tr>\n",
       "      <th>1</th>\n",
       "      <td>5</td>\n",
       "      <td>4</td>\n",
       "    </tr>\n",
       "    <tr>\n",
       "      <th>2</th>\n",
       "      <td>1</td>\n",
       "      <td>6</td>\n",
       "    </tr>\n",
       "    <tr>\n",
       "      <th>3</th>\n",
       "      <td>6</td>\n",
       "      <td>1</td>\n",
       "    </tr>\n",
       "    <tr>\n",
       "      <th>4</th>\n",
       "      <td>1</td>\n",
       "      <td>6</td>\n",
       "    </tr>\n",
       "    <tr>\n",
       "      <th>5</th>\n",
       "      <td>5</td>\n",
       "      <td>3</td>\n",
       "    </tr>\n",
       "    <tr>\n",
       "      <th>6</th>\n",
       "      <td>6</td>\n",
       "      <td>3</td>\n",
       "    </tr>\n",
       "    <tr>\n",
       "      <th>7</th>\n",
       "      <td>3</td>\n",
       "      <td>1</td>\n",
       "    </tr>\n",
       "    <tr>\n",
       "      <th>8</th>\n",
       "      <td>5</td>\n",
       "      <td>6</td>\n",
       "    </tr>\n",
       "    <tr>\n",
       "      <th>9</th>\n",
       "      <td>4</td>\n",
       "      <td>4</td>\n",
       "    </tr>\n",
       "  </tbody>\n",
       "</table>\n",
       "</div>"
      ],
      "text/plain": [
       "   first  second\n",
       "0      6       6\n",
       "1      5       4\n",
       "2      1       6\n",
       "3      6       1\n",
       "4      1       6\n",
       "5      5       3\n",
       "6      6       3\n",
       "7      3       1\n",
       "8      5       6\n",
       "9      4       4"
      ]
     },
     "execution_count": 14,
     "metadata": {},
     "output_type": "execute_result"
    }
   ],
   "source": [
    "df5 = pd.DataFrame([rd.randint(1,6) for i in range(n)],columns=['first'])\n",
    "df5['second'] =  pd.DataFrame([rd.randint(1,6) for i in range(n)])\n",
    "df5[['first','second']] = df5[['first','second']].astype(int)\n",
    "df5.head(10)"
   ]
  },
  {
   "cell_type": "code",
   "execution_count": 15,
   "metadata": {
    "colab": {
     "base_uri": "https://localhost:8080/"
    },
    "executionInfo": {
     "elapsed": 286,
     "status": "ok",
     "timestamp": 1650232987756,
     "user": {
      "displayName": "Антон Костин",
      "userId": "09148950128268910501"
     },
     "user_tz": -180
    },
    "id": "NqgzWclrhjHl",
    "outputId": "32f3cc9d-dfd0-4b56-997c-0b6525f771e5"
   },
   "outputs": [
    {
     "data": {
      "text/plain": [
       "0.3042"
      ]
     },
     "execution_count": 15,
     "metadata": {},
     "output_type": "execute_result"
    }
   ],
   "source": [
    "df5[(df5['first'] == 6) | (df5['second'] == 6)].count()[1]/df5['second'].count()"
   ]
  },
  {
   "cell_type": "markdown",
   "metadata": {
    "id": "R1bYSzQQbC6I"
   },
   "source": [
    "Предлагается также решить задачи: \n",
    "\n",
    "### Задача 6\n",
    "В телефонном номере три последние цифры стерлись. Считая, что все возможные значения стершихся цифр равновероятны, найти вероятность событий:\n",
    "\n",
    "A = {Стерлись различные цифры},\n",
    "\n",
    "B = {Стерлись одинаковые цифры},\n",
    "\n",
    "C = {Среди стершихся цифр хотя бы две совпадают},\n",
    "\n",
    "D = {Среди стершихся цифр хотя бы две различны}\n"
   ]
  },
  {
   "cell_type": "code",
   "execution_count": 16,
   "metadata": {
    "colab": {
     "base_uri": "https://localhost:8080/",
     "height": 363
    },
    "executionInfo": {
     "elapsed": 333,
     "status": "ok",
     "timestamp": 1650238506746,
     "user": {
      "displayName": "Антон Костин",
      "userId": "09148950128268910501"
     },
     "user_tz": -180
    },
    "id": "GdapU-caIYOj",
    "outputId": "ac342e55-4a46-4ff3-83df-148709bcd277"
   },
   "outputs": [
    {
     "data": {
      "text/html": [
       "<div>\n",
       "<style scoped>\n",
       "    .dataframe tbody tr th:only-of-type {\n",
       "        vertical-align: middle;\n",
       "    }\n",
       "\n",
       "    .dataframe tbody tr th {\n",
       "        vertical-align: top;\n",
       "    }\n",
       "\n",
       "    .dataframe thead th {\n",
       "        text-align: right;\n",
       "    }\n",
       "</style>\n",
       "<table border=\"1\" class=\"dataframe\">\n",
       "  <thead>\n",
       "    <tr style=\"text-align: right;\">\n",
       "      <th></th>\n",
       "      <th>-3</th>\n",
       "      <th>-2</th>\n",
       "      <th>-1</th>\n",
       "    </tr>\n",
       "  </thead>\n",
       "  <tbody>\n",
       "    <tr>\n",
       "      <th>0</th>\n",
       "      <td>1</td>\n",
       "      <td>1</td>\n",
       "      <td>5</td>\n",
       "    </tr>\n",
       "    <tr>\n",
       "      <th>1</th>\n",
       "      <td>9</td>\n",
       "      <td>5</td>\n",
       "      <td>0</td>\n",
       "    </tr>\n",
       "    <tr>\n",
       "      <th>2</th>\n",
       "      <td>3</td>\n",
       "      <td>1</td>\n",
       "      <td>8</td>\n",
       "    </tr>\n",
       "    <tr>\n",
       "      <th>3</th>\n",
       "      <td>0</td>\n",
       "      <td>2</td>\n",
       "      <td>0</td>\n",
       "    </tr>\n",
       "    <tr>\n",
       "      <th>4</th>\n",
       "      <td>3</td>\n",
       "      <td>5</td>\n",
       "      <td>2</td>\n",
       "    </tr>\n",
       "    <tr>\n",
       "      <th>5</th>\n",
       "      <td>2</td>\n",
       "      <td>0</td>\n",
       "      <td>2</td>\n",
       "    </tr>\n",
       "    <tr>\n",
       "      <th>6</th>\n",
       "      <td>1</td>\n",
       "      <td>7</td>\n",
       "      <td>8</td>\n",
       "    </tr>\n",
       "    <tr>\n",
       "      <th>7</th>\n",
       "      <td>4</td>\n",
       "      <td>2</td>\n",
       "      <td>3</td>\n",
       "    </tr>\n",
       "    <tr>\n",
       "      <th>8</th>\n",
       "      <td>9</td>\n",
       "      <td>8</td>\n",
       "      <td>4</td>\n",
       "    </tr>\n",
       "    <tr>\n",
       "      <th>9</th>\n",
       "      <td>2</td>\n",
       "      <td>9</td>\n",
       "      <td>6</td>\n",
       "    </tr>\n",
       "  </tbody>\n",
       "</table>\n",
       "</div>"
      ],
      "text/plain": [
       "   -3  -2  -1\n",
       "0   1   1   5\n",
       "1   9   5   0\n",
       "2   3   1   8\n",
       "3   0   2   0\n",
       "4   3   5   2\n",
       "5   2   0   2\n",
       "6   1   7   8\n",
       "7   4   2   3\n",
       "8   9   8   4\n",
       "9   2   9   6"
      ]
     },
     "execution_count": 16,
     "metadata": {},
     "output_type": "execute_result"
    }
   ],
   "source": [
    "df6 = pd.DataFrame([rd.randint(0,9) for i in range(n)],columns=['-3'])\n",
    "df6['-2'] =  pd.DataFrame([rd.randint(0,9) for i in range(n)])\n",
    "df6['-1'] =  pd.DataFrame([rd.randint(0,9) for i in range(n)])\n",
    "df6[['-3','-2', '-1']] = df6[['-3','-2', '-1']].astype(int)\n",
    "df6.head(10)"
   ]
  },
  {
   "cell_type": "code",
   "execution_count": 17,
   "metadata": {
    "colab": {
     "base_uri": "https://localhost:8080/"
    },
    "executionInfo": {
     "elapsed": 316,
     "status": "ok",
     "timestamp": 1650238836900,
     "user": {
      "displayName": "Антон Костин",
      "userId": "09148950128268910501"
     },
     "user_tz": -180
    },
    "id": "b_CzEY_wi0g5",
    "outputId": "010e6bca-8284-4ee7-ee2b-fc238a9fbeb9"
   },
   "outputs": [
    {
     "data": {
      "text/plain": [
       "0.9889"
      ]
     },
     "execution_count": 17,
     "metadata": {},
     "output_type": "execute_result"
    }
   ],
   "source": [
    "df6['Y'] = (df6['-1'] == df6['-2']) & (df6['-2'] == df6['-3'])\n",
    "1-df6[df6['Y']==True].count()[3]/df6['Y'].count()"
   ]
  },
  {
   "cell_type": "code",
   "execution_count": 18,
   "metadata": {
    "colab": {
     "base_uri": "https://localhost:8080/"
    },
    "executionInfo": {
     "elapsed": 314,
     "status": "ok",
     "timestamp": 1650238839250,
     "user": {
      "displayName": "Антон Костин",
      "userId": "09148950128268910501"
     },
     "user_tz": -180
    },
    "id": "mWsR6Jgr40Y7",
    "outputId": "26e1d141-d95b-457e-d115-77d18f81f745"
   },
   "outputs": [
    {
     "data": {
      "text/plain": [
       "0.0111"
      ]
     },
     "execution_count": 18,
     "metadata": {},
     "output_type": "execute_result"
    }
   ],
   "source": [
    "df6[df6['Y']==True].count()[3]/df6['Y'].count()"
   ]
  },
  {
   "cell_type": "code",
   "execution_count": 19,
   "metadata": {
    "colab": {
     "base_uri": "https://localhost:8080/"
    },
    "executionInfo": {
     "elapsed": 260,
     "status": "ok",
     "timestamp": 1650238959612,
     "user": {
      "displayName": "Антон Костин",
      "userId": "09148950128268910501"
     },
     "user_tz": -180
    },
    "id": "piK1Y91g5tIU",
    "outputId": "a1b19e16-003b-4c39-f979-1a7c83993a08"
   },
   "outputs": [
    {
     "data": {
      "text/plain": [
       "0.7173"
      ]
     },
     "execution_count": 19,
     "metadata": {},
     "output_type": "execute_result"
    }
   ],
   "source": [
    "df6['L'] = (df6['-1'] == df6['-2']) | (df6['-2'] == df6['-3']) | (df6['-1'] == df6['-3'])\n",
    "1-df6[df6['L']==True].count()[3]/df6['L'].count()"
   ]
  },
  {
   "cell_type": "code",
   "execution_count": 20,
   "metadata": {
    "colab": {
     "base_uri": "https://localhost:8080/"
    },
    "executionInfo": {
     "elapsed": 273,
     "status": "ok",
     "timestamp": 1650238973372,
     "user": {
      "displayName": "Антон Костин",
      "userId": "09148950128268910501"
     },
     "user_tz": -180
    },
    "id": "5cGeudh56Exi",
    "outputId": "da4a4590-3bf6-43a6-bbee-9527352a26f4"
   },
   "outputs": [
    {
     "data": {
      "text/plain": [
       "0.2827"
      ]
     },
     "execution_count": 20,
     "metadata": {},
     "output_type": "execute_result"
    }
   ],
   "source": [
    "df6[df6['L']==True].count()[3]/df6['L'].count()"
   ]
  },
  {
   "cell_type": "markdown",
   "metadata": {
    "id": "RnugkR8BalK_"
   },
   "source": [
    "## Случайные величины"
   ]
  },
  {
   "cell_type": "markdown",
   "metadata": {
    "id": "yLoZDZ17UVsp"
   },
   "source": [
    "### Задача 7\n",
    "В лотерее имеется 10 билетов, из которых один выигрышный. Размер выигрыша 10 ден. ед.; стоимость билета 1 ден ед. Найти закон распределения случайной величины X, равной чистому выигрышу участника лотереи, который вытаскивает билет первым."
   ]
  },
  {
   "cell_type": "code",
   "execution_count": 21,
   "metadata": {
    "colab": {
     "base_uri": "https://localhost:8080/"
    },
    "executionInfo": {
     "elapsed": 302,
     "status": "ok",
     "timestamp": 1650243435722,
     "user": {
      "displayName": "Антон Костин",
      "userId": "09148950128268910501"
     },
     "user_tz": -180
    },
    "id": "oNk432sKUqzT",
    "outputId": "82a73eed-3bb4-46d9-fb1e-bc47b0116472"
   },
   "outputs": [
    {
     "data": {
      "text/plain": [
       "0.0"
      ]
     },
     "execution_count": 21,
     "metadata": {},
     "output_type": "execute_result"
    }
   ],
   "source": [
    "(1/10*(10-1))+(9/10*-1)"
   ]
  },
  {
   "cell_type": "markdown",
   "metadata": {
    "id": "U-NK9liSbpvb"
   },
   "source": [
    "Предлагается также решить задачу: \n",
    "\n",
    "### Задача 8\n",
    "Брошены две игральные кости. Найти закон распределения случайной величины $X$, равной сумме выпавших очков. Найти вероятности событий ${X <= 4}$, ${X > 4}$"
   ]
  },
  {
   "cell_type": "code",
   "execution_count": 22,
   "metadata": {
    "colab": {
     "base_uri": "https://localhost:8080/"
    },
    "executionInfo": {
     "elapsed": 321,
     "status": "ok",
     "timestamp": 1650243887435,
     "user": {
      "displayName": "Антон Костин",
      "userId": "09148950128268910501"
     },
     "user_tz": -180
    },
    "id": "dFvYhTw-IYOo",
    "outputId": "f21d42e3-b767-4c8b-9be3-1983ff225b8f"
   },
   "outputs": [
    {
     "data": {
      "text/plain": [
       "0.08333333333333333"
      ]
     },
     "execution_count": 22,
     "metadata": {},
     "output_type": "execute_result"
    }
   ],
   "source": [
    "3/36"
   ]
  },
  {
   "cell_type": "code",
   "execution_count": 23,
   "metadata": {
    "colab": {
     "base_uri": "https://localhost:8080/"
    },
    "executionInfo": {
     "elapsed": 311,
     "status": "ok",
     "timestamp": 1650243907293,
     "user": {
      "displayName": "Антон Костин",
      "userId": "09148950128268910501"
     },
     "user_tz": -180
    },
    "id": "LNJNd7yXM3jV",
    "outputId": "c5c99446-2892-4654-9abf-33e0e94af5a0"
   },
   "outputs": [
    {
     "data": {
      "text/plain": [
       "0.9166666666666666"
      ]
     },
     "execution_count": 23,
     "metadata": {},
     "output_type": "execute_result"
    }
   ],
   "source": [
    "1-3/36"
   ]
  },
  {
   "cell_type": "markdown",
   "metadata": {
    "id": "shgW4D83awjK"
   },
   "source": [
    "## Условные вероятности"
   ]
  },
  {
   "cell_type": "markdown",
   "metadata": {
    "id": "Fbu1RFZwWZrk"
   },
   "source": [
    "### Задача 9\n",
    "Из колоды (36 карт) вынимают последовательно без возвращения две карты. Найти вероятность того, что первой картой была шестерка, а второй — семерка. Найти условную вероятность того же события при условии, что обе карты бубновой масти.\n"
   ]
  },
  {
   "cell_type": "code",
   "execution_count": 24,
   "metadata": {
    "colab": {
     "base_uri": "https://localhost:8080/"
    },
    "executionInfo": {
     "elapsed": 290,
     "status": "ok",
     "timestamp": 1650244006500,
     "user": {
      "displayName": "Антон Костин",
      "userId": "09148950128268910501"
     },
     "user_tz": -180
    },
    "id": "037o56awW9-E",
    "outputId": "c5d13fe2-ba45-4f24-e3df-700875cb4b79"
   },
   "outputs": [
    {
     "data": {
      "text/plain": [
       "0.22539682539682537"
      ]
     },
     "execution_count": 24,
     "metadata": {},
     "output_type": "execute_result"
    }
   ],
   "source": [
    "4/36+4/35"
   ]
  },
  {
   "cell_type": "code",
   "execution_count": 25,
   "metadata": {
    "colab": {
     "base_uri": "https://localhost:8080/"
    },
    "executionInfo": {
     "elapsed": 322,
     "status": "ok",
     "timestamp": 1650244088953,
     "user": {
      "displayName": "Антон Костин",
      "userId": "09148950128268910501"
     },
     "user_tz": -180
    },
    "id": "vbVqvOxBNUgJ",
    "outputId": "2d55f838-62f6-4c97-a2fc-aaafc4cc3029"
   },
   "outputs": [
    {
     "data": {
      "text/plain": [
       "0.05634920634920634"
      ]
     },
     "execution_count": 25,
     "metadata": {},
     "output_type": "execute_result"
    }
   ],
   "source": [
    "4/36*1/4+4/35*1/4"
   ]
  },
  {
   "cell_type": "markdown",
   "metadata": {
    "id": "hNVxtaz5c57b"
   },
   "source": [
    "Предлагается также решить задачу: \n",
    "\n",
    "### Задача 10\n",
    "Из урны, содержащей два белых и три черных шара, последовательно извлекают два шара; вынутые шары не возвращаются. Если первый шар оказался черным, то перед вторым извлечением в урну добавляют белый шар. В противном случае состав оставшихся шаров не меняют. Найти вероятности событий:\n",
    "\n",
    "$A$ = {извлечены два белых шара},\n",
    "\n",
    "$B$ = {извлечены два черных шара}\n",
    "\n",
    "Указание. Пусть событие $C_1$ = {первый шар белый}, событие $C_2$ = {второй шар белый}. Тогда $A = C_1C_2$, $B = \\overline C_1 \\overline C_2$ "
   ]
  },
  {
   "cell_type": "code",
   "execution_count": 26,
   "metadata": {
    "colab": {
     "base_uri": "https://localhost:8080/"
    },
    "executionInfo": {
     "elapsed": 368,
     "status": "ok",
     "timestamp": 1650244308601,
     "user": {
      "displayName": "Антон Костин",
      "userId": "09148950128268910501"
     },
     "user_tz": -180
    },
    "id": "WSLnhk2sdBt_",
    "outputId": "035fda92-52f1-46aa-9649-15eaca474f08"
   },
   "outputs": [
    {
     "data": {
      "text/plain": [
       "0.65"
      ]
     },
     "execution_count": 26,
     "metadata": {},
     "output_type": "execute_result"
    }
   ],
   "source": [
    "2/5+1/4"
   ]
  },
  {
   "cell_type": "code",
   "execution_count": 27,
   "metadata": {
    "colab": {
     "base_uri": "https://localhost:8080/"
    },
    "executionInfo": {
     "elapsed": 323,
     "status": "ok",
     "timestamp": 1650244395859,
     "user": {
      "displayName": "Антон Костин",
      "userId": "09148950128268910501"
     },
     "user_tz": -180
    },
    "id": "BqvkwRPWOZz1",
    "outputId": "7dba3dee-c64e-4af1-950d-25ad43bfc57a"
   },
   "outputs": [
    {
     "data": {
      "text/plain": [
       "1.0"
      ]
     },
     "execution_count": 27,
     "metadata": {},
     "output_type": "execute_result"
    }
   ],
   "source": [
    "3/5+2/5"
   ]
  },
  {
   "cell_type": "code",
   "execution_count": null,
   "metadata": {},
   "outputs": [],
   "source": []
  },
  {
   "cell_type": "code",
   "execution_count": null,
   "metadata": {},
   "outputs": [],
   "source": []
  }
 ],
 "metadata": {
  "colab": {
   "collapsed_sections": [],
   "name": "Практика_к_занятию_11 empty.ipynb",
   "provenance": []
  },
  "kernelspec": {
   "display_name": "Python 3",
   "language": "python",
   "name": "python3"
  },
  "language_info": {
   "codemirror_mode": {
    "name": "ipython",
    "version": 3
   },
   "file_extension": ".py",
   "mimetype": "text/x-python",
   "name": "python",
   "nbconvert_exporter": "python",
   "pygments_lexer": "ipython3",
   "version": "3.8.8"
  },
  "toc": {
   "base_numbering": 1,
   "nav_menu": {},
   "number_sections": true,
   "sideBar": true,
   "skip_h1_title": false,
   "title_cell": "Table of Contents",
   "title_sidebar": "Contents",
   "toc_cell": true,
   "toc_position": {},
   "toc_section_display": true,
   "toc_window_display": false
  }
 },
 "nbformat": 4,
 "nbformat_minor": 1
}
