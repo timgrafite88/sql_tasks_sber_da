{
 "cells": [
  {
   "cell_type": "markdown",
   "metadata": {
    "toc": true
   },
   "source": [
    "<h1>Table of Contents<span class=\"tocSkip\"></span></h1>\n",
    "<div class=\"toc\"><ul class=\"toc-item\"></ul></div>"
   ]
  },
  {
   "cell_type": "code",
   "execution_count": 1,
   "metadata": {},
   "outputs": [],
   "source": [
    "import requests\n",
    "from tqdm.auto import tqdm"
   ]
  },
  {
   "cell_type": "code",
   "execution_count": 2,
   "metadata": {},
   "outputs": [],
   "source": [
    "sber = '3529'\n",
    "page = 1\n",
    "num_per_page = 100\n",
    "moscow = 1\n",
    "url = f'https://api.hh.ru/vacancies?employer_id={sber}&per_page={num_per_page}'"
   ]
  },
  {
   "cell_type": "code",
   "execution_count": 3,
   "metadata": {},
   "outputs": [
    {
     "data": {
      "text/plain": [
       "20"
      ]
     },
     "execution_count": 3,
     "metadata": {},
     "output_type": "execute_result"
    }
   ],
   "source": [
    "res = requests.get(url)\n",
    "vacancies = res.json()\n",
    "num_pages = vacancies.get('pages')\n",
    "num_pages"
   ]
  },
  {
   "cell_type": "code",
   "execution_count": 4,
   "metadata": {},
   "outputs": [
    {
     "data": {
      "application/vnd.jupyter.widget-view+json": {
       "model_id": "6a7f4da546224f9d81f6a9995d3d66d5",
       "version_major": 2,
       "version_minor": 0
      },
      "text/plain": [
       "  0%|          | 0/20 [00:00<?, ?it/s]"
      ]
     },
     "metadata": {},
     "output_type": "display_data"
    }
   ],
   "source": [
    "all_vacancy_ids= []\n",
    "for i in tqdm(range(vacancies.get('pages'))):\n",
    "    url = f'https://api.hh.ru/vacancies?employer_id={sber}&page={i}&per_page={num_per_page}&area={moscow}'\n",
    "    res = requests.get(url)\n",
    "    vacancies = res.json()\n",
    "    vacancy_ids = [el.get('id') for el in vacancies.get('items')]\n",
    "    all_vacancy_ids.extend(vacancy_ids)"
   ]
  },
  {
   "cell_type": "code",
   "execution_count": 5,
   "metadata": {},
   "outputs": [],
   "source": [
    "# ₽Задание вытащить все вакансии СБЕРа с ХХ (у апи есть ограничение в 2000, подумайте как его обойти)\n",
    "# Вытащите все полные описания этих вакансий по запросу с https://api.hh.ru/vacancies/43326020 где 43326020 id вакансии\n",
    "# Создайте аналогичный vacancy DataFrame только добавьте поле skills\n",
    "# Переведите даты публикаций в datetime\n",
    "# Постройте график опубликованных вакансий по датам\n",
    "# Переведите даты в дни недели, и определите день недели, в который больше всего публикуют вакансий\n",
    "# Найдите те вакансии с использованием python, которые вам интересны\n",
    "# Определите по полю skills какие навыки больше всего востребованы для этих вакансий, и\n",
    "# Постройте график наиболее востребованных вакансий"
   ]
  },
  {
   "cell_type": "code",
   "execution_count": 6,
   "metadata": {},
   "outputs": [
    {
     "data": {
      "application/vnd.jupyter.widget-view+json": {
       "model_id": "c7d9e843b3034cc1acb89bbca9607e10",
       "version_major": 2,
       "version_minor": 0
      },
      "text/plain": [
       "  0%|          | 0/904 [00:00<?, ?it/s]"
      ]
     },
     "metadata": {},
     "output_type": "display_data"
    }
   ],
   "source": [
    "# Вытащите все полные описания этих вакансий по запросу с https://api.hh.ru/vacancies/43326020 где 43326020 id вакансии\n",
    "sber_vacs = []\n",
    "for i in tqdm(all_vacancy_ids):\n",
    "    url = f'https://api.hh.ru/vacancies/{i}'\n",
    "    sber_vacs.append(requests.get(url.format(i)).json())   "
   ]
  },
  {
   "cell_type": "code",
   "execution_count": 7,
   "metadata": {},
   "outputs": [],
   "source": [
    "# Создайте аналогичный vacancy DataFrame только добавьте поле skills"
   ]
  },
  {
   "cell_type": "code",
   "execution_count": 8,
   "metadata": {},
   "outputs": [],
   "source": [
    "import pandas as pd\n",
    "df = pd.DataFrame(sber_vacs)"
   ]
  },
  {
   "cell_type": "code",
   "execution_count": 9,
   "metadata": {
    "scrolled": true
   },
   "outputs": [],
   "source": [
    "vacssberdf=df[['id','published_at','created_at','name', 'description','type','site', 'key_skills']]"
   ]
  },
  {
   "cell_type": "code",
   "execution_count": 10,
   "metadata": {},
   "outputs": [],
   "source": [
    "# Переведите даты публикаций в datetime"
   ]
  },
  {
   "cell_type": "code",
   "execution_count": 11,
   "metadata": {},
   "outputs": [],
   "source": [
    "import datetime"
   ]
  },
  {
   "cell_type": "code",
   "execution_count": 12,
   "metadata": {},
   "outputs": [
    {
     "name": "stderr",
     "output_type": "stream",
     "text": [
      "<ipython-input-12-a1621f91bf93>:1: SettingWithCopyWarning: \n",
      "A value is trying to be set on a copy of a slice from a DataFrame.\n",
      "Try using .loc[row_indexer,col_indexer] = value instead\n",
      "\n",
      "See the caveats in the documentation: https://pandas.pydata.org/pandas-docs/stable/user_guide/indexing.html#returning-a-view-versus-a-copy\n",
      "  vacssberdf['published_at'] = pd.to_datetime(vacssberdf['published_at'], dayfirst=True)\n",
      "<ipython-input-12-a1621f91bf93>:2: SettingWithCopyWarning: \n",
      "A value is trying to be set on a copy of a slice from a DataFrame.\n",
      "Try using .loc[row_indexer,col_indexer] = value instead\n",
      "\n",
      "See the caveats in the documentation: https://pandas.pydata.org/pandas-docs/stable/user_guide/indexing.html#returning-a-view-versus-a-copy\n",
      "  vacssberdf['created_at'] = pd.to_datetime(vacssberdf['created_at'], dayfirst=True)\n",
      "<ipython-input-12-a1621f91bf93>:3: SettingWithCopyWarning: \n",
      "A value is trying to be set on a copy of a slice from a DataFrame.\n",
      "Try using .loc[row_indexer,col_indexer] = value instead\n",
      "\n",
      "See the caveats in the documentation: https://pandas.pydata.org/pandas-docs/stable/user_guide/indexing.html#returning-a-view-versus-a-copy\n",
      "  vacssberdf['created_at'] = pd.to_datetime(vacssberdf['created_at'], format=\"%d/%m/%Y\")\n",
      "<ipython-input-12-a1621f91bf93>:4: SettingWithCopyWarning: \n",
      "A value is trying to be set on a copy of a slice from a DataFrame.\n",
      "Try using .loc[row_indexer,col_indexer] = value instead\n",
      "\n",
      "See the caveats in the documentation: https://pandas.pydata.org/pandas-docs/stable/user_guide/indexing.html#returning-a-view-versus-a-copy\n",
      "  vacssberdf['published_at'] = pd.to_datetime(vacssberdf['published_at'], format=\"%d/%m/%Y\")\n",
      "<ipython-input-12-a1621f91bf93>:5: SettingWithCopyWarning: \n",
      "A value is trying to be set on a copy of a slice from a DataFrame.\n",
      "Try using .loc[row_indexer,col_indexer] = value instead\n",
      "\n",
      "See the caveats in the documentation: https://pandas.pydata.org/pandas-docs/stable/user_guide/indexing.html#returning-a-view-versus-a-copy\n",
      "  vacssberdf['normalised_date'] = vacssberdf['published_at'].dt.normalize()\n"
     ]
    }
   ],
   "source": [
    "vacssberdf['published_at'] = pd.to_datetime(vacssberdf['published_at'], dayfirst=True)\n",
    "vacssberdf['created_at'] = pd.to_datetime(vacssberdf['created_at'], dayfirst=True)\n",
    "vacssberdf['created_at'] = pd.to_datetime(vacssberdf['created_at'], format=\"%d/%m/%Y\")\n",
    "vacssberdf['published_at'] = pd.to_datetime(vacssberdf['published_at'], format=\"%d/%m/%Y\")\n",
    "vacssberdf['normalised_date'] = vacssberdf['published_at'].dt.normalize()"
   ]
  },
  {
   "cell_type": "code",
   "execution_count": 13,
   "metadata": {},
   "outputs": [],
   "source": [
    "# Постройте график опубликованных вакансий по датам"
   ]
  },
  {
   "cell_type": "code",
   "execution_count": 14,
   "metadata": {},
   "outputs": [],
   "source": [
    "import matplotlib.pyplot as plt"
   ]
  },
  {
   "cell_type": "code",
   "execution_count": 15,
   "metadata": {},
   "outputs": [],
   "source": [
    "df2= vacssberdf.groupby('normalised_date').count()['id']"
   ]
  },
  {
   "cell_type": "code",
   "execution_count": 16,
   "metadata": {},
   "outputs": [
    {
     "data": {
      "text/plain": [
       "<matplotlib.legend.Legend at 0x1b04e8795b0>"
      ]
     },
     "execution_count": 16,
     "metadata": {},
     "output_type": "execute_result"
    },
    {
     "data": {
      "image/png": "[encoded data removed]",
      "text/plain": [
       "<Figure size 432x288 with 1 Axes>"
      ]
     },
     "metadata": {
      "needs_background": "light"
     },
     "output_type": "display_data"
    }
   ],
   "source": [
    "df2.plot()\n",
    "plt.xlabel('date')\n",
    "plt.ylabel('vacancy_count')\n",
    "plt.legend(['id'])"
   ]
  },
  {
   "cell_type": "code",
   "execution_count": 17,
   "metadata": {},
   "outputs": [],
   "source": [
    "# Переведите даты в дни недели, и определите день недели, в который больше всего публикуют вакансий"
   ]
  },
  {
   "cell_type": "code",
   "execution_count": 18,
   "metadata": {},
   "outputs": [],
   "source": [
    "df3 = vacssberdf.copy()\n",
    "df3['day_of_week'] = df3['normalised_date'].dt.day_name()"
   ]
  },
  {
   "cell_type": "code",
   "execution_count": 19,
   "metadata": {},
   "outputs": [
    {
     "data": {
      "text/plain": [
       "'Wednesday'"
      ]
     },
     "execution_count": 19,
     "metadata": {},
     "output_type": "execute_result"
    }
   ],
   "source": [
    "df3_group = df3.groupby('day_of_week').count().reset_index()\n",
    "df3_group['day_of_week'].max()"
   ]
  },
  {
   "cell_type": "code",
   "execution_count": 20,
   "metadata": {},
   "outputs": [],
   "source": [
    "# Найдите те вакансии с использованием python, которые вам интересны"
   ]
  },
  {
   "cell_type": "code",
   "execution_count": 29,
   "metadata": {},
   "outputs": [],
   "source": [
    "my_vacancy = vacssberdf[(vacssberdf['name'].isin(['Data analyst', 'Аналитик данных']))]"
   ]
  },
  {
   "cell_type": "code",
   "execution_count": 22,
   "metadata": {},
   "outputs": [
    {
     "data": {
      "text/html": [
       "<div>\n",
       "<style scoped>\n",
       "    .dataframe tbody tr th:only-of-type {\n",
       "        vertical-align: middle;\n",
       "    }\n",
       "\n",
       "    .dataframe tbody tr th {\n",
       "        vertical-align: top;\n",
       "    }\n",
       "\n",
       "    .dataframe thead th {\n",
       "        text-align: right;\n",
       "    }\n",
       "</style>\n",
       "<table border=\"1\" class=\"dataframe\">\n",
       "  <thead>\n",
       "    <tr style=\"text-align: right;\">\n",
       "      <th></th>\n",
       "      <th>id</th>\n",
       "      <th>published_at</th>\n",
       "      <th>created_at</th>\n",
       "      <th>name</th>\n",
       "      <th>description</th>\n",
       "      <th>type</th>\n",
       "      <th>site</th>\n",
       "      <th>key_skills</th>\n",
       "      <th>normalised_date</th>\n",
       "    </tr>\n",
       "  </thead>\n",
       "  <tbody>\n",
       "    <tr>\n",
       "      <th>53</th>\n",
       "      <td>54167022</td>\n",
       "      <td>2022-03-21 17:33:05+03:00</td>\n",
       "      <td>2022-03-21 17:33:05+03:00</td>\n",
       "      <td>Аналитик данных</td>\n",
       "      <td>&lt;p&gt;&lt;strong&gt;&lt;strong&gt;Тебе предстоит:&lt;/strong&gt;&lt;/s...</td>\n",
       "      <td>{'id': 'open', 'name': 'Открытая'}</td>\n",
       "      <td>{'id': 'hh', 'name': 'hh.ru'}</td>\n",
       "      <td>[]</td>\n",
       "      <td>2022-03-21 00:00:00+03:00</td>\n",
       "    </tr>\n",
       "    <tr>\n",
       "      <th>55</th>\n",
       "      <td>53802196</td>\n",
       "      <td>2022-03-14 10:15:07+03:00</td>\n",
       "      <td>2022-03-14 10:15:07+03:00</td>\n",
       "      <td>Аналитик данных</td>\n",
       "      <td>&lt;p&gt;Сбер — больше чем банк, это динамично разви...</td>\n",
       "      <td>{'id': 'open', 'name': 'Открытая'}</td>\n",
       "      <td>{'id': 'hh', 'name': 'hh.ru'}</td>\n",
       "      <td>[]</td>\n",
       "      <td>2022-03-14 00:00:00+03:00</td>\n",
       "    </tr>\n",
       "    <tr>\n",
       "      <th>298</th>\n",
       "      <td>53931717</td>\n",
       "      <td>2022-03-16 13:07:29+03:00</td>\n",
       "      <td>2022-03-16 13:07:29+03:00</td>\n",
       "      <td>Data analyst</td>\n",
       "      <td>&lt;p&gt;Команда КАП. Панель Кибербезопасности&lt;/p&gt; &lt;...</td>\n",
       "      <td>{'id': 'open', 'name': 'Открытая'}</td>\n",
       "      <td>{'id': 'hh', 'name': 'hh.ru'}</td>\n",
       "      <td>[]</td>\n",
       "      <td>2022-03-16 00:00:00+03:00</td>\n",
       "    </tr>\n",
       "    <tr>\n",
       "      <th>505</th>\n",
       "      <td>53630353</td>\n",
       "      <td>2022-03-10 13:46:35+03:00</td>\n",
       "      <td>2022-03-10 13:46:35+03:00</td>\n",
       "      <td>Data analyst</td>\n",
       "      <td>&lt;p&gt;&lt;strong&gt;Команда КАП. Панель Кибербезопаснос...</td>\n",
       "      <td>{'id': 'open', 'name': 'Открытая'}</td>\n",
       "      <td>{'id': 'hh', 'name': 'hh.ru'}</td>\n",
       "      <td>[{'name': 'SQL'}, {'name': 'Поисковые системы'...</td>\n",
       "      <td>2022-03-10 00:00:00+03:00</td>\n",
       "    </tr>\n",
       "  </tbody>\n",
       "</table>\n",
       "</div>"
      ],
      "text/plain": [
       "           id              published_at                created_at  \\\n",
       "53   54167022 2022-03-21 17:33:05+03:00 2022-03-21 17:33:05+03:00   \n",
       "55   53802196 2022-03-14 10:15:07+03:00 2022-03-14 10:15:07+03:00   \n",
       "298  53931717 2022-03-16 13:07:29+03:00 2022-03-16 13:07:29+03:00   \n",
       "505  53630353 2022-03-10 13:46:35+03:00 2022-03-10 13:46:35+03:00   \n",
       "\n",
       "                name                                        description  \\\n",
       "53   Аналитик данных  <p><strong><strong>Тебе предстоит:</strong></s...   \n",
       "55   Аналитик данных  <p>Сбер — больше чем банк, это динамично разви...   \n",
       "298     Data analyst  <p>Команда КАП. Панель Кибербезопасности</p> <...   \n",
       "505     Data analyst  <p><strong>Команда КАП. Панель Кибербезопаснос...   \n",
       "\n",
       "                                   type                           site  \\\n",
       "53   {'id': 'open', 'name': 'Открытая'}  {'id': 'hh', 'name': 'hh.ru'}   \n",
       "55   {'id': 'open', 'name': 'Открытая'}  {'id': 'hh', 'name': 'hh.ru'}   \n",
       "298  {'id': 'open', 'name': 'Открытая'}  {'id': 'hh', 'name': 'hh.ru'}   \n",
       "505  {'id': 'open', 'name': 'Открытая'}  {'id': 'hh', 'name': 'hh.ru'}   \n",
       "\n",
       "                                            key_skills  \\\n",
       "53                                                  []   \n",
       "55                                                  []   \n",
       "298                                                 []   \n",
       "505  [{'name': 'SQL'}, {'name': 'Поисковые системы'...   \n",
       "\n",
       "              normalised_date  \n",
       "53  2022-03-21 00:00:00+03:00  \n",
       "55  2022-03-14 00:00:00+03:00  \n",
       "298 2022-03-16 00:00:00+03:00  \n",
       "505 2022-03-10 00:00:00+03:00  "
      ]
     },
     "execution_count": 22,
     "metadata": {},
     "output_type": "execute_result"
    }
   ],
   "source": [
    "my_vacancy"
   ]
  },
  {
   "cell_type": "code",
   "execution_count": 23,
   "metadata": {},
   "outputs": [],
   "source": [
    "# Определите по полю skills какие навыки больше всего востребованы для этих вакансий, и"
   ]
  },
  {
   "cell_type": "code",
   "execution_count": 24,
   "metadata": {},
   "outputs": [
    {
     "data": {
      "text/plain": [
       "53                                                    []\n",
       "55                                                    []\n",
       "298                                                   []\n",
       "505    [{'name': 'SQL'}, {'name': 'Поисковые системы'...\n",
       "Name: key_skills, dtype: object"
      ]
     },
     "execution_count": 24,
     "metadata": {},
     "output_type": "execute_result"
    }
   ],
   "source": [
    "my_vacancy['key_skills']"
   ]
  },
  {
   "cell_type": "code",
   "execution_count": 25,
   "metadata": {},
   "outputs": [],
   "source": [
    "# Постройте график наиболее востребованных вакансий"
   ]
  },
  {
   "cell_type": "code",
   "execution_count": 69,
   "metadata": {},
   "outputs": [
    {
     "data": {
      "text/plain": [
       "Text(0, 0.5, 'Вакансия')"
      ]
     },
     "execution_count": 69,
     "metadata": {},
     "output_type": "execute_result"
    },
    {
     "data": {
      "image/png": "[encoded data removed]",
      "text/plain": [
       "<Figure size 432x288 with 1 Axes>"
      ]
     },
     "metadata": {
      "needs_background": "light"
     },
     "output_type": "display_data"
    }
   ],
   "source": [
    "top_vacation = vacssberdf.copy()\n",
    "top_vacation = top_vacation.groupby('name').count()\n",
    "top_vacation = top_vacation.sort_values(by='id', ascending=False).head(10).reset_index()\n",
    "plt.barh(top_vacation['name'], top_vacation['id'])\n",
    "plt.title('Самые популярные вакансии Сбера в Москве')\n",
    "plt.xlabel('Количество')\n",
    "plt.ylabel('Вакансия')"
   ]
  }
 ],
 "metadata": {
  "kernelspec": {
   "display_name": "Python 3",
   "language": "python",
   "name": "python3"
  },
  "language_info": {
   "codemirror_mode": {
    "name": "ipython",
    "version": 3
   },
   "file_extension": ".py",
   "mimetype": "text/x-python",
   "name": "python",
   "nbconvert_exporter": "python",
   "pygments_lexer": "ipython3",
   "version": "3.8.8"
  },
  "toc": {
   "base_numbering": 1,
   "nav_menu": {},
   "number_sections": true,
   "sideBar": true,
   "skip_h1_title": false,
   "title_cell": "Table of Contents",
   "title_sidebar": "Contents",
   "toc_cell": true,
   "toc_position": {},
   "toc_section_display": true,
   "toc_window_display": false
  }
 },
 "nbformat": 4,
 "nbformat_minor": 4
}
